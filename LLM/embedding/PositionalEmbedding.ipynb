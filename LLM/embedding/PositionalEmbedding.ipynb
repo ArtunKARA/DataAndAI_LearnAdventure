{
 "cells": [
  {
   "cell_type": "code",
   "execution_count": 12,
   "id": "0bfdf905",
   "metadata": {},
   "outputs": [],
   "source": [
    "context_length = 32 # gpt-4o 128k, gemma-3-1b 32K"
   ]
  },
  {
   "cell_type": "code",
   "execution_count": 13,
   "id": "0afc35de",
   "metadata": {},
   "outputs": [],
   "source": [
    "from usta_model import UstaModel\n",
    "from usta_tokenizer import UstaTokenizer\n",
    "\n",
    "tokenizer = UstaTokenizer(\"tokenizer.json\")"
   ]
  },
  {
   "cell_type": "markdown",
   "id": "efe90bcd",
   "metadata": {},
   "source": [
    "# Emmbeding sözlük anlamlarının sayısal değerleri"
   ]
  },
  {
   "cell_type": "code",
   "execution_count": 14,
   "id": "6f653479",
   "metadata": {},
   "outputs": [],
   "source": [
    "the_1 = 0.1\n",
    "the_2 = 0.4\n",
    "the_3 = 0.0\n",
    "the_4 = 0.0\n",
    "\n",
    "capital_1 = 0.0\n",
    "capital_2 = 0.2\n",
    "capital_3 = 0.24\n",
    "capital_4 = 0.3\n",
    "\n",
    "of_1 = 0.10\n",
    "of_2 = 0.04\n",
    "of_3 = 0.02\n",
    "of_4 = 0.01\n",
    "\n",
    "united_1 = 0.30\n",
    "united_2 = 0.06\n",
    "united_3 = 0.03\n",
    "united_4 = 0.01"
   ]
  },
  {
   "cell_type": "code",
   "execution_count": 15,
   "id": "3cd323c0",
   "metadata": {},
   "outputs": [
    {
     "data": {
      "text/plain": [
       "([0.1, 0.0, 0.0, 0.0],\n",
       " [0.4, 0.2, 0.04, 0.3],\n",
       " [0.0, 0.24, 0.02, 0.01],\n",
       " [0.0, 0.0, 0.03, 0.01])"
      ]
     },
     "execution_count": 15,
     "metadata": {},
     "output_type": "execute_result"
    }
   ],
   "source": [
    "dict_v1 = [\n",
    "  [0.1, 0.0, 0.0, 0.0],\n",
    "  [0.4, 0.2, 0.04, 0.3],\n",
    "  [0.0, 0.24, 0.02, 0.01],\n",
    "  [0.0, 0.0, 0.03, 0.01],\n",
    "  [0.0, 0.0, 0.0, 0.0]\n",
    "]\n",
    "\n",
    "dict_v1[0], dict_v1[1], dict_v1[2], dict_v1[3]"
   ]
  },
  {
   "cell_type": "code",
   "execution_count": 16,
   "id": "3a5c65c2",
   "metadata": {},
   "outputs": [
    {
     "data": {
      "text/plain": [
       "([0.1, 0.0, 0.0, 0.0],\n",
       " [0.4, 0.2, 0.04, 0.3],\n",
       " [0.0, 0.24, 0.02, 0.01],\n",
       " [0.0, 0.0, 0.03, 0.01],\n",
       " [0.0, 0.0, 0.0, 0.0])"
      ]
     },
     "execution_count": 16,
     "metadata": {},
     "output_type": "execute_result"
    }
   ],
   "source": [
    "dict_v2 = {\n",
    "  \"the\": [0.1, 0.0, 0.0, 0.0],\n",
    "  \"capital\": [0.4, 0.2, 0.04, 0.3],\n",
    "  \"of\": [0.0, 0.24, 0.02, 0.01],\n",
    "  \"united\": [0.0, 0.0, 0.03, 0.01],\n",
    "  \"states\": [0.0, 0.0, 0.0, 0.0]\n",
    "}\n",
    "\n",
    "dict_v2[\"the\"], dict_v2[\"capital\"], dict_v2[\"of\"], dict_v2[\"united\"], dict_v2[\"states\"]"
   ]
  },
  {
   "cell_type": "code",
   "execution_count": 17,
   "id": "b3b48450",
   "metadata": {},
   "outputs": [],
   "source": [
    "import plotly.graph_objects as go\n",
    "import plotly.io as pio\n",
    "\n",
    "def plot_dots(sentences_data, title, dims=[0,1,2]):\n",
    "    traces = []\n",
    "    for s in sentences_data:\n",
    "        traces.append(\n",
    "            go.Scatter3d(\n",
    "                x=s[\"words\"][:, dims[0]],\n",
    "                y=s[\"words\"][:, dims[1]],\n",
    "                z=s[\"words\"][:, dims[2]],\n",
    "                mode=\"markers+text\",\n",
    "                marker=dict(size=6, color=s[\"color\"]),\n",
    "                text=s[\"labels\"],\n",
    "                hoverinfo=\"text\",\n",
    "            )\n",
    "        )\n",
    "\n",
    "    fig = go.Figure(\n",
    "        data=traces,\n",
    "        layout=go.Layout(\n",
    "            scene=dict(\n",
    "                xaxis_title=\"Sertlik\",\n",
    "                yaxis_title=\"Parlaklık\",\n",
    "                zaxis_title=\"Kırmızılık\",\n",
    "            ),\n",
    "            title=title,\n",
    "        ),\n",
    "    )\n",
    "    fig.show(config={\"displaylogo\": False})\n"
   ]
  },
  {
   "cell_type": "code",
   "execution_count": 18,
   "id": "6d8e329b",
   "metadata": {},
   "outputs": [
    {
     "data": {
      "application/vnd.plotly.v1+json": {
       "config": {
        "displaylogo": false,
        "plotlyServerURL": "https://plot.ly"
       },
       "data": [
        {
         "hoverinfo": "text",
         "marker": {
          "color": "red",
          "size": 6
         },
         "mode": "markers+text",
         "text": [
          "the",
          "capital",
          "of",
          "united",
          "states"
         ],
         "type": "scatter3d",
         "x": [
          0.1,
          0.4,
          0.12,
          0,
          0
         ],
         "y": [
          0.2,
          0.2,
          0.24,
          0,
          0
         ],
         "z": [
          0.23,
          0.04,
          0.2,
          0.3,
          0
         ]
        },
        {
         "hoverinfo": "text",
         "marker": {
          "color": "blue",
          "size": 6
         },
         "mode": "markers+text",
         "text": [
          "capital",
          "of",
          "united",
          "states"
         ],
         "type": "scatter3d",
         "x": [
          0.4,
          0.12,
          0,
          0
         ],
         "y": [
          0.2,
          0.24,
          0,
          0
         ],
         "z": [
          0.04,
          0.2,
          0.3,
          0
         ]
        }
       ],
       "layout": {
        "scene": {
         "xaxis": {
          "title": {
           "text": "Sertlik"
          }
         },
         "yaxis": {
          "title": {
           "text": "Parlaklık"
          }
         },
         "zaxis": {
          "title": {
           "text": "Kırmızılık"
          }
         }
        },
        "template": {
         "data": {
          "bar": [
           {
            "error_x": {
             "color": "#2a3f5f"
            },
            "error_y": {
             "color": "#2a3f5f"
            },
            "marker": {
             "line": {
              "color": "#E5ECF6",
              "width": 0.5
             },
             "pattern": {
              "fillmode": "overlay",
              "size": 10,
              "solidity": 0.2
             }
            },
            "type": "bar"
           }
          ],
          "barpolar": [
           {
            "marker": {
             "line": {
              "color": "#E5ECF6",
              "width": 0.5
             },
             "pattern": {
              "fillmode": "overlay",
              "size": 10,
              "solidity": 0.2
             }
            },
            "type": "barpolar"
           }
          ],
          "carpet": [
           {
            "aaxis": {
             "endlinecolor": "#2a3f5f",
             "gridcolor": "white",
             "linecolor": "white",
             "minorgridcolor": "white",
             "startlinecolor": "#2a3f5f"
            },
            "baxis": {
             "endlinecolor": "#2a3f5f",
             "gridcolor": "white",
             "linecolor": "white",
             "minorgridcolor": "white",
             "startlinecolor": "#2a3f5f"
            },
            "type": "carpet"
           }
          ],
          "choropleth": [
           {
            "colorbar": {
             "outlinewidth": 0,
             "ticks": ""
            },
            "type": "choropleth"
           }
          ],
          "contour": [
           {
            "colorbar": {
             "outlinewidth": 0,
             "ticks": ""
            },
            "colorscale": [
             [
              0,
              "#0d0887"
             ],
             [
              0.1111111111111111,
              "#46039f"
             ],
             [
              0.2222222222222222,
              "#7201a8"
             ],
             [
              0.3333333333333333,
              "#9c179e"
             ],
             [
              0.4444444444444444,
              "#bd3786"
             ],
             [
              0.5555555555555556,
              "#d8576b"
             ],
             [
              0.6666666666666666,
              "#ed7953"
             ],
             [
              0.7777777777777778,
              "#fb9f3a"
             ],
             [
              0.8888888888888888,
              "#fdca26"
             ],
             [
              1,
              "#f0f921"
             ]
            ],
            "type": "contour"
           }
          ],
          "contourcarpet": [
           {
            "colorbar": {
             "outlinewidth": 0,
             "ticks": ""
            },
            "type": "contourcarpet"
           }
          ],
          "heatmap": [
           {
            "colorbar": {
             "outlinewidth": 0,
             "ticks": ""
            },
            "colorscale": [
             [
              0,
              "#0d0887"
             ],
             [
              0.1111111111111111,
              "#46039f"
             ],
             [
              0.2222222222222222,
              "#7201a8"
             ],
             [
              0.3333333333333333,
              "#9c179e"
             ],
             [
              0.4444444444444444,
              "#bd3786"
             ],
             [
              0.5555555555555556,
              "#d8576b"
             ],
             [
              0.6666666666666666,
              "#ed7953"
             ],
             [
              0.7777777777777778,
              "#fb9f3a"
             ],
             [
              0.8888888888888888,
              "#fdca26"
             ],
             [
              1,
              "#f0f921"
             ]
            ],
            "type": "heatmap"
           }
          ],
          "heatmapgl": [
           {
            "colorbar": {
             "outlinewidth": 0,
             "ticks": ""
            },
            "colorscale": [
             [
              0,
              "#0d0887"
             ],
             [
              0.1111111111111111,
              "#46039f"
             ],
             [
              0.2222222222222222,
              "#7201a8"
             ],
             [
              0.3333333333333333,
              "#9c179e"
             ],
             [
              0.4444444444444444,
              "#bd3786"
             ],
             [
              0.5555555555555556,
              "#d8576b"
             ],
             [
              0.6666666666666666,
              "#ed7953"
             ],
             [
              0.7777777777777778,
              "#fb9f3a"
             ],
             [
              0.8888888888888888,
              "#fdca26"
             ],
             [
              1,
              "#f0f921"
             ]
            ],
            "type": "heatmapgl"
           }
          ],
          "histogram": [
           {
            "marker": {
             "pattern": {
              "fillmode": "overlay",
              "size": 10,
              "solidity": 0.2
             }
            },
            "type": "histogram"
           }
          ],
          "histogram2d": [
           {
            "colorbar": {
             "outlinewidth": 0,
             "ticks": ""
            },
            "colorscale": [
             [
              0,
              "#0d0887"
             ],
             [
              0.1111111111111111,
              "#46039f"
             ],
             [
              0.2222222222222222,
              "#7201a8"
             ],
             [
              0.3333333333333333,
              "#9c179e"
             ],
             [
              0.4444444444444444,
              "#bd3786"
             ],
             [
              0.5555555555555556,
              "#d8576b"
             ],
             [
              0.6666666666666666,
              "#ed7953"
             ],
             [
              0.7777777777777778,
              "#fb9f3a"
             ],
             [
              0.8888888888888888,
              "#fdca26"
             ],
             [
              1,
              "#f0f921"
             ]
            ],
            "type": "histogram2d"
           }
          ],
          "histogram2dcontour": [
           {
            "colorbar": {
             "outlinewidth": 0,
             "ticks": ""
            },
            "colorscale": [
             [
              0,
              "#0d0887"
             ],
             [
              0.1111111111111111,
              "#46039f"
             ],
             [
              0.2222222222222222,
              "#7201a8"
             ],
             [
              0.3333333333333333,
              "#9c179e"
             ],
             [
              0.4444444444444444,
              "#bd3786"
             ],
             [
              0.5555555555555556,
              "#d8576b"
             ],
             [
              0.6666666666666666,
              "#ed7953"
             ],
             [
              0.7777777777777778,
              "#fb9f3a"
             ],
             [
              0.8888888888888888,
              "#fdca26"
             ],
             [
              1,
              "#f0f921"
             ]
            ],
            "type": "histogram2dcontour"
           }
          ],
          "mesh3d": [
           {
            "colorbar": {
             "outlinewidth": 0,
             "ticks": ""
            },
            "type": "mesh3d"
           }
          ],
          "parcoords": [
           {
            "line": {
             "colorbar": {
              "outlinewidth": 0,
              "ticks": ""
             }
            },
            "type": "parcoords"
           }
          ],
          "pie": [
           {
            "automargin": true,
            "type": "pie"
           }
          ],
          "scatter": [
           {
            "fillpattern": {
             "fillmode": "overlay",
             "size": 10,
             "solidity": 0.2
            },
            "type": "scatter"
           }
          ],
          "scatter3d": [
           {
            "line": {
             "colorbar": {
              "outlinewidth": 0,
              "ticks": ""
             }
            },
            "marker": {
             "colorbar": {
              "outlinewidth": 0,
              "ticks": ""
             }
            },
            "type": "scatter3d"
           }
          ],
          "scattercarpet": [
           {
            "marker": {
             "colorbar": {
              "outlinewidth": 0,
              "ticks": ""
             }
            },
            "type": "scattercarpet"
           }
          ],
          "scattergeo": [
           {
            "marker": {
             "colorbar": {
              "outlinewidth": 0,
              "ticks": ""
             }
            },
            "type": "scattergeo"
           }
          ],
          "scattergl": [
           {
            "marker": {
             "colorbar": {
              "outlinewidth": 0,
              "ticks": ""
             }
            },
            "type": "scattergl"
           }
          ],
          "scattermapbox": [
           {
            "marker": {
             "colorbar": {
              "outlinewidth": 0,
              "ticks": ""
             }
            },
            "type": "scattermapbox"
           }
          ],
          "scatterpolar": [
           {
            "marker": {
             "colorbar": {
              "outlinewidth": 0,
              "ticks": ""
             }
            },
            "type": "scatterpolar"
           }
          ],
          "scatterpolargl": [
           {
            "marker": {
             "colorbar": {
              "outlinewidth": 0,
              "ticks": ""
             }
            },
            "type": "scatterpolargl"
           }
          ],
          "scatterternary": [
           {
            "marker": {
             "colorbar": {
              "outlinewidth": 0,
              "ticks": ""
             }
            },
            "type": "scatterternary"
           }
          ],
          "surface": [
           {
            "colorbar": {
             "outlinewidth": 0,
             "ticks": ""
            },
            "colorscale": [
             [
              0,
              "#0d0887"
             ],
             [
              0.1111111111111111,
              "#46039f"
             ],
             [
              0.2222222222222222,
              "#7201a8"
             ],
             [
              0.3333333333333333,
              "#9c179e"
             ],
             [
              0.4444444444444444,
              "#bd3786"
             ],
             [
              0.5555555555555556,
              "#d8576b"
             ],
             [
              0.6666666666666666,
              "#ed7953"
             ],
             [
              0.7777777777777778,
              "#fb9f3a"
             ],
             [
              0.8888888888888888,
              "#fdca26"
             ],
             [
              1,
              "#f0f921"
             ]
            ],
            "type": "surface"
           }
          ],
          "table": [
           {
            "cells": {
             "fill": {
              "color": "#EBF0F8"
             },
             "line": {
              "color": "white"
             }
            },
            "header": {
             "fill": {
              "color": "#C8D4E3"
             },
             "line": {
              "color": "white"
             }
            },
            "type": "table"
           }
          ]
         },
         "layout": {
          "annotationdefaults": {
           "arrowcolor": "#2a3f5f",
           "arrowhead": 0,
           "arrowwidth": 1
          },
          "autotypenumbers": "strict",
          "coloraxis": {
           "colorbar": {
            "outlinewidth": 0,
            "ticks": ""
           }
          },
          "colorscale": {
           "diverging": [
            [
             0,
             "#8e0152"
            ],
            [
             0.1,
             "#c51b7d"
            ],
            [
             0.2,
             "#de77ae"
            ],
            [
             0.3,
             "#f1b6da"
            ],
            [
             0.4,
             "#fde0ef"
            ],
            [
             0.5,
             "#f7f7f7"
            ],
            [
             0.6,
             "#e6f5d0"
            ],
            [
             0.7,
             "#b8e186"
            ],
            [
             0.8,
             "#7fbc41"
            ],
            [
             0.9,
             "#4d9221"
            ],
            [
             1,
             "#276419"
            ]
           ],
           "sequential": [
            [
             0,
             "#0d0887"
            ],
            [
             0.1111111111111111,
             "#46039f"
            ],
            [
             0.2222222222222222,
             "#7201a8"
            ],
            [
             0.3333333333333333,
             "#9c179e"
            ],
            [
             0.4444444444444444,
             "#bd3786"
            ],
            [
             0.5555555555555556,
             "#d8576b"
            ],
            [
             0.6666666666666666,
             "#ed7953"
            ],
            [
             0.7777777777777778,
             "#fb9f3a"
            ],
            [
             0.8888888888888888,
             "#fdca26"
            ],
            [
             1,
             "#f0f921"
            ]
           ],
           "sequentialminus": [
            [
             0,
             "#0d0887"
            ],
            [
             0.1111111111111111,
             "#46039f"
            ],
            [
             0.2222222222222222,
             "#7201a8"
            ],
            [
             0.3333333333333333,
             "#9c179e"
            ],
            [
             0.4444444444444444,
             "#bd3786"
            ],
            [
             0.5555555555555556,
             "#d8576b"
            ],
            [
             0.6666666666666666,
             "#ed7953"
            ],
            [
             0.7777777777777778,
             "#fb9f3a"
            ],
            [
             0.8888888888888888,
             "#fdca26"
            ],
            [
             1,
             "#f0f921"
            ]
           ]
          },
          "colorway": [
           "#636efa",
           "#EF553B",
           "#00cc96",
           "#ab63fa",
           "#FFA15A",
           "#19d3f3",
           "#FF6692",
           "#B6E880",
           "#FF97FF",
           "#FECB52"
          ],
          "font": {
           "color": "#2a3f5f"
          },
          "geo": {
           "bgcolor": "white",
           "lakecolor": "white",
           "landcolor": "#E5ECF6",
           "showlakes": true,
           "showland": true,
           "subunitcolor": "white"
          },
          "hoverlabel": {
           "align": "left"
          },
          "hovermode": "closest",
          "mapbox": {
           "style": "light"
          },
          "paper_bgcolor": "white",
          "plot_bgcolor": "#E5ECF6",
          "polar": {
           "angularaxis": {
            "gridcolor": "white",
            "linecolor": "white",
            "ticks": ""
           },
           "bgcolor": "#E5ECF6",
           "radialaxis": {
            "gridcolor": "white",
            "linecolor": "white",
            "ticks": ""
           }
          },
          "scene": {
           "xaxis": {
            "backgroundcolor": "#E5ECF6",
            "gridcolor": "white",
            "gridwidth": 2,
            "linecolor": "white",
            "showbackground": true,
            "ticks": "",
            "zerolinecolor": "white"
           },
           "yaxis": {
            "backgroundcolor": "#E5ECF6",
            "gridcolor": "white",
            "gridwidth": 2,
            "linecolor": "white",
            "showbackground": true,
            "ticks": "",
            "zerolinecolor": "white"
           },
           "zaxis": {
            "backgroundcolor": "#E5ECF6",
            "gridcolor": "white",
            "gridwidth": 2,
            "linecolor": "white",
            "showbackground": true,
            "ticks": "",
            "zerolinecolor": "white"
           }
          },
          "shapedefaults": {
           "line": {
            "color": "#2a3f5f"
           }
          },
          "ternary": {
           "aaxis": {
            "gridcolor": "white",
            "linecolor": "white",
            "ticks": ""
           },
           "baxis": {
            "gridcolor": "white",
            "linecolor": "white",
            "ticks": ""
           },
           "bgcolor": "#E5ECF6",
           "caxis": {
            "gridcolor": "white",
            "linecolor": "white",
            "ticks": ""
           }
          },
          "title": {
           "x": 0.05
          },
          "xaxis": {
           "automargin": true,
           "gridcolor": "white",
           "linecolor": "white",
           "ticks": "",
           "title": {
            "standoff": 15
           },
           "zerolinecolor": "white",
           "zerolinewidth": 2
          },
          "yaxis": {
           "automargin": true,
           "gridcolor": "white",
           "linecolor": "white",
           "ticks": "",
           "title": {
            "standoff": 15
           },
           "zerolinecolor": "white",
           "zerolinewidth": 2
          }
         }
        },
        "title": {
         "text": "Sözlük V1"
        }
       }
      }
     },
     "metadata": {},
     "output_type": "display_data"
    }
   ],
   "source": [
    "import numpy as np\n",
    "\n",
    "sentences = [\n",
    "  {\n",
    "    \"words\": np.array([\n",
    "      [0.1, 0.20, 0.23, 0.0],\n",
    "      [0.4, 0.2, 0.04, 0.3],\n",
    "      [0.12, 0.24, 0.2, 0.01],\n",
    "      [0.0, 0.0, 0.3, 0.01],\n",
    "      [0.0, 0.0, 0.0, 0.0]\n",
    "    ]),\n",
    "    \"labels\": [\"the\", \"capital\", \"of\", \"united\", \"states\"],\n",
    "    \"color\": \"red\",\n",
    "  },\n",
    "  {\n",
    "    \"words\": np.array([\n",
    "      [0.4, 0.2, 0.04, 0.3],\n",
    "      [0.12, 0.24, 0.2, 0.01],\n",
    "      [0.0, 0.0, 0.3, 0.01],\n",
    "      [0.0, 0.0, 0.0, 0.0]\n",
    "    ]),\n",
    "    \"labels\": [\"capital\", \"of\", \"united\", \"states\"],\n",
    "    \"color\": \"blue\",\n",
    "  }\n",
    "]\n",
    "\n",
    "plot_dots(sentences, \"Sözlük V1\")"
   ]
  },
  {
   "cell_type": "code",
   "execution_count": 19,
   "id": "e0fd56e0",
   "metadata": {},
   "outputs": [],
   "source": [
    "\n",
    "import torch\n",
    "\n",
    "torch.manual_seed(1)\n",
    "embeddings = torch.nn.Embedding(num_embeddings=64, embedding_dim=4)"
   ]
  },
  {
   "cell_type": "code",
   "execution_count": 20,
   "id": "cb4a6ee5",
   "metadata": {},
   "outputs": [],
   "source": [
    "sentence = \"the capital of united states and the capital of france\""
   ]
  },
  {
   "cell_type": "code",
   "execution_count": 21,
   "id": "d25e68b1",
   "metadata": {},
   "outputs": [],
   "source": [
    "sentence1 = \"the dog chased the cat\"\n",
    "sentence2 = \"the cat chased the dog\""
   ]
  },
  {
   "cell_type": "code",
   "execution_count": 22,
   "id": "53bf3677",
   "metadata": {},
   "outputs": [
    {
     "name": "stderr",
     "output_type": "stream",
     "text": [
      "C:\\Users\\Artun\\AppData\\Local\\Temp\\ipykernel_28456\\3395096202.py:2: UserWarning:\n",
      "\n",
      "To copy construct from a tensor, it is recommended to use sourceTensor.detach().clone() or sourceTensor.detach().clone().requires_grad_(True), rather than torch.tensor(sourceTensor).\n",
      "\n"
     ]
    },
    {
     "data": {
      "text/plain": [
       "torch.Size([20])"
      ]
     },
     "execution_count": 22,
     "metadata": {},
     "output_type": "execute_result"
    }
   ],
   "source": [
    "tokens = tokenizer.encode(sentence)\n",
    "tokens = torch.tensor(tokens)\n",
    "tokens.shape"
   ]
  },
  {
   "cell_type": "code",
   "execution_count": 23,
   "id": "2fee7805",
   "metadata": {},
   "outputs": [
    {
     "name": "stderr",
     "output_type": "stream",
     "text": [
      "C:\\Users\\Artun\\AppData\\Local\\Temp\\ipykernel_28456\\2280836142.py:1: UserWarning:\n",
      "\n",
      "To copy construct from a tensor, it is recommended to use sourceTensor.detach().clone() or sourceTensor.detach().clone().requires_grad_(True), rather than torch.tensor(sourceTensor).\n",
      "\n"
     ]
    },
    {
     "data": {
      "text/plain": [
       "tensor([[-1.5256e+00, -7.5023e-01, -6.5398e-01, -1.6095e+00],\n",
       "        [-7.4484e-01, -2.0216e-01, -2.2967e-01,  1.3313e-03],\n",
       "        [-1.0017e-01, -6.0919e-01, -9.7977e-01, -1.6091e+00],\n",
       "        [-7.4484e-01, -2.0216e-01, -2.2967e-01,  1.3313e-03],\n",
       "        [-7.1214e-01,  3.0372e-01, -7.7731e-01, -2.5146e-01],\n",
       "        [-7.4484e-01, -2.0216e-01, -2.2967e-01,  1.3313e-03],\n",
       "        [-2.2227e-01,  1.6871e+00,  2.2843e-01,  4.6764e-01],\n",
       "        [-7.4484e-01, -2.0216e-01, -2.2967e-01,  1.3313e-03],\n",
       "        [-6.9697e-01, -1.1608e+00,  6.9954e-01,  1.9908e-01],\n",
       "        [-7.9829e-02,  3.4172e-01,  9.4883e-01, -1.3839e+00],\n",
       "        [-7.4484e-01, -2.0216e-01, -2.2967e-01,  1.3313e-03],\n",
       "        [-1.1102e-01,  2.9274e-01, -1.5785e-01, -2.8787e-02],\n",
       "        [-7.4484e-01, -2.0216e-01, -2.2967e-01,  1.3313e-03],\n",
       "        [-1.5256e+00, -7.5023e-01, -6.5398e-01, -1.6095e+00],\n",
       "        [-7.4484e-01, -2.0216e-01, -2.2967e-01,  1.3313e-03],\n",
       "        [-1.0017e-01, -6.0919e-01, -9.7977e-01, -1.6091e+00],\n",
       "        [-7.4484e-01, -2.0216e-01, -2.2967e-01,  1.3313e-03],\n",
       "        [-7.1214e-01,  3.0372e-01, -7.7731e-01, -2.5146e-01],\n",
       "        [-7.4484e-01, -2.0216e-01, -2.2967e-01,  1.3313e-03],\n",
       "        [ 1.8793e+00, -7.2132e-02,  1.5777e-01, -7.7345e-01]],\n",
       "       grad_fn=<EmbeddingBackward0>)"
      ]
     },
     "execution_count": 23,
     "metadata": {},
     "output_type": "execute_result"
    }
   ],
   "source": [
    "meanings = embeddings(torch.tensor(tokens))\n",
    "meanings"
   ]
  },
  {
   "cell_type": "code",
   "execution_count": 24,
   "id": "37da1fb4",
   "metadata": {},
   "outputs": [
    {
     "data": {
      "application/vnd.plotly.v1+json": {
       "config": {
        "displaylogo": false,
        "plotlyServerURL": "https://plot.ly"
       },
       "data": [
        {
         "hoverinfo": "text",
         "marker": {
          "color": "red",
          "size": 6
         },
         "mode": "markers+text",
         "text": [
          "the",
          " ",
          "capital",
          " ",
          "of",
          " ",
          "united",
          " ",
          "state",
          "s",
          " ",
          "and",
          " ",
          "the",
          " ",
          "capital",
          " ",
          "of",
          " ",
          "france"
         ],
         "type": "scatter3d",
         "x": [
          -1.5255959033966064,
          -0.7448408007621765,
          -0.1001671776175499,
          -0.7448408007621765,
          -0.7121446132659912,
          -0.7448408007621765,
          -0.22227048873901367,
          -0.7448408007621765,
          -0.6969724297523499,
          -0.07982871681451797,
          -0.7448408007621765,
          -0.11101982742547989,
          -0.7448408007621765,
          -1.5255959033966064,
          -0.7448408007621765,
          -0.1001671776175499,
          -0.7448408007621765,
          -0.7121446132659912,
          -0.7448408007621765,
          1.8793457746505737
         ],
         "y": [
          -0.7502318024635315,
          -0.20215721428394318,
          -0.6091889142990112,
          -0.20215721428394318,
          0.30372199416160583,
          -0.20215721428394318,
          1.6871134042739868,
          -0.20215721428394318,
          -1.1607614755630493,
          0.34172430634498596,
          -0.20215721428394318,
          0.2927352488040924,
          -0.20215721428394318,
          -0.7502318024635315,
          -0.20215721428394318,
          -0.6091889142990112,
          -0.20215721428394318,
          0.30372199416160583,
          -0.20215721428394318,
          -0.07213178277015686
         ],
         "z": [
          -0.6539809107780457,
          -0.22966790199279785,
          -0.9797722697257996,
          -0.22966790199279785,
          -0.777314305305481,
          -0.22966790199279785,
          0.22842517495155334,
          -0.22966790199279785,
          0.6995424032211304,
          0.94882732629776,
          -0.22966790199279785,
          -0.1578451544046402,
          -0.22966790199279785,
          -0.6539809107780457,
          -0.22966790199279785,
          -0.9797722697257996,
          -0.22966790199279785,
          -0.777314305305481,
          -0.22966790199279785,
          0.15777060389518738
         ]
        }
       ],
       "layout": {
        "scene": {
         "xaxis": {
          "title": {
           "text": "Sertlik"
          }
         },
         "yaxis": {
          "title": {
           "text": "Parlaklık"
          }
         },
         "zaxis": {
          "title": {
           "text": "Kırmızılık"
          }
         }
        },
        "template": {
         "data": {
          "bar": [
           {
            "error_x": {
             "color": "#2a3f5f"
            },
            "error_y": {
             "color": "#2a3f5f"
            },
            "marker": {
             "line": {
              "color": "#E5ECF6",
              "width": 0.5
             },
             "pattern": {
              "fillmode": "overlay",
              "size": 10,
              "solidity": 0.2
             }
            },
            "type": "bar"
           }
          ],
          "barpolar": [
           {
            "marker": {
             "line": {
              "color": "#E5ECF6",
              "width": 0.5
             },
             "pattern": {
              "fillmode": "overlay",
              "size": 10,
              "solidity": 0.2
             }
            },
            "type": "barpolar"
           }
          ],
          "carpet": [
           {
            "aaxis": {
             "endlinecolor": "#2a3f5f",
             "gridcolor": "white",
             "linecolor": "white",
             "minorgridcolor": "white",
             "startlinecolor": "#2a3f5f"
            },
            "baxis": {
             "endlinecolor": "#2a3f5f",
             "gridcolor": "white",
             "linecolor": "white",
             "minorgridcolor": "white",
             "startlinecolor": "#2a3f5f"
            },
            "type": "carpet"
           }
          ],
          "choropleth": [
           {
            "colorbar": {
             "outlinewidth": 0,
             "ticks": ""
            },
            "type": "choropleth"
           }
          ],
          "contour": [
           {
            "colorbar": {
             "outlinewidth": 0,
             "ticks": ""
            },
            "colorscale": [
             [
              0,
              "#0d0887"
             ],
             [
              0.1111111111111111,
              "#46039f"
             ],
             [
              0.2222222222222222,
              "#7201a8"
             ],
             [
              0.3333333333333333,
              "#9c179e"
             ],
             [
              0.4444444444444444,
              "#bd3786"
             ],
             [
              0.5555555555555556,
              "#d8576b"
             ],
             [
              0.6666666666666666,
              "#ed7953"
             ],
             [
              0.7777777777777778,
              "#fb9f3a"
             ],
             [
              0.8888888888888888,
              "#fdca26"
             ],
             [
              1,
              "#f0f921"
             ]
            ],
            "type": "contour"
           }
          ],
          "contourcarpet": [
           {
            "colorbar": {
             "outlinewidth": 0,
             "ticks": ""
            },
            "type": "contourcarpet"
           }
          ],
          "heatmap": [
           {
            "colorbar": {
             "outlinewidth": 0,
             "ticks": ""
            },
            "colorscale": [
             [
              0,
              "#0d0887"
             ],
             [
              0.1111111111111111,
              "#46039f"
             ],
             [
              0.2222222222222222,
              "#7201a8"
             ],
             [
              0.3333333333333333,
              "#9c179e"
             ],
             [
              0.4444444444444444,
              "#bd3786"
             ],
             [
              0.5555555555555556,
              "#d8576b"
             ],
             [
              0.6666666666666666,
              "#ed7953"
             ],
             [
              0.7777777777777778,
              "#fb9f3a"
             ],
             [
              0.8888888888888888,
              "#fdca26"
             ],
             [
              1,
              "#f0f921"
             ]
            ],
            "type": "heatmap"
           }
          ],
          "heatmapgl": [
           {
            "colorbar": {
             "outlinewidth": 0,
             "ticks": ""
            },
            "colorscale": [
             [
              0,
              "#0d0887"
             ],
             [
              0.1111111111111111,
              "#46039f"
             ],
             [
              0.2222222222222222,
              "#7201a8"
             ],
             [
              0.3333333333333333,
              "#9c179e"
             ],
             [
              0.4444444444444444,
              "#bd3786"
             ],
             [
              0.5555555555555556,
              "#d8576b"
             ],
             [
              0.6666666666666666,
              "#ed7953"
             ],
             [
              0.7777777777777778,
              "#fb9f3a"
             ],
             [
              0.8888888888888888,
              "#fdca26"
             ],
             [
              1,
              "#f0f921"
             ]
            ],
            "type": "heatmapgl"
           }
          ],
          "histogram": [
           {
            "marker": {
             "pattern": {
              "fillmode": "overlay",
              "size": 10,
              "solidity": 0.2
             }
            },
            "type": "histogram"
           }
          ],
          "histogram2d": [
           {
            "colorbar": {
             "outlinewidth": 0,
             "ticks": ""
            },
            "colorscale": [
             [
              0,
              "#0d0887"
             ],
             [
              0.1111111111111111,
              "#46039f"
             ],
             [
              0.2222222222222222,
              "#7201a8"
             ],
             [
              0.3333333333333333,
              "#9c179e"
             ],
             [
              0.4444444444444444,
              "#bd3786"
             ],
             [
              0.5555555555555556,
              "#d8576b"
             ],
             [
              0.6666666666666666,
              "#ed7953"
             ],
             [
              0.7777777777777778,
              "#fb9f3a"
             ],
             [
              0.8888888888888888,
              "#fdca26"
             ],
             [
              1,
              "#f0f921"
             ]
            ],
            "type": "histogram2d"
           }
          ],
          "histogram2dcontour": [
           {
            "colorbar": {
             "outlinewidth": 0,
             "ticks": ""
            },
            "colorscale": [
             [
              0,
              "#0d0887"
             ],
             [
              0.1111111111111111,
              "#46039f"
             ],
             [
              0.2222222222222222,
              "#7201a8"
             ],
             [
              0.3333333333333333,
              "#9c179e"
             ],
             [
              0.4444444444444444,
              "#bd3786"
             ],
             [
              0.5555555555555556,
              "#d8576b"
             ],
             [
              0.6666666666666666,
              "#ed7953"
             ],
             [
              0.7777777777777778,
              "#fb9f3a"
             ],
             [
              0.8888888888888888,
              "#fdca26"
             ],
             [
              1,
              "#f0f921"
             ]
            ],
            "type": "histogram2dcontour"
           }
          ],
          "mesh3d": [
           {
            "colorbar": {
             "outlinewidth": 0,
             "ticks": ""
            },
            "type": "mesh3d"
           }
          ],
          "parcoords": [
           {
            "line": {
             "colorbar": {
              "outlinewidth": 0,
              "ticks": ""
             }
            },
            "type": "parcoords"
           }
          ],
          "pie": [
           {
            "automargin": true,
            "type": "pie"
           }
          ],
          "scatter": [
           {
            "fillpattern": {
             "fillmode": "overlay",
             "size": 10,
             "solidity": 0.2
            },
            "type": "scatter"
           }
          ],
          "scatter3d": [
           {
            "line": {
             "colorbar": {
              "outlinewidth": 0,
              "ticks": ""
             }
            },
            "marker": {
             "colorbar": {
              "outlinewidth": 0,
              "ticks": ""
             }
            },
            "type": "scatter3d"
           }
          ],
          "scattercarpet": [
           {
            "marker": {
             "colorbar": {
              "outlinewidth": 0,
              "ticks": ""
             }
            },
            "type": "scattercarpet"
           }
          ],
          "scattergeo": [
           {
            "marker": {
             "colorbar": {
              "outlinewidth": 0,
              "ticks": ""
             }
            },
            "type": "scattergeo"
           }
          ],
          "scattergl": [
           {
            "marker": {
             "colorbar": {
              "outlinewidth": 0,
              "ticks": ""
             }
            },
            "type": "scattergl"
           }
          ],
          "scattermapbox": [
           {
            "marker": {
             "colorbar": {
              "outlinewidth": 0,
              "ticks": ""
             }
            },
            "type": "scattermapbox"
           }
          ],
          "scatterpolar": [
           {
            "marker": {
             "colorbar": {
              "outlinewidth": 0,
              "ticks": ""
             }
            },
            "type": "scatterpolar"
           }
          ],
          "scatterpolargl": [
           {
            "marker": {
             "colorbar": {
              "outlinewidth": 0,
              "ticks": ""
             }
            },
            "type": "scatterpolargl"
           }
          ],
          "scatterternary": [
           {
            "marker": {
             "colorbar": {
              "outlinewidth": 0,
              "ticks": ""
             }
            },
            "type": "scatterternary"
           }
          ],
          "surface": [
           {
            "colorbar": {
             "outlinewidth": 0,
             "ticks": ""
            },
            "colorscale": [
             [
              0,
              "#0d0887"
             ],
             [
              0.1111111111111111,
              "#46039f"
             ],
             [
              0.2222222222222222,
              "#7201a8"
             ],
             [
              0.3333333333333333,
              "#9c179e"
             ],
             [
              0.4444444444444444,
              "#bd3786"
             ],
             [
              0.5555555555555556,
              "#d8576b"
             ],
             [
              0.6666666666666666,
              "#ed7953"
             ],
             [
              0.7777777777777778,
              "#fb9f3a"
             ],
             [
              0.8888888888888888,
              "#fdca26"
             ],
             [
              1,
              "#f0f921"
             ]
            ],
            "type": "surface"
           }
          ],
          "table": [
           {
            "cells": {
             "fill": {
              "color": "#EBF0F8"
             },
             "line": {
              "color": "white"
             }
            },
            "header": {
             "fill": {
              "color": "#C8D4E3"
             },
             "line": {
              "color": "white"
             }
            },
            "type": "table"
           }
          ]
         },
         "layout": {
          "annotationdefaults": {
           "arrowcolor": "#2a3f5f",
           "arrowhead": 0,
           "arrowwidth": 1
          },
          "autotypenumbers": "strict",
          "coloraxis": {
           "colorbar": {
            "outlinewidth": 0,
            "ticks": ""
           }
          },
          "colorscale": {
           "diverging": [
            [
             0,
             "#8e0152"
            ],
            [
             0.1,
             "#c51b7d"
            ],
            [
             0.2,
             "#de77ae"
            ],
            [
             0.3,
             "#f1b6da"
            ],
            [
             0.4,
             "#fde0ef"
            ],
            [
             0.5,
             "#f7f7f7"
            ],
            [
             0.6,
             "#e6f5d0"
            ],
            [
             0.7,
             "#b8e186"
            ],
            [
             0.8,
             "#7fbc41"
            ],
            [
             0.9,
             "#4d9221"
            ],
            [
             1,
             "#276419"
            ]
           ],
           "sequential": [
            [
             0,
             "#0d0887"
            ],
            [
             0.1111111111111111,
             "#46039f"
            ],
            [
             0.2222222222222222,
             "#7201a8"
            ],
            [
             0.3333333333333333,
             "#9c179e"
            ],
            [
             0.4444444444444444,
             "#bd3786"
            ],
            [
             0.5555555555555556,
             "#d8576b"
            ],
            [
             0.6666666666666666,
             "#ed7953"
            ],
            [
             0.7777777777777778,
             "#fb9f3a"
            ],
            [
             0.8888888888888888,
             "#fdca26"
            ],
            [
             1,
             "#f0f921"
            ]
           ],
           "sequentialminus": [
            [
             0,
             "#0d0887"
            ],
            [
             0.1111111111111111,
             "#46039f"
            ],
            [
             0.2222222222222222,
             "#7201a8"
            ],
            [
             0.3333333333333333,
             "#9c179e"
            ],
            [
             0.4444444444444444,
             "#bd3786"
            ],
            [
             0.5555555555555556,
             "#d8576b"
            ],
            [
             0.6666666666666666,
             "#ed7953"
            ],
            [
             0.7777777777777778,
             "#fb9f3a"
            ],
            [
             0.8888888888888888,
             "#fdca26"
            ],
            [
             1,
             "#f0f921"
            ]
           ]
          },
          "colorway": [
           "#636efa",
           "#EF553B",
           "#00cc96",
           "#ab63fa",
           "#FFA15A",
           "#19d3f3",
           "#FF6692",
           "#B6E880",
           "#FF97FF",
           "#FECB52"
          ],
          "font": {
           "color": "#2a3f5f"
          },
          "geo": {
           "bgcolor": "white",
           "lakecolor": "white",
           "landcolor": "#E5ECF6",
           "showlakes": true,
           "showland": true,
           "subunitcolor": "white"
          },
          "hoverlabel": {
           "align": "left"
          },
          "hovermode": "closest",
          "mapbox": {
           "style": "light"
          },
          "paper_bgcolor": "white",
          "plot_bgcolor": "#E5ECF6",
          "polar": {
           "angularaxis": {
            "gridcolor": "white",
            "linecolor": "white",
            "ticks": ""
           },
           "bgcolor": "#E5ECF6",
           "radialaxis": {
            "gridcolor": "white",
            "linecolor": "white",
            "ticks": ""
           }
          },
          "scene": {
           "xaxis": {
            "backgroundcolor": "#E5ECF6",
            "gridcolor": "white",
            "gridwidth": 2,
            "linecolor": "white",
            "showbackground": true,
            "ticks": "",
            "zerolinecolor": "white"
           },
           "yaxis": {
            "backgroundcolor": "#E5ECF6",
            "gridcolor": "white",
            "gridwidth": 2,
            "linecolor": "white",
            "showbackground": true,
            "ticks": "",
            "zerolinecolor": "white"
           },
           "zaxis": {
            "backgroundcolor": "#E5ECF6",
            "gridcolor": "white",
            "gridwidth": 2,
            "linecolor": "white",
            "showbackground": true,
            "ticks": "",
            "zerolinecolor": "white"
           }
          },
          "shapedefaults": {
           "line": {
            "color": "#2a3f5f"
           }
          },
          "ternary": {
           "aaxis": {
            "gridcolor": "white",
            "linecolor": "white",
            "ticks": ""
           },
           "baxis": {
            "gridcolor": "white",
            "linecolor": "white",
            "ticks": ""
           },
           "bgcolor": "#E5ECF6",
           "caxis": {
            "gridcolor": "white",
            "linecolor": "white",
            "ticks": ""
           }
          },
          "title": {
           "x": 0.05
          },
          "xaxis": {
           "automargin": true,
           "gridcolor": "white",
           "linecolor": "white",
           "ticks": "",
           "title": {
            "standoff": 15
           },
           "zerolinecolor": "white",
           "zerolinewidth": 2
          },
          "yaxis": {
           "automargin": true,
           "gridcolor": "white",
           "linecolor": "white",
           "ticks": "",
           "title": {
            "standoff": 15
           },
           "zerolinecolor": "white",
           "zerolinewidth": 2
          }
         }
        },
        "title": {
         "text": "Sözlük V1"
        }
       }
      }
     },
     "metadata": {},
     "output_type": "display_data"
    }
   ],
   "source": [
    "sentences = [\n",
    "  {\n",
    "    \"words\": meanings.detach().numpy(),\n",
    "    \"labels\": tokenizer.tokenize(sentence),\n",
    "    \"color\": \"red\",\n",
    "  },\n",
    "]\n",
    "plot_dots(sentences, \"Sözlük V1\")"
   ]
  },
  {
   "cell_type": "code",
   "execution_count": 25,
   "id": "aa57d18c",
   "metadata": {},
   "outputs": [
    {
     "data": {
      "text/plain": [
       "torch.Size([20, 4])"
      ]
     },
     "execution_count": 25,
     "metadata": {},
     "output_type": "execute_result"
    }
   ],
   "source": [
    "# sentence context space\n",
    "\n",
    "torch.manual_seed(1)\n",
    "pos_embeddings = torch.nn.Embedding(num_embeddings=context_length, embedding_dim=4)\n",
    "\n",
    "pos_meanings = pos_embeddings(torch.tensor([i for i in range(tokens.shape[0])]))\n",
    "\n",
    "pos_meanings.shape"
   ]
  },
  {
   "cell_type": "code",
   "execution_count": 26,
   "id": "e2e03f6d",
   "metadata": {},
   "outputs": [
    {
     "data": {
      "text/plain": [
       "torch.Size([20, 4])"
      ]
     },
     "execution_count": 26,
     "metadata": {},
     "output_type": "execute_result"
    }
   ],
   "source": [
    "meanings_in_context = meanings + pos_meanings\n",
    "meanings_in_context.shape"
   ]
  },
  {
   "cell_type": "code",
   "execution_count": 27,
   "id": "b9525f7e",
   "metadata": {},
   "outputs": [
    {
     "data": {
      "application/vnd.plotly.v1+json": {
       "config": {
        "displaylogo": false,
        "plotlyServerURL": "https://plot.ly"
       },
       "data": [
        {
         "hoverinfo": "text",
         "marker": {
          "color": "red",
          "size": 6
         },
         "mode": "markers+text",
         "text": [
          "the",
          " ",
          "capital",
          " ",
          "of",
          " ",
          "united",
          " ",
          "state",
          "s",
          " ",
          "and",
          " ",
          "the",
          " ",
          "capital",
          " ",
          "of",
          " ",
          "france"
         ],
         "type": "scatter3d",
         "x": [
          -3.051191806793213,
          -0.8450079560279846,
          -0.8123117685317993,
          -0.9671112895011902,
          -1.4091169834136963,
          0.12085157632827759,
          0.8794101476669312,
          -0.6836855411529541,
          1.182373285293579,
          0.11922778934240341,
          -0.8558606505393982,
          2.24609112739563,
          -1.6722325086593628,
          -0.7629953026771545,
          -0.6074283123016357,
          1.439078688621521,
          -0.7703432440757751,
          -0.9227509498596191,
          -1.4487974643707275,
          1.4183237552642822
         ],
         "y": [
          -1.500463604927063,
          -0.8113461136817932,
          -0.3054669201374054,
          1.48495614528656,
          -0.8570394515991211,
          0.04224671423435211,
          1.5111773014068604,
          -0.819901704788208,
          -1.2328932285308838,
          0.38742709159851074,
          0.09057803452014923,
          -0.7446035146713257,
          0.34298431873321533,
          -0.3087208867073059,
          0.7364875078201294,
          -1.478776454925537,
          -1.2254878282546997,
          0.29617446660995483,
          -0.38742300868034363,
          -0.6322141885757446
         ],
         "z": [
          -1.3079618215560913,
          -1.2094402313232422,
          -1.7570865154266357,
          -0.0012427270412445068,
          -0.07777190208435059,
          -0.8925792574882507,
          -2.017132520675659,
          -1.0277377367019653,
          0.8573130369186401,
          1.1017842292785645,
          -0.38751304149627686,
          1.4169529676437378,
          -0.16338764131069183,
          0.5111575722694397,
          -0.4156689941883087,
          -4.3109259605407715,
          -0.8258530497550964,
          0.8961129188537598,
          -1.225903034210205,
          0.5533467531204224
         ]
        }
       ],
       "layout": {
        "scene": {
         "xaxis": {
          "title": {
           "text": "Sertlik"
          }
         },
         "yaxis": {
          "title": {
           "text": "Parlaklık"
          }
         },
         "zaxis": {
          "title": {
           "text": "Kırmızılık"
          }
         }
        },
        "template": {
         "data": {
          "bar": [
           {
            "error_x": {
             "color": "#2a3f5f"
            },
            "error_y": {
             "color": "#2a3f5f"
            },
            "marker": {
             "line": {
              "color": "#E5ECF6",
              "width": 0.5
             },
             "pattern": {
              "fillmode": "overlay",
              "size": 10,
              "solidity": 0.2
             }
            },
            "type": "bar"
           }
          ],
          "barpolar": [
           {
            "marker": {
             "line": {
              "color": "#E5ECF6",
              "width": 0.5
             },
             "pattern": {
              "fillmode": "overlay",
              "size": 10,
              "solidity": 0.2
             }
            },
            "type": "barpolar"
           }
          ],
          "carpet": [
           {
            "aaxis": {
             "endlinecolor": "#2a3f5f",
             "gridcolor": "white",
             "linecolor": "white",
             "minorgridcolor": "white",
             "startlinecolor": "#2a3f5f"
            },
            "baxis": {
             "endlinecolor": "#2a3f5f",
             "gridcolor": "white",
             "linecolor": "white",
             "minorgridcolor": "white",
             "startlinecolor": "#2a3f5f"
            },
            "type": "carpet"
           }
          ],
          "choropleth": [
           {
            "colorbar": {
             "outlinewidth": 0,
             "ticks": ""
            },
            "type": "choropleth"
           }
          ],
          "contour": [
           {
            "colorbar": {
             "outlinewidth": 0,
             "ticks": ""
            },
            "colorscale": [
             [
              0,
              "#0d0887"
             ],
             [
              0.1111111111111111,
              "#46039f"
             ],
             [
              0.2222222222222222,
              "#7201a8"
             ],
             [
              0.3333333333333333,
              "#9c179e"
             ],
             [
              0.4444444444444444,
              "#bd3786"
             ],
             [
              0.5555555555555556,
              "#d8576b"
             ],
             [
              0.6666666666666666,
              "#ed7953"
             ],
             [
              0.7777777777777778,
              "#fb9f3a"
             ],
             [
              0.8888888888888888,
              "#fdca26"
             ],
             [
              1,
              "#f0f921"
             ]
            ],
            "type": "contour"
           }
          ],
          "contourcarpet": [
           {
            "colorbar": {
             "outlinewidth": 0,
             "ticks": ""
            },
            "type": "contourcarpet"
           }
          ],
          "heatmap": [
           {
            "colorbar": {
             "outlinewidth": 0,
             "ticks": ""
            },
            "colorscale": [
             [
              0,
              "#0d0887"
             ],
             [
              0.1111111111111111,
              "#46039f"
             ],
             [
              0.2222222222222222,
              "#7201a8"
             ],
             [
              0.3333333333333333,
              "#9c179e"
             ],
             [
              0.4444444444444444,
              "#bd3786"
             ],
             [
              0.5555555555555556,
              "#d8576b"
             ],
             [
              0.6666666666666666,
              "#ed7953"
             ],
             [
              0.7777777777777778,
              "#fb9f3a"
             ],
             [
              0.8888888888888888,
              "#fdca26"
             ],
             [
              1,
              "#f0f921"
             ]
            ],
            "type": "heatmap"
           }
          ],
          "heatmapgl": [
           {
            "colorbar": {
             "outlinewidth": 0,
             "ticks": ""
            },
            "colorscale": [
             [
              0,
              "#0d0887"
             ],
             [
              0.1111111111111111,
              "#46039f"
             ],
             [
              0.2222222222222222,
              "#7201a8"
             ],
             [
              0.3333333333333333,
              "#9c179e"
             ],
             [
              0.4444444444444444,
              "#bd3786"
             ],
             [
              0.5555555555555556,
              "#d8576b"
             ],
             [
              0.6666666666666666,
              "#ed7953"
             ],
             [
              0.7777777777777778,
              "#fb9f3a"
             ],
             [
              0.8888888888888888,
              "#fdca26"
             ],
             [
              1,
              "#f0f921"
             ]
            ],
            "type": "heatmapgl"
           }
          ],
          "histogram": [
           {
            "marker": {
             "pattern": {
              "fillmode": "overlay",
              "size": 10,
              "solidity": 0.2
             }
            },
            "type": "histogram"
           }
          ],
          "histogram2d": [
           {
            "colorbar": {
             "outlinewidth": 0,
             "ticks": ""
            },
            "colorscale": [
             [
              0,
              "#0d0887"
             ],
             [
              0.1111111111111111,
              "#46039f"
             ],
             [
              0.2222222222222222,
              "#7201a8"
             ],
             [
              0.3333333333333333,
              "#9c179e"
             ],
             [
              0.4444444444444444,
              "#bd3786"
             ],
             [
              0.5555555555555556,
              "#d8576b"
             ],
             [
              0.6666666666666666,
              "#ed7953"
             ],
             [
              0.7777777777777778,
              "#fb9f3a"
             ],
             [
              0.8888888888888888,
              "#fdca26"
             ],
             [
              1,
              "#f0f921"
             ]
            ],
            "type": "histogram2d"
           }
          ],
          "histogram2dcontour": [
           {
            "colorbar": {
             "outlinewidth": 0,
             "ticks": ""
            },
            "colorscale": [
             [
              0,
              "#0d0887"
             ],
             [
              0.1111111111111111,
              "#46039f"
             ],
             [
              0.2222222222222222,
              "#7201a8"
             ],
             [
              0.3333333333333333,
              "#9c179e"
             ],
             [
              0.4444444444444444,
              "#bd3786"
             ],
             [
              0.5555555555555556,
              "#d8576b"
             ],
             [
              0.6666666666666666,
              "#ed7953"
             ],
             [
              0.7777777777777778,
              "#fb9f3a"
             ],
             [
              0.8888888888888888,
              "#fdca26"
             ],
             [
              1,
              "#f0f921"
             ]
            ],
            "type": "histogram2dcontour"
           }
          ],
          "mesh3d": [
           {
            "colorbar": {
             "outlinewidth": 0,
             "ticks": ""
            },
            "type": "mesh3d"
           }
          ],
          "parcoords": [
           {
            "line": {
             "colorbar": {
              "outlinewidth": 0,
              "ticks": ""
             }
            },
            "type": "parcoords"
           }
          ],
          "pie": [
           {
            "automargin": true,
            "type": "pie"
           }
          ],
          "scatter": [
           {
            "fillpattern": {
             "fillmode": "overlay",
             "size": 10,
             "solidity": 0.2
            },
            "type": "scatter"
           }
          ],
          "scatter3d": [
           {
            "line": {
             "colorbar": {
              "outlinewidth": 0,
              "ticks": ""
             }
            },
            "marker": {
             "colorbar": {
              "outlinewidth": 0,
              "ticks": ""
             }
            },
            "type": "scatter3d"
           }
          ],
          "scattercarpet": [
           {
            "marker": {
             "colorbar": {
              "outlinewidth": 0,
              "ticks": ""
             }
            },
            "type": "scattercarpet"
           }
          ],
          "scattergeo": [
           {
            "marker": {
             "colorbar": {
              "outlinewidth": 0,
              "ticks": ""
             }
            },
            "type": "scattergeo"
           }
          ],
          "scattergl": [
           {
            "marker": {
             "colorbar": {
              "outlinewidth": 0,
              "ticks": ""
             }
            },
            "type": "scattergl"
           }
          ],
          "scattermapbox": [
           {
            "marker": {
             "colorbar": {
              "outlinewidth": 0,
              "ticks": ""
             }
            },
            "type": "scattermapbox"
           }
          ],
          "scatterpolar": [
           {
            "marker": {
             "colorbar": {
              "outlinewidth": 0,
              "ticks": ""
             }
            },
            "type": "scatterpolar"
           }
          ],
          "scatterpolargl": [
           {
            "marker": {
             "colorbar": {
              "outlinewidth": 0,
              "ticks": ""
             }
            },
            "type": "scatterpolargl"
           }
          ],
          "scatterternary": [
           {
            "marker": {
             "colorbar": {
              "outlinewidth": 0,
              "ticks": ""
             }
            },
            "type": "scatterternary"
           }
          ],
          "surface": [
           {
            "colorbar": {
             "outlinewidth": 0,
             "ticks": ""
            },
            "colorscale": [
             [
              0,
              "#0d0887"
             ],
             [
              0.1111111111111111,
              "#46039f"
             ],
             [
              0.2222222222222222,
              "#7201a8"
             ],
             [
              0.3333333333333333,
              "#9c179e"
             ],
             [
              0.4444444444444444,
              "#bd3786"
             ],
             [
              0.5555555555555556,
              "#d8576b"
             ],
             [
              0.6666666666666666,
              "#ed7953"
             ],
             [
              0.7777777777777778,
              "#fb9f3a"
             ],
             [
              0.8888888888888888,
              "#fdca26"
             ],
             [
              1,
              "#f0f921"
             ]
            ],
            "type": "surface"
           }
          ],
          "table": [
           {
            "cells": {
             "fill": {
              "color": "#EBF0F8"
             },
             "line": {
              "color": "white"
             }
            },
            "header": {
             "fill": {
              "color": "#C8D4E3"
             },
             "line": {
              "color": "white"
             }
            },
            "type": "table"
           }
          ]
         },
         "layout": {
          "annotationdefaults": {
           "arrowcolor": "#2a3f5f",
           "arrowhead": 0,
           "arrowwidth": 1
          },
          "autotypenumbers": "strict",
          "coloraxis": {
           "colorbar": {
            "outlinewidth": 0,
            "ticks": ""
           }
          },
          "colorscale": {
           "diverging": [
            [
             0,
             "#8e0152"
            ],
            [
             0.1,
             "#c51b7d"
            ],
            [
             0.2,
             "#de77ae"
            ],
            [
             0.3,
             "#f1b6da"
            ],
            [
             0.4,
             "#fde0ef"
            ],
            [
             0.5,
             "#f7f7f7"
            ],
            [
             0.6,
             "#e6f5d0"
            ],
            [
             0.7,
             "#b8e186"
            ],
            [
             0.8,
             "#7fbc41"
            ],
            [
             0.9,
             "#4d9221"
            ],
            [
             1,
             "#276419"
            ]
           ],
           "sequential": [
            [
             0,
             "#0d0887"
            ],
            [
             0.1111111111111111,
             "#46039f"
            ],
            [
             0.2222222222222222,
             "#7201a8"
            ],
            [
             0.3333333333333333,
             "#9c179e"
            ],
            [
             0.4444444444444444,
             "#bd3786"
            ],
            [
             0.5555555555555556,
             "#d8576b"
            ],
            [
             0.6666666666666666,
             "#ed7953"
            ],
            [
             0.7777777777777778,
             "#fb9f3a"
            ],
            [
             0.8888888888888888,
             "#fdca26"
            ],
            [
             1,
             "#f0f921"
            ]
           ],
           "sequentialminus": [
            [
             0,
             "#0d0887"
            ],
            [
             0.1111111111111111,
             "#46039f"
            ],
            [
             0.2222222222222222,
             "#7201a8"
            ],
            [
             0.3333333333333333,
             "#9c179e"
            ],
            [
             0.4444444444444444,
             "#bd3786"
            ],
            [
             0.5555555555555556,
             "#d8576b"
            ],
            [
             0.6666666666666666,
             "#ed7953"
            ],
            [
             0.7777777777777778,
             "#fb9f3a"
            ],
            [
             0.8888888888888888,
             "#fdca26"
            ],
            [
             1,
             "#f0f921"
            ]
           ]
          },
          "colorway": [
           "#636efa",
           "#EF553B",
           "#00cc96",
           "#ab63fa",
           "#FFA15A",
           "#19d3f3",
           "#FF6692",
           "#B6E880",
           "#FF97FF",
           "#FECB52"
          ],
          "font": {
           "color": "#2a3f5f"
          },
          "geo": {
           "bgcolor": "white",
           "lakecolor": "white",
           "landcolor": "#E5ECF6",
           "showlakes": true,
           "showland": true,
           "subunitcolor": "white"
          },
          "hoverlabel": {
           "align": "left"
          },
          "hovermode": "closest",
          "mapbox": {
           "style": "light"
          },
          "paper_bgcolor": "white",
          "plot_bgcolor": "#E5ECF6",
          "polar": {
           "angularaxis": {
            "gridcolor": "white",
            "linecolor": "white",
            "ticks": ""
           },
           "bgcolor": "#E5ECF6",
           "radialaxis": {
            "gridcolor": "white",
            "linecolor": "white",
            "ticks": ""
           }
          },
          "scene": {
           "xaxis": {
            "backgroundcolor": "#E5ECF6",
            "gridcolor": "white",
            "gridwidth": 2,
            "linecolor": "white",
            "showbackground": true,
            "ticks": "",
            "zerolinecolor": "white"
           },
           "yaxis": {
            "backgroundcolor": "#E5ECF6",
            "gridcolor": "white",
            "gridwidth": 2,
            "linecolor": "white",
            "showbackground": true,
            "ticks": "",
            "zerolinecolor": "white"
           },
           "zaxis": {
            "backgroundcolor": "#E5ECF6",
            "gridcolor": "white",
            "gridwidth": 2,
            "linecolor": "white",
            "showbackground": true,
            "ticks": "",
            "zerolinecolor": "white"
           }
          },
          "shapedefaults": {
           "line": {
            "color": "#2a3f5f"
           }
          },
          "ternary": {
           "aaxis": {
            "gridcolor": "white",
            "linecolor": "white",
            "ticks": ""
           },
           "baxis": {
            "gridcolor": "white",
            "linecolor": "white",
            "ticks": ""
           },
           "bgcolor": "#E5ECF6",
           "caxis": {
            "gridcolor": "white",
            "linecolor": "white",
            "ticks": ""
           }
          },
          "title": {
           "x": 0.05
          },
          "xaxis": {
           "automargin": true,
           "gridcolor": "white",
           "linecolor": "white",
           "ticks": "",
           "title": {
            "standoff": 15
           },
           "zerolinecolor": "white",
           "zerolinewidth": 2
          },
          "yaxis": {
           "automargin": true,
           "gridcolor": "white",
           "linecolor": "white",
           "ticks": "",
           "title": {
            "standoff": 15
           },
           "zerolinecolor": "white",
           "zerolinewidth": 2
          }
         }
        },
        "title": {
         "text": "Sentence Context Space"
        }
       }
      }
     },
     "metadata": {},
     "output_type": "display_data"
    }
   ],
   "source": [
    "sentences = [\n",
    "  {\n",
    "    \"words\": meanings_in_context.detach().numpy(),\n",
    "    \"labels\": tokenizer.tokenize(sentence),\n",
    "    \"color\": \"red\",\n",
    "  },\n",
    "]\n",
    "plot_dots(sentences, \"Sentence Context Space\")\n"
   ]
  },
  {
   "cell_type": "code",
   "execution_count": 28,
   "id": "14d12573",
   "metadata": {},
   "outputs": [],
   "source": [
    "import math\n",
    "\n",
    "def get_position_encoding(context_length, embedding_dim, base=10000, device=\"cpu\"):\n",
    "  p_embeddings = torch.zeros(context_length, embedding_dim, device=device)\n",
    "  for pos in range(context_length):\n",
    "    for i in range(embedding_dim // 2):\n",
    "      p_embeddings[pos, 2 * i] = math.sin(pos / (base ** (2 * i / embedding_dim)))\n",
    "      if i + 1 < embedding_dim:\n",
    "        p_embeddings[pos, 2 * i + 1] = math.cos(pos / (base ** (2 * i + 1 / embedding_dim)))\n",
    "  \n",
    "  return p_embeddings.unsqueeze(0)    "
   ]
  },
  {
   "cell_type": "code",
   "execution_count": 29,
   "id": "171354c2",
   "metadata": {},
   "outputs": [
    {
     "data": {
      "text/plain": [
       "torch.Size([1, 20, 4])"
      ]
     },
     "execution_count": 29,
     "metadata": {},
     "output_type": "execute_result"
    }
   ],
   "source": [
    "pos_embeddings = get_position_encoding(20, 4)\n",
    "pos_embeddings.shape"
   ]
  },
  {
   "cell_type": "code",
   "execution_count": 30,
   "id": "be838889",
   "metadata": {},
   "outputs": [
    {
     "data": {
      "text/plain": [
       "torch.Size([20, 4])"
      ]
     },
     "execution_count": 30,
     "metadata": {},
     "output_type": "execute_result"
    }
   ],
   "source": [
    "meanings.shape"
   ]
  },
  {
   "cell_type": "code",
   "execution_count": 31,
   "id": "fe000e17",
   "metadata": {},
   "outputs": [
    {
     "data": {
      "text/plain": [
       "tensor([[[-1.5256,  0.2498, -0.6540, -0.6095],\n",
       "         [ 0.0966,  0.7928, -0.2197,  1.0013],\n",
       "         [ 0.8091,  0.3709, -0.9598, -0.6091],\n",
       "         [-0.6037,  0.7532, -0.1997,  1.0013],\n",
       "         [-1.4689,  1.2248, -0.7373,  0.7485],\n",
       "         [-1.7038,  0.6754, -0.1797,  1.0013],\n",
       "         [-0.5017,  2.5124,  0.2884,  1.4676],\n",
       "         [-0.0879,  0.5627, -0.1597,  1.0013],\n",
       "         [ 0.2924, -0.4641,  0.7795,  1.1991],\n",
       "         [ 0.3323,  0.9633,  1.0387, -0.3839],\n",
       "         [-1.2889,  0.3381, -0.1298,  1.0013],\n",
       "         [-1.1110,  0.7463, -0.0481,  0.9712],\n",
       "         [-1.2814,  0.1602, -0.1100,  1.0013],\n",
       "         [-1.1054, -0.4827, -0.5243, -0.6095],\n",
       "         [ 0.2458, -0.0322, -0.0901,  1.0013],\n",
       "         [ 0.5501, -0.5385, -0.8303, -0.6091],\n",
       "         [-1.0327, -0.2314, -0.0703,  1.0013],\n",
       "         [-1.6735,  0.1749, -0.6081,  0.7485],\n",
       "         [-1.4958, -0.4294, -0.0506,  1.0013],\n",
       "         [ 2.0292, -0.3954,  0.3466,  0.2265]]], grad_fn=<AddBackward0>)"
      ]
     },
     "execution_count": 31,
     "metadata": {},
     "output_type": "execute_result"
    }
   ],
   "source": [
    "meanings_in_sentence = meanings + pos_embeddings\n",
    "meanings_in_sentence"
   ]
  },
  {
   "cell_type": "code",
   "execution_count": 32,
   "id": "b0aa0bde",
   "metadata": {},
   "outputs": [
    {
     "data": {
      "application/vnd.plotly.v1+json": {
       "config": {
        "displaylogo": false,
        "plotlyServerURL": "https://plot.ly"
       },
       "data": [
        {
         "hoverinfo": "text",
         "marker": {
          "color": "red",
          "size": 6
         },
         "mode": "markers+text",
         "text": [
          "the",
          " ",
          "capital",
          " ",
          "of",
          " ",
          "united",
          " ",
          "state",
          "s",
          " ",
          "and",
          " ",
          "the",
          " ",
          "capital",
          " ",
          "of",
          " ",
          "france"
         ],
         "type": "scatter3d",
         "x": [
          -1.5255959033966064,
          0.09663015604019165,
          0.8091302514076233,
          -0.6037207841873169,
          -1.468947172164917,
          -1.7037651538848877,
          -0.5016859769821167,
          -0.08785420656204224,
          0.2923858165740967,
          0.33228978514671326,
          -1.2888619899749756,
          -1.1110100746154785,
          -1.2814137935638428,
          -1.10542893409729,
          0.24576658010482788,
          0.5501207113265991,
          -1.0327441692352295,
          -1.6735420227050781,
          -1.4958280324935913,
          2.0292229652404785
         ],
         "y": [
          0.2497681975364685,
          0.7928469777107239,
          0.3708776831626892,
          0.7531793117523193,
          1.224782943725586,
          0.6754253506660461,
          2.512449026107788,
          0.5626850128173828,
          -0.46405476331710815,
          0.963334321975708,
          0.33814507722854614,
          0.7463313341140747,
          0.1602005511522293,
          -0.48273298144340515,
          -0.03219006955623627,
          -0.5384517312049866,
          -0.23135673999786377,
          0.17487749457359314,
          -0.4293593168258667,
          -0.3954213559627533
         ],
         "z": [
          -0.6539809107780457,
          -0.21966807544231415,
          -0.959773600101471,
          -0.1996724009513855,
          -0.7373249530792236,
          -0.1796887367963791,
          0.2883891761302948,
          -0.15972505509853363,
          0.7794570922851562,
          1.038705825805664,
          -0.12983448803424835,
          -0.04806685447692871,
          -0.10995569825172424,
          -0.5243467688560486,
          -0.09012478590011597,
          -0.8303341269493103,
          -0.07034969329833984,
          -0.6081319451332092,
          -0.05063833296298981,
          0.3466295003890991
         ]
        },
        {
         "hoverinfo": "text",
         "marker": {
          "color": "blue",
          "size": 6
         },
         "mode": "markers+text",
         "text": [
          "the",
          " ",
          "capital",
          " ",
          "of",
          " ",
          "united",
          " ",
          "state",
          "s",
          " ",
          "and",
          " ",
          "the",
          " ",
          "capital",
          " ",
          "of",
          " ",
          "france"
         ],
         "type": "scatter3d",
         "x": [
          -1.5255959033966064,
          -0.7448408007621765,
          -0.1001671776175499,
          -0.7448408007621765,
          -0.7121446132659912,
          -0.7448408007621765,
          -0.22227048873901367,
          -0.7448408007621765,
          -0.6969724297523499,
          -0.07982871681451797,
          -0.7448408007621765,
          -0.11101982742547989,
          -0.7448408007621765,
          -1.5255959033966064,
          -0.7448408007621765,
          -0.1001671776175499,
          -0.7448408007621765,
          -0.7121446132659912,
          -0.7448408007621765,
          1.8793457746505737
         ],
         "y": [
          -0.7502318024635315,
          -0.20215721428394318,
          -0.6091889142990112,
          -0.20215721428394318,
          0.30372199416160583,
          -0.20215721428394318,
          1.6871134042739868,
          -0.20215721428394318,
          -1.1607614755630493,
          0.34172430634498596,
          -0.20215721428394318,
          0.2927352488040924,
          -0.20215721428394318,
          -0.7502318024635315,
          -0.20215721428394318,
          -0.6091889142990112,
          -0.20215721428394318,
          0.30372199416160583,
          -0.20215721428394318,
          -0.07213178277015686
         ],
         "z": [
          -0.6539809107780457,
          -0.22966790199279785,
          -0.9797722697257996,
          -0.22966790199279785,
          -0.777314305305481,
          -0.22966790199279785,
          0.22842517495155334,
          -0.22966790199279785,
          0.6995424032211304,
          0.94882732629776,
          -0.22966790199279785,
          -0.1578451544046402,
          -0.22966790199279785,
          -0.6539809107780457,
          -0.22966790199279785,
          -0.9797722697257996,
          -0.22966790199279785,
          -0.777314305305481,
          -0.22966790199279785,
          0.15777060389518738
         ]
        }
       ],
       "layout": {
        "scene": {
         "xaxis": {
          "title": {
           "text": "Sertlik"
          }
         },
         "yaxis": {
          "title": {
           "text": "Parlaklık"
          }
         },
         "zaxis": {
          "title": {
           "text": "Kırmızılık"
          }
         }
        },
        "template": {
         "data": {
          "bar": [
           {
            "error_x": {
             "color": "#2a3f5f"
            },
            "error_y": {
             "color": "#2a3f5f"
            },
            "marker": {
             "line": {
              "color": "#E5ECF6",
              "width": 0.5
             },
             "pattern": {
              "fillmode": "overlay",
              "size": 10,
              "solidity": 0.2
             }
            },
            "type": "bar"
           }
          ],
          "barpolar": [
           {
            "marker": {
             "line": {
              "color": "#E5ECF6",
              "width": 0.5
             },
             "pattern": {
              "fillmode": "overlay",
              "size": 10,
              "solidity": 0.2
             }
            },
            "type": "barpolar"
           }
          ],
          "carpet": [
           {
            "aaxis": {
             "endlinecolor": "#2a3f5f",
             "gridcolor": "white",
             "linecolor": "white",
             "minorgridcolor": "white",
             "startlinecolor": "#2a3f5f"
            },
            "baxis": {
             "endlinecolor": "#2a3f5f",
             "gridcolor": "white",
             "linecolor": "white",
             "minorgridcolor": "white",
             "startlinecolor": "#2a3f5f"
            },
            "type": "carpet"
           }
          ],
          "choropleth": [
           {
            "colorbar": {
             "outlinewidth": 0,
             "ticks": ""
            },
            "type": "choropleth"
           }
          ],
          "contour": [
           {
            "colorbar": {
             "outlinewidth": 0,
             "ticks": ""
            },
            "colorscale": [
             [
              0,
              "#0d0887"
             ],
             [
              0.1111111111111111,
              "#46039f"
             ],
             [
              0.2222222222222222,
              "#7201a8"
             ],
             [
              0.3333333333333333,
              "#9c179e"
             ],
             [
              0.4444444444444444,
              "#bd3786"
             ],
             [
              0.5555555555555556,
              "#d8576b"
             ],
             [
              0.6666666666666666,
              "#ed7953"
             ],
             [
              0.7777777777777778,
              "#fb9f3a"
             ],
             [
              0.8888888888888888,
              "#fdca26"
             ],
             [
              1,
              "#f0f921"
             ]
            ],
            "type": "contour"
           }
          ],
          "contourcarpet": [
           {
            "colorbar": {
             "outlinewidth": 0,
             "ticks": ""
            },
            "type": "contourcarpet"
           }
          ],
          "heatmap": [
           {
            "colorbar": {
             "outlinewidth": 0,
             "ticks": ""
            },
            "colorscale": [
             [
              0,
              "#0d0887"
             ],
             [
              0.1111111111111111,
              "#46039f"
             ],
             [
              0.2222222222222222,
              "#7201a8"
             ],
             [
              0.3333333333333333,
              "#9c179e"
             ],
             [
              0.4444444444444444,
              "#bd3786"
             ],
             [
              0.5555555555555556,
              "#d8576b"
             ],
             [
              0.6666666666666666,
              "#ed7953"
             ],
             [
              0.7777777777777778,
              "#fb9f3a"
             ],
             [
              0.8888888888888888,
              "#fdca26"
             ],
             [
              1,
              "#f0f921"
             ]
            ],
            "type": "heatmap"
           }
          ],
          "heatmapgl": [
           {
            "colorbar": {
             "outlinewidth": 0,
             "ticks": ""
            },
            "colorscale": [
             [
              0,
              "#0d0887"
             ],
             [
              0.1111111111111111,
              "#46039f"
             ],
             [
              0.2222222222222222,
              "#7201a8"
             ],
             [
              0.3333333333333333,
              "#9c179e"
             ],
             [
              0.4444444444444444,
              "#bd3786"
             ],
             [
              0.5555555555555556,
              "#d8576b"
             ],
             [
              0.6666666666666666,
              "#ed7953"
             ],
             [
              0.7777777777777778,
              "#fb9f3a"
             ],
             [
              0.8888888888888888,
              "#fdca26"
             ],
             [
              1,
              "#f0f921"
             ]
            ],
            "type": "heatmapgl"
           }
          ],
          "histogram": [
           {
            "marker": {
             "pattern": {
              "fillmode": "overlay",
              "size": 10,
              "solidity": 0.2
             }
            },
            "type": "histogram"
           }
          ],
          "histogram2d": [
           {
            "colorbar": {
             "outlinewidth": 0,
             "ticks": ""
            },
            "colorscale": [
             [
              0,
              "#0d0887"
             ],
             [
              0.1111111111111111,
              "#46039f"
             ],
             [
              0.2222222222222222,
              "#7201a8"
             ],
             [
              0.3333333333333333,
              "#9c179e"
             ],
             [
              0.4444444444444444,
              "#bd3786"
             ],
             [
              0.5555555555555556,
              "#d8576b"
             ],
             [
              0.6666666666666666,
              "#ed7953"
             ],
             [
              0.7777777777777778,
              "#fb9f3a"
             ],
             [
              0.8888888888888888,
              "#fdca26"
             ],
             [
              1,
              "#f0f921"
             ]
            ],
            "type": "histogram2d"
           }
          ],
          "histogram2dcontour": [
           {
            "colorbar": {
             "outlinewidth": 0,
             "ticks": ""
            },
            "colorscale": [
             [
              0,
              "#0d0887"
             ],
             [
              0.1111111111111111,
              "#46039f"
             ],
             [
              0.2222222222222222,
              "#7201a8"
             ],
             [
              0.3333333333333333,
              "#9c179e"
             ],
             [
              0.4444444444444444,
              "#bd3786"
             ],
             [
              0.5555555555555556,
              "#d8576b"
             ],
             [
              0.6666666666666666,
              "#ed7953"
             ],
             [
              0.7777777777777778,
              "#fb9f3a"
             ],
             [
              0.8888888888888888,
              "#fdca26"
             ],
             [
              1,
              "#f0f921"
             ]
            ],
            "type": "histogram2dcontour"
           }
          ],
          "mesh3d": [
           {
            "colorbar": {
             "outlinewidth": 0,
             "ticks": ""
            },
            "type": "mesh3d"
           }
          ],
          "parcoords": [
           {
            "line": {
             "colorbar": {
              "outlinewidth": 0,
              "ticks": ""
             }
            },
            "type": "parcoords"
           }
          ],
          "pie": [
           {
            "automargin": true,
            "type": "pie"
           }
          ],
          "scatter": [
           {
            "fillpattern": {
             "fillmode": "overlay",
             "size": 10,
             "solidity": 0.2
            },
            "type": "scatter"
           }
          ],
          "scatter3d": [
           {
            "line": {
             "colorbar": {
              "outlinewidth": 0,
              "ticks": ""
             }
            },
            "marker": {
             "colorbar": {
              "outlinewidth": 0,
              "ticks": ""
             }
            },
            "type": "scatter3d"
           }
          ],
          "scattercarpet": [
           {
            "marker": {
             "colorbar": {
              "outlinewidth": 0,
              "ticks": ""
             }
            },
            "type": "scattercarpet"
           }
          ],
          "scattergeo": [
           {
            "marker": {
             "colorbar": {
              "outlinewidth": 0,
              "ticks": ""
             }
            },
            "type": "scattergeo"
           }
          ],
          "scattergl": [
           {
            "marker": {
             "colorbar": {
              "outlinewidth": 0,
              "ticks": ""
             }
            },
            "type": "scattergl"
           }
          ],
          "scattermapbox": [
           {
            "marker": {
             "colorbar": {
              "outlinewidth": 0,
              "ticks": ""
             }
            },
            "type": "scattermapbox"
           }
          ],
          "scatterpolar": [
           {
            "marker": {
             "colorbar": {
              "outlinewidth": 0,
              "ticks": ""
             }
            },
            "type": "scatterpolar"
           }
          ],
          "scatterpolargl": [
           {
            "marker": {
             "colorbar": {
              "outlinewidth": 0,
              "ticks": ""
             }
            },
            "type": "scatterpolargl"
           }
          ],
          "scatterternary": [
           {
            "marker": {
             "colorbar": {
              "outlinewidth": 0,
              "ticks": ""
             }
            },
            "type": "scatterternary"
           }
          ],
          "surface": [
           {
            "colorbar": {
             "outlinewidth": 0,
             "ticks": ""
            },
            "colorscale": [
             [
              0,
              "#0d0887"
             ],
             [
              0.1111111111111111,
              "#46039f"
             ],
             [
              0.2222222222222222,
              "#7201a8"
             ],
             [
              0.3333333333333333,
              "#9c179e"
             ],
             [
              0.4444444444444444,
              "#bd3786"
             ],
             [
              0.5555555555555556,
              "#d8576b"
             ],
             [
              0.6666666666666666,
              "#ed7953"
             ],
             [
              0.7777777777777778,
              "#fb9f3a"
             ],
             [
              0.8888888888888888,
              "#fdca26"
             ],
             [
              1,
              "#f0f921"
             ]
            ],
            "type": "surface"
           }
          ],
          "table": [
           {
            "cells": {
             "fill": {
              "color": "#EBF0F8"
             },
             "line": {
              "color": "white"
             }
            },
            "header": {
             "fill": {
              "color": "#C8D4E3"
             },
             "line": {
              "color": "white"
             }
            },
            "type": "table"
           }
          ]
         },
         "layout": {
          "annotationdefaults": {
           "arrowcolor": "#2a3f5f",
           "arrowhead": 0,
           "arrowwidth": 1
          },
          "autotypenumbers": "strict",
          "coloraxis": {
           "colorbar": {
            "outlinewidth": 0,
            "ticks": ""
           }
          },
          "colorscale": {
           "diverging": [
            [
             0,
             "#8e0152"
            ],
            [
             0.1,
             "#c51b7d"
            ],
            [
             0.2,
             "#de77ae"
            ],
            [
             0.3,
             "#f1b6da"
            ],
            [
             0.4,
             "#fde0ef"
            ],
            [
             0.5,
             "#f7f7f7"
            ],
            [
             0.6,
             "#e6f5d0"
            ],
            [
             0.7,
             "#b8e186"
            ],
            [
             0.8,
             "#7fbc41"
            ],
            [
             0.9,
             "#4d9221"
            ],
            [
             1,
             "#276419"
            ]
           ],
           "sequential": [
            [
             0,
             "#0d0887"
            ],
            [
             0.1111111111111111,
             "#46039f"
            ],
            [
             0.2222222222222222,
             "#7201a8"
            ],
            [
             0.3333333333333333,
             "#9c179e"
            ],
            [
             0.4444444444444444,
             "#bd3786"
            ],
            [
             0.5555555555555556,
             "#d8576b"
            ],
            [
             0.6666666666666666,
             "#ed7953"
            ],
            [
             0.7777777777777778,
             "#fb9f3a"
            ],
            [
             0.8888888888888888,
             "#fdca26"
            ],
            [
             1,
             "#f0f921"
            ]
           ],
           "sequentialminus": [
            [
             0,
             "#0d0887"
            ],
            [
             0.1111111111111111,
             "#46039f"
            ],
            [
             0.2222222222222222,
             "#7201a8"
            ],
            [
             0.3333333333333333,
             "#9c179e"
            ],
            [
             0.4444444444444444,
             "#bd3786"
            ],
            [
             0.5555555555555556,
             "#d8576b"
            ],
            [
             0.6666666666666666,
             "#ed7953"
            ],
            [
             0.7777777777777778,
             "#fb9f3a"
            ],
            [
             0.8888888888888888,
             "#fdca26"
            ],
            [
             1,
             "#f0f921"
            ]
           ]
          },
          "colorway": [
           "#636efa",
           "#EF553B",
           "#00cc96",
           "#ab63fa",
           "#FFA15A",
           "#19d3f3",
           "#FF6692",
           "#B6E880",
           "#FF97FF",
           "#FECB52"
          ],
          "font": {
           "color": "#2a3f5f"
          },
          "geo": {
           "bgcolor": "white",
           "lakecolor": "white",
           "landcolor": "#E5ECF6",
           "showlakes": true,
           "showland": true,
           "subunitcolor": "white"
          },
          "hoverlabel": {
           "align": "left"
          },
          "hovermode": "closest",
          "mapbox": {
           "style": "light"
          },
          "paper_bgcolor": "white",
          "plot_bgcolor": "#E5ECF6",
          "polar": {
           "angularaxis": {
            "gridcolor": "white",
            "linecolor": "white",
            "ticks": ""
           },
           "bgcolor": "#E5ECF6",
           "radialaxis": {
            "gridcolor": "white",
            "linecolor": "white",
            "ticks": ""
           }
          },
          "scene": {
           "xaxis": {
            "backgroundcolor": "#E5ECF6",
            "gridcolor": "white",
            "gridwidth": 2,
            "linecolor": "white",
            "showbackground": true,
            "ticks": "",
            "zerolinecolor": "white"
           },
           "yaxis": {
            "backgroundcolor": "#E5ECF6",
            "gridcolor": "white",
            "gridwidth": 2,
            "linecolor": "white",
            "showbackground": true,
            "ticks": "",
            "zerolinecolor": "white"
           },
           "zaxis": {
            "backgroundcolor": "#E5ECF6",
            "gridcolor": "white",
            "gridwidth": 2,
            "linecolor": "white",
            "showbackground": true,
            "ticks": "",
            "zerolinecolor": "white"
           }
          },
          "shapedefaults": {
           "line": {
            "color": "#2a3f5f"
           }
          },
          "ternary": {
           "aaxis": {
            "gridcolor": "white",
            "linecolor": "white",
            "ticks": ""
           },
           "baxis": {
            "gridcolor": "white",
            "linecolor": "white",
            "ticks": ""
           },
           "bgcolor": "#E5ECF6",
           "caxis": {
            "gridcolor": "white",
            "linecolor": "white",
            "ticks": ""
           }
          },
          "title": {
           "x": 0.05
          },
          "xaxis": {
           "automargin": true,
           "gridcolor": "white",
           "linecolor": "white",
           "ticks": "",
           "title": {
            "standoff": 15
           },
           "zerolinecolor": "white",
           "zerolinewidth": 2
          },
          "yaxis": {
           "automargin": true,
           "gridcolor": "white",
           "linecolor": "white",
           "ticks": "",
           "title": {
            "standoff": 15
           },
           "zerolinecolor": "white",
           "zerolinewidth": 2
          }
         }
        },
        "title": {
         "text": "Sentence Context Space V2"
        }
       }
      }
     },
     "metadata": {},
     "output_type": "display_data"
    }
   ],
   "source": [
    "\n",
    "sentences = [\n",
    "  {\n",
    "    \"words\": meanings_in_sentence[0].detach().numpy(),\n",
    "    \"labels\": tokenizer.tokenize(sentence),\n",
    "    \"color\": \"red\",\n",
    "  },\n",
    "  {\n",
    "    \"words\": meanings.detach().numpy(),\n",
    "    \"labels\": tokenizer.tokenize(sentence),\n",
    "    \"color\": \"blue\",\n",
    "  },\n",
    "]\n",
    "plot_dots(sentences, \"Sentence Context Space V2\")"
   ]
  },
  {
   "cell_type": "code",
   "execution_count": 33,
   "id": "09610598",
   "metadata": {},
   "outputs": [],
   "source": [
    "def get_rotary_position_encoding(input: torch.Tensor, base=10000, device=\"cpu\"):\n",
    "  # input: Şeklî (uzunluk, genişlik) olan bir tablo gibi düşün.\n",
    "  # uzunluk = kaç tane oyuncak var (kaç pozisyon)\n",
    "  # genişlik = her oyuncağın kaç rengi/özelliği var (boyut)\n",
    "  context_length, dimension = input.shape\n",
    "\n",
    "  # Genişlik çift olmalı; çünkü yarısını sağ grup, yarısını sol grup yapacağız\n",
    "  assert dimension % 2 == 0, \"dimension must be even\"\n",
    "\n",
    "  # Genişliğin yarısı (sağ ve sol gruplar için)\n",
    "  half_dimension = dimension // 2\n",
    "\n",
    "  # freqs_indices: 0'dan yarıya kadar sayılar (farklı “hızlarda” döndürmek için)\n",
    "  freqs_indices = torch.arange(0, half_dimension, device=device, dtype=torch.float32)\n",
    "\n",
    "  # freqs: Her özellik için farklı bir “dönme hızı” (büyüdükçe daha yavaş)\n",
    "  # base büyük bir sayı; üstler bölündükçe küçük değerler çıkar, frekans gibi davranır\n",
    "  freqs = 1.0 / (base ** (freqs_indices / dimension))\n",
    "\n",
    "  # positions: 0, 1, 2, ... gibi sırayla oyuncakların konum numaraları (dike diziyoruz)\n",
    "  positions = torch.arange(0, context_length, device=device, dtype=torch.float32).unsqueeze(1)\n",
    "\n",
    "  # angles: Her konum için (pozisyon) ve her hız için (freq) çarpıp bir “açı” elde ediyoruz\n",
    "  angles = positions * freqs\n",
    "\n",
    "  # Bu açının sinüs ve kosinüs değerleri: dönme işleminin sihirli tuzu\n",
    "  sin_angles = torch.sin(angles)\n",
    "  cos_angles = torch.cos(angles)\n",
    "\n",
    "  # input'un yarısını “çiftler” (ilk yarı), diğer yarısını “tekler” (ikinci yarı) gibi ayır\n",
    "  # (Sanki kart destesini ikiye bölmek gibi)\n",
    "  input_even = input[:, :dimension // 2]  # ilk yarı\n",
    "  input_odd  = input[:, dimension // 2:]  # ikinci yarı\n",
    "\n",
    "  # DÖNDÜRME SİHİRİ:\n",
    "  # x' = x * cos - y * sin\n",
    "  # y' = x * sin + y * cos\n",
    "  # Böylece iki yarıyı birbirine göre nazikçe döndürmüş oluyoruz\n",
    "  input_even_rotated = input_even * cos_angles - input_odd * sin_angles\n",
    "  input_odd_rotated  = input_even * sin_angles + input_odd * cos_angles\n",
    "  \n",
    "  # Aynı boyutta boş bir kutu hazırlıyoruz, içine döndürülmüş halleri koyacağız\n",
    "  input_rotated = torch.empty_like(input)\n",
    "\n",
    "  # İlk yarıya döndürülmüş “çiftler”, ikinci yarıya döndürülmüş “tekler” gider\n",
    "  input_rotated[:, :dimension // 2] = input_even_rotated\n",
    "  input_rotated[:, dimension // 2:] = input_odd_rotated\n",
    "\n",
    "  # Ve döndürülmüş renkli oyuncaklarımızı geri veriyoruz :)\n",
    "  return input_rotated\n"
   ]
  },
  {
   "cell_type": "code",
   "execution_count": 34,
   "id": "8efb8d3f",
   "metadata": {},
   "outputs": [
    {
     "data": {
      "text/plain": [
       "tensor([[-1.5256, -0.7502, -0.6540, -1.6095],\n",
       "        [ 0.7703, -0.4455, -0.6137, -1.6619],\n",
       "        [ 1.0032,  0.3476, -0.3241, -0.1861],\n",
       "        [ 0.1878,  1.4736, -0.2575,  0.9453],\n",
       "        [ 0.9850, -1.1467,  0.0702, -0.2687],\n",
       "        [-0.3901, -0.1726, -1.0182,  0.8257],\n",
       "        [ 0.4304,  0.6715, -2.4639, -1.2932],\n",
       "        [ 0.5704, -0.3877, -0.5615, -0.4986],\n",
       "        [-0.4295,  0.5046,  1.8364, -0.5906],\n",
       "        [-0.2444,  0.4010, -0.0573, -0.2599],\n",
       "        [ 0.0073,  0.1824,  0.1928,  0.2308],\n",
       "        [ 1.5852,  0.0908, -2.3501, -1.2102],\n",
       "        [-0.7470,  0.6049,  0.5535,  0.3497],\n",
       "        [ 0.2025, -1.8238,  1.3777,  0.9645],\n",
       "        [ 0.2030,  0.7948,  0.1107,  0.8154],\n",
       "        [ 0.9969,  0.6845,  3.5316, -0.9203],\n",
       "        [-0.1472,  1.0350,  0.5783, -0.9935],\n",
       "        [ 1.6668, -0.0093, -0.2580, -0.0088],\n",
       "        [-1.2130,  0.8516, -0.1292,  0.0084],\n",
       "        [-0.5151,  1.1106,  0.3220, -0.2124],\n",
       "        [ 0.3904, -0.7068, -0.7293, -0.2138],\n",
       "        [ 0.6421,  0.3909, -1.2941, -0.3515],\n",
       "        [-0.2638, -0.2966,  1.0389, -0.8368],\n",
       "        [ 0.8050, -1.1707,  0.7320, -1.6775],\n",
       "        [ 1.0200, -0.2604, -0.2526,  1.4774],\n",
       "        [ 1.2502, -0.0135, -1.1027, -1.3779],\n",
       "        [ 0.9427, -0.4398,  0.9513,  0.4411],\n",
       "        [ 2.0278,  1.0449, -1.5785,  0.7597],\n",
       "        [-1.1894,  0.2543, -1.0010, -0.9573],\n",
       "        [ 0.2019, -0.1931, -0.5370,  0.4917],\n",
       "        [ 0.3813, -0.0315, -2.5296, -1.8749],\n",
       "        [-1.7704, -1.8112,  0.8933, -0.2649]])"
      ]
     },
     "execution_count": 34,
     "metadata": {},
     "output_type": "execute_result"
    }
   ],
   "source": [
    "torch.manual_seed(1)\n",
    "random_input = torch.randn(context_length, 4)\n",
    "\n",
    "pos_rotary_encodings = get_rotary_position_encoding(random_input)\n",
    "pos_rotary_encodings"
   ]
  },
  {
   "cell_type": "code",
   "execution_count": 35,
   "id": "8d12ae5b",
   "metadata": {},
   "outputs": [
    {
     "data": {
      "text/plain": [
       "torch.Size([20, 4])"
      ]
     },
     "execution_count": 35,
     "metadata": {},
     "output_type": "execute_result"
    }
   ],
   "source": [
    "meanings.shape"
   ]
  },
  {
   "cell_type": "code",
   "execution_count": 36,
   "id": "dfa93862",
   "metadata": {},
   "outputs": [
    {
     "data": {
      "text/plain": [
       "(tensor([[-1.5256, -0.7502, -0.6540, -1.6095],\n",
       "         [-0.2092, -0.2013, -0.7509, -0.0189],\n",
       "         [ 0.9326, -0.2774,  0.3166, -1.6980],\n",
       "         [ 0.7698, -0.1935,  0.1223, -0.0585],\n",
       "         [-0.1228,  0.3777,  1.0470, -0.1133],\n",
       "         [-0.4315, -0.1780,  0.6491, -0.0958],\n",
       "         [-0.1496,  1.1284,  0.2814,  1.3386],\n",
       "         [-0.4106, -0.1555, -0.6625, -0.1292],\n",
       "         [-0.5907, -0.9515, -0.7913, -0.6940],\n",
       "         [-0.3183,  1.2965, -0.8974, -0.5926],\n",
       "         [ 0.5000, -0.1103,  0.5979, -0.1694],\n",
       "         [-0.1583,  0.1584,  0.1103,  0.2478],\n",
       "         [-0.7518, -0.0745,  0.2059, -0.1879],\n",
       "         [-1.1096,  1.3501, -1.2345, -1.1534],\n",
       "         [ 0.1257, -0.0357, -0.7692, -0.1990],\n",
       "         [ 0.7132,  1.5620,  0.6792, -0.7215],\n",
       "         [ 0.6472,  0.0046,  0.4344, -0.2021],\n",
       "         [-0.5514,  0.2102,  0.8985,  0.3336],\n",
       "         [-0.6643,  0.0446,  0.4077, -0.1972],\n",
       "         [ 1.8345,  0.7552,  0.4377,  0.1818]], grad_fn=<CopySlices>),\n",
       " tensor([[-1.5256e+00, -7.5023e-01, -6.5398e-01, -1.6095e+00],\n",
       "         [-7.4484e-01, -2.0216e-01, -2.2967e-01,  1.3313e-03],\n",
       "         [-1.0017e-01, -6.0919e-01, -9.7977e-01, -1.6091e+00],\n",
       "         [-7.4484e-01, -2.0216e-01, -2.2967e-01,  1.3313e-03],\n",
       "         [-7.1214e-01,  3.0372e-01, -7.7731e-01, -2.5146e-01],\n",
       "         [-7.4484e-01, -2.0216e-01, -2.2967e-01,  1.3313e-03],\n",
       "         [-2.2227e-01,  1.6871e+00,  2.2843e-01,  4.6764e-01],\n",
       "         [-7.4484e-01, -2.0216e-01, -2.2967e-01,  1.3313e-03],\n",
       "         [-6.9697e-01, -1.1608e+00,  6.9954e-01,  1.9908e-01],\n",
       "         [-7.9829e-02,  3.4172e-01,  9.4883e-01, -1.3839e+00],\n",
       "         [-7.4484e-01, -2.0216e-01, -2.2967e-01,  1.3313e-03],\n",
       "         [-1.1102e-01,  2.9274e-01, -1.5785e-01, -2.8787e-02],\n",
       "         [-7.4484e-01, -2.0216e-01, -2.2967e-01,  1.3313e-03],\n",
       "         [-1.5256e+00, -7.5023e-01, -6.5398e-01, -1.6095e+00],\n",
       "         [-7.4484e-01, -2.0216e-01, -2.2967e-01,  1.3313e-03],\n",
       "         [-1.0017e-01, -6.0919e-01, -9.7977e-01, -1.6091e+00],\n",
       "         [-7.4484e-01, -2.0216e-01, -2.2967e-01,  1.3313e-03],\n",
       "         [-7.1214e-01,  3.0372e-01, -7.7731e-01, -2.5146e-01],\n",
       "         [-7.4484e-01, -2.0216e-01, -2.2967e-01,  1.3313e-03],\n",
       "         [ 1.8793e+00, -7.2132e-02,  1.5777e-01, -7.7345e-01]],\n",
       "        grad_fn=<EmbeddingBackward0>))"
      ]
     },
     "execution_count": 36,
     "metadata": {},
     "output_type": "execute_result"
    }
   ],
   "source": [
    "meanings_with_pos_encodings = get_rotary_position_encoding(meanings)\n",
    "meanings_with_pos_encodings, meanings"
   ]
  },
  {
   "cell_type": "code",
   "execution_count": 37,
   "id": "cfc06626",
   "metadata": {},
   "outputs": [
    {
     "data": {
      "application/vnd.plotly.v1+json": {
       "config": {
        "displaylogo": false,
        "plotlyServerURL": "https://plot.ly"
       },
       "data": [
        {
         "hoverinfo": "text",
         "marker": {
          "color": "red",
          "size": 6
         },
         "mode": "markers+text",
         "text": [
          "the",
          " ",
          "capital",
          " ",
          "of",
          " ",
          "united",
          " ",
          "state",
          "s",
          " ",
          "and",
          " ",
          "the",
          " ",
          "capital",
          " ",
          "of",
          " ",
          "france"
         ],
         "type": "scatter3d",
         "x": [
          -1.5255959033966064,
          -0.20918036997318268,
          0.9325886368751526,
          0.7697975635528564,
          -0.12278464436531067,
          -0.4315173029899597,
          -0.14959198236465454,
          -0.4106484055519104,
          -0.5906885266304016,
          -0.3182949423789978,
          0.5000304579734802,
          -0.15833494067192078,
          -0.7517704367637634,
          -1.1096159219741821,
          0.12566326558589935,
          0.713229775428772,
          0.6471816897392273,
          -0.5513519048690796,
          -0.664308488368988,
          1.834471583366394
         ],
         "y": [
          -0.7502318024635315,
          -0.20128019154071808,
          -0.27736765146255493,
          -0.19352160394191742,
          0.37766775488853455,
          -0.17804792523384094,
          1.1283879280090332,
          -0.15547603368759155,
          -0.9515227675437927,
          1.2964935302734375,
          -0.11034630239009857,
          0.15843889117240906,
          -0.07449407875537872,
          1.3501461744308472,
          -0.03567205369472504,
          1.5619730949401855,
          0.004572129808366299,
          0.2102264016866684,
          0.04463403671979904,
          0.7552398443222046
         ],
         "z": [
          -0.6539809107780457,
          -0.7508519887924194,
          0.31664741039276123,
          0.12225756794214249,
          1.047039270401001,
          0.6490978002548218,
          0.2814328670501709,
          -0.6624975800514221,
          -0.7913388609886169,
          -0.8974041938781738,
          0.5979169011116028,
          0.11032016575336456,
          0.20585525035858154,
          -1.2344579696655273,
          -0.769248902797699,
          0.6791836619377136,
          0.4343857765197754,
          0.8985424637794495,
          0.4077123701572418,
          0.4376596212387085
         ]
        },
        {
         "hoverinfo": "text",
         "marker": {
          "color": "blue",
          "size": 6
         },
         "mode": "markers+text",
         "text": [
          "the",
          " ",
          "capital",
          " ",
          "of",
          " ",
          "united",
          " ",
          "state",
          "s",
          " ",
          "and",
          " ",
          "the",
          " ",
          "capital",
          " ",
          "of",
          " ",
          "france"
         ],
         "type": "scatter3d",
         "x": [
          -1.5255959033966064,
          -0.7448408007621765,
          -0.1001671776175499,
          -0.7448408007621765,
          -0.7121446132659912,
          -0.7448408007621765,
          -0.22227048873901367,
          -0.7448408007621765,
          -0.6969724297523499,
          -0.07982871681451797,
          -0.7448408007621765,
          -0.11101982742547989,
          -0.7448408007621765,
          -1.5255959033966064,
          -0.7448408007621765,
          -0.1001671776175499,
          -0.7448408007621765,
          -0.7121446132659912,
          -0.7448408007621765,
          1.8793457746505737
         ],
         "y": [
          -0.7502318024635315,
          -0.20215721428394318,
          -0.6091889142990112,
          -0.20215721428394318,
          0.30372199416160583,
          -0.20215721428394318,
          1.6871134042739868,
          -0.20215721428394318,
          -1.1607614755630493,
          0.34172430634498596,
          -0.20215721428394318,
          0.2927352488040924,
          -0.20215721428394318,
          -0.7502318024635315,
          -0.20215721428394318,
          -0.6091889142990112,
          -0.20215721428394318,
          0.30372199416160583,
          -0.20215721428394318,
          -0.07213178277015686
         ],
         "z": [
          -0.6539809107780457,
          -0.22966790199279785,
          -0.9797722697257996,
          -0.22966790199279785,
          -0.777314305305481,
          -0.22966790199279785,
          0.22842517495155334,
          -0.22966790199279785,
          0.6995424032211304,
          0.94882732629776,
          -0.22966790199279785,
          -0.1578451544046402,
          -0.22966790199279785,
          -0.6539809107780457,
          -0.22966790199279785,
          -0.9797722697257996,
          -0.22966790199279785,
          -0.777314305305481,
          -0.22966790199279785,
          0.15777060389518738
         ]
        }
       ],
       "layout": {
        "scene": {
         "xaxis": {
          "title": {
           "text": "Sertlik"
          }
         },
         "yaxis": {
          "title": {
           "text": "Parlaklık"
          }
         },
         "zaxis": {
          "title": {
           "text": "Kırmızılık"
          }
         }
        },
        "template": {
         "data": {
          "bar": [
           {
            "error_x": {
             "color": "#2a3f5f"
            },
            "error_y": {
             "color": "#2a3f5f"
            },
            "marker": {
             "line": {
              "color": "#E5ECF6",
              "width": 0.5
             },
             "pattern": {
              "fillmode": "overlay",
              "size": 10,
              "solidity": 0.2
             }
            },
            "type": "bar"
           }
          ],
          "barpolar": [
           {
            "marker": {
             "line": {
              "color": "#E5ECF6",
              "width": 0.5
             },
             "pattern": {
              "fillmode": "overlay",
              "size": 10,
              "solidity": 0.2
             }
            },
            "type": "barpolar"
           }
          ],
          "carpet": [
           {
            "aaxis": {
             "endlinecolor": "#2a3f5f",
             "gridcolor": "white",
             "linecolor": "white",
             "minorgridcolor": "white",
             "startlinecolor": "#2a3f5f"
            },
            "baxis": {
             "endlinecolor": "#2a3f5f",
             "gridcolor": "white",
             "linecolor": "white",
             "minorgridcolor": "white",
             "startlinecolor": "#2a3f5f"
            },
            "type": "carpet"
           }
          ],
          "choropleth": [
           {
            "colorbar": {
             "outlinewidth": 0,
             "ticks": ""
            },
            "type": "choropleth"
           }
          ],
          "contour": [
           {
            "colorbar": {
             "outlinewidth": 0,
             "ticks": ""
            },
            "colorscale": [
             [
              0,
              "#0d0887"
             ],
             [
              0.1111111111111111,
              "#46039f"
             ],
             [
              0.2222222222222222,
              "#7201a8"
             ],
             [
              0.3333333333333333,
              "#9c179e"
             ],
             [
              0.4444444444444444,
              "#bd3786"
             ],
             [
              0.5555555555555556,
              "#d8576b"
             ],
             [
              0.6666666666666666,
              "#ed7953"
             ],
             [
              0.7777777777777778,
              "#fb9f3a"
             ],
             [
              0.8888888888888888,
              "#fdca26"
             ],
             [
              1,
              "#f0f921"
             ]
            ],
            "type": "contour"
           }
          ],
          "contourcarpet": [
           {
            "colorbar": {
             "outlinewidth": 0,
             "ticks": ""
            },
            "type": "contourcarpet"
           }
          ],
          "heatmap": [
           {
            "colorbar": {
             "outlinewidth": 0,
             "ticks": ""
            },
            "colorscale": [
             [
              0,
              "#0d0887"
             ],
             [
              0.1111111111111111,
              "#46039f"
             ],
             [
              0.2222222222222222,
              "#7201a8"
             ],
             [
              0.3333333333333333,
              "#9c179e"
             ],
             [
              0.4444444444444444,
              "#bd3786"
             ],
             [
              0.5555555555555556,
              "#d8576b"
             ],
             [
              0.6666666666666666,
              "#ed7953"
             ],
             [
              0.7777777777777778,
              "#fb9f3a"
             ],
             [
              0.8888888888888888,
              "#fdca26"
             ],
             [
              1,
              "#f0f921"
             ]
            ],
            "type": "heatmap"
           }
          ],
          "heatmapgl": [
           {
            "colorbar": {
             "outlinewidth": 0,
             "ticks": ""
            },
            "colorscale": [
             [
              0,
              "#0d0887"
             ],
             [
              0.1111111111111111,
              "#46039f"
             ],
             [
              0.2222222222222222,
              "#7201a8"
             ],
             [
              0.3333333333333333,
              "#9c179e"
             ],
             [
              0.4444444444444444,
              "#bd3786"
             ],
             [
              0.5555555555555556,
              "#d8576b"
             ],
             [
              0.6666666666666666,
              "#ed7953"
             ],
             [
              0.7777777777777778,
              "#fb9f3a"
             ],
             [
              0.8888888888888888,
              "#fdca26"
             ],
             [
              1,
              "#f0f921"
             ]
            ],
            "type": "heatmapgl"
           }
          ],
          "histogram": [
           {
            "marker": {
             "pattern": {
              "fillmode": "overlay",
              "size": 10,
              "solidity": 0.2
             }
            },
            "type": "histogram"
           }
          ],
          "histogram2d": [
           {
            "colorbar": {
             "outlinewidth": 0,
             "ticks": ""
            },
            "colorscale": [
             [
              0,
              "#0d0887"
             ],
             [
              0.1111111111111111,
              "#46039f"
             ],
             [
              0.2222222222222222,
              "#7201a8"
             ],
             [
              0.3333333333333333,
              "#9c179e"
             ],
             [
              0.4444444444444444,
              "#bd3786"
             ],
             [
              0.5555555555555556,
              "#d8576b"
             ],
             [
              0.6666666666666666,
              "#ed7953"
             ],
             [
              0.7777777777777778,
              "#fb9f3a"
             ],
             [
              0.8888888888888888,
              "#fdca26"
             ],
             [
              1,
              "#f0f921"
             ]
            ],
            "type": "histogram2d"
           }
          ],
          "histogram2dcontour": [
           {
            "colorbar": {
             "outlinewidth": 0,
             "ticks": ""
            },
            "colorscale": [
             [
              0,
              "#0d0887"
             ],
             [
              0.1111111111111111,
              "#46039f"
             ],
             [
              0.2222222222222222,
              "#7201a8"
             ],
             [
              0.3333333333333333,
              "#9c179e"
             ],
             [
              0.4444444444444444,
              "#bd3786"
             ],
             [
              0.5555555555555556,
              "#d8576b"
             ],
             [
              0.6666666666666666,
              "#ed7953"
             ],
             [
              0.7777777777777778,
              "#fb9f3a"
             ],
             [
              0.8888888888888888,
              "#fdca26"
             ],
             [
              1,
              "#f0f921"
             ]
            ],
            "type": "histogram2dcontour"
           }
          ],
          "mesh3d": [
           {
            "colorbar": {
             "outlinewidth": 0,
             "ticks": ""
            },
            "type": "mesh3d"
           }
          ],
          "parcoords": [
           {
            "line": {
             "colorbar": {
              "outlinewidth": 0,
              "ticks": ""
             }
            },
            "type": "parcoords"
           }
          ],
          "pie": [
           {
            "automargin": true,
            "type": "pie"
           }
          ],
          "scatter": [
           {
            "fillpattern": {
             "fillmode": "overlay",
             "size": 10,
             "solidity": 0.2
            },
            "type": "scatter"
           }
          ],
          "scatter3d": [
           {
            "line": {
             "colorbar": {
              "outlinewidth": 0,
              "ticks": ""
             }
            },
            "marker": {
             "colorbar": {
              "outlinewidth": 0,
              "ticks": ""
             }
            },
            "type": "scatter3d"
           }
          ],
          "scattercarpet": [
           {
            "marker": {
             "colorbar": {
              "outlinewidth": 0,
              "ticks": ""
             }
            },
            "type": "scattercarpet"
           }
          ],
          "scattergeo": [
           {
            "marker": {
             "colorbar": {
              "outlinewidth": 0,
              "ticks": ""
             }
            },
            "type": "scattergeo"
           }
          ],
          "scattergl": [
           {
            "marker": {
             "colorbar": {
              "outlinewidth": 0,
              "ticks": ""
             }
            },
            "type": "scattergl"
           }
          ],
          "scattermapbox": [
           {
            "marker": {
             "colorbar": {
              "outlinewidth": 0,
              "ticks": ""
             }
            },
            "type": "scattermapbox"
           }
          ],
          "scatterpolar": [
           {
            "marker": {
             "colorbar": {
              "outlinewidth": 0,
              "ticks": ""
             }
            },
            "type": "scatterpolar"
           }
          ],
          "scatterpolargl": [
           {
            "marker": {
             "colorbar": {
              "outlinewidth": 0,
              "ticks": ""
             }
            },
            "type": "scatterpolargl"
           }
          ],
          "scatterternary": [
           {
            "marker": {
             "colorbar": {
              "outlinewidth": 0,
              "ticks": ""
             }
            },
            "type": "scatterternary"
           }
          ],
          "surface": [
           {
            "colorbar": {
             "outlinewidth": 0,
             "ticks": ""
            },
            "colorscale": [
             [
              0,
              "#0d0887"
             ],
             [
              0.1111111111111111,
              "#46039f"
             ],
             [
              0.2222222222222222,
              "#7201a8"
             ],
             [
              0.3333333333333333,
              "#9c179e"
             ],
             [
              0.4444444444444444,
              "#bd3786"
             ],
             [
              0.5555555555555556,
              "#d8576b"
             ],
             [
              0.6666666666666666,
              "#ed7953"
             ],
             [
              0.7777777777777778,
              "#fb9f3a"
             ],
             [
              0.8888888888888888,
              "#fdca26"
             ],
             [
              1,
              "#f0f921"
             ]
            ],
            "type": "surface"
           }
          ],
          "table": [
           {
            "cells": {
             "fill": {
              "color": "#EBF0F8"
             },
             "line": {
              "color": "white"
             }
            },
            "header": {
             "fill": {
              "color": "#C8D4E3"
             },
             "line": {
              "color": "white"
             }
            },
            "type": "table"
           }
          ]
         },
         "layout": {
          "annotationdefaults": {
           "arrowcolor": "#2a3f5f",
           "arrowhead": 0,
           "arrowwidth": 1
          },
          "autotypenumbers": "strict",
          "coloraxis": {
           "colorbar": {
            "outlinewidth": 0,
            "ticks": ""
           }
          },
          "colorscale": {
           "diverging": [
            [
             0,
             "#8e0152"
            ],
            [
             0.1,
             "#c51b7d"
            ],
            [
             0.2,
             "#de77ae"
            ],
            [
             0.3,
             "#f1b6da"
            ],
            [
             0.4,
             "#fde0ef"
            ],
            [
             0.5,
             "#f7f7f7"
            ],
            [
             0.6,
             "#e6f5d0"
            ],
            [
             0.7,
             "#b8e186"
            ],
            [
             0.8,
             "#7fbc41"
            ],
            [
             0.9,
             "#4d9221"
            ],
            [
             1,
             "#276419"
            ]
           ],
           "sequential": [
            [
             0,
             "#0d0887"
            ],
            [
             0.1111111111111111,
             "#46039f"
            ],
            [
             0.2222222222222222,
             "#7201a8"
            ],
            [
             0.3333333333333333,
             "#9c179e"
            ],
            [
             0.4444444444444444,
             "#bd3786"
            ],
            [
             0.5555555555555556,
             "#d8576b"
            ],
            [
             0.6666666666666666,
             "#ed7953"
            ],
            [
             0.7777777777777778,
             "#fb9f3a"
            ],
            [
             0.8888888888888888,
             "#fdca26"
            ],
            [
             1,
             "#f0f921"
            ]
           ],
           "sequentialminus": [
            [
             0,
             "#0d0887"
            ],
            [
             0.1111111111111111,
             "#46039f"
            ],
            [
             0.2222222222222222,
             "#7201a8"
            ],
            [
             0.3333333333333333,
             "#9c179e"
            ],
            [
             0.4444444444444444,
             "#bd3786"
            ],
            [
             0.5555555555555556,
             "#d8576b"
            ],
            [
             0.6666666666666666,
             "#ed7953"
            ],
            [
             0.7777777777777778,
             "#fb9f3a"
            ],
            [
             0.8888888888888888,
             "#fdca26"
            ],
            [
             1,
             "#f0f921"
            ]
           ]
          },
          "colorway": [
           "#636efa",
           "#EF553B",
           "#00cc96",
           "#ab63fa",
           "#FFA15A",
           "#19d3f3",
           "#FF6692",
           "#B6E880",
           "#FF97FF",
           "#FECB52"
          ],
          "font": {
           "color": "#2a3f5f"
          },
          "geo": {
           "bgcolor": "white",
           "lakecolor": "white",
           "landcolor": "#E5ECF6",
           "showlakes": true,
           "showland": true,
           "subunitcolor": "white"
          },
          "hoverlabel": {
           "align": "left"
          },
          "hovermode": "closest",
          "mapbox": {
           "style": "light"
          },
          "paper_bgcolor": "white",
          "plot_bgcolor": "#E5ECF6",
          "polar": {
           "angularaxis": {
            "gridcolor": "white",
            "linecolor": "white",
            "ticks": ""
           },
           "bgcolor": "#E5ECF6",
           "radialaxis": {
            "gridcolor": "white",
            "linecolor": "white",
            "ticks": ""
           }
          },
          "scene": {
           "xaxis": {
            "backgroundcolor": "#E5ECF6",
            "gridcolor": "white",
            "gridwidth": 2,
            "linecolor": "white",
            "showbackground": true,
            "ticks": "",
            "zerolinecolor": "white"
           },
           "yaxis": {
            "backgroundcolor": "#E5ECF6",
            "gridcolor": "white",
            "gridwidth": 2,
            "linecolor": "white",
            "showbackground": true,
            "ticks": "",
            "zerolinecolor": "white"
           },
           "zaxis": {
            "backgroundcolor": "#E5ECF6",
            "gridcolor": "white",
            "gridwidth": 2,
            "linecolor": "white",
            "showbackground": true,
            "ticks": "",
            "zerolinecolor": "white"
           }
          },
          "shapedefaults": {
           "line": {
            "color": "#2a3f5f"
           }
          },
          "ternary": {
           "aaxis": {
            "gridcolor": "white",
            "linecolor": "white",
            "ticks": ""
           },
           "baxis": {
            "gridcolor": "white",
            "linecolor": "white",
            "ticks": ""
           },
           "bgcolor": "#E5ECF6",
           "caxis": {
            "gridcolor": "white",
            "linecolor": "white",
            "ticks": ""
           }
          },
          "title": {
           "x": 0.05
          },
          "xaxis": {
           "automargin": true,
           "gridcolor": "white",
           "linecolor": "white",
           "ticks": "",
           "title": {
            "standoff": 15
           },
           "zerolinecolor": "white",
           "zerolinewidth": 2
          },
          "yaxis": {
           "automargin": true,
           "gridcolor": "white",
           "linecolor": "white",
           "ticks": "",
           "title": {
            "standoff": 15
           },
           "zerolinecolor": "white",
           "zerolinewidth": 2
          }
         }
        },
        "title": {
         "text": "Sentence Context Space V3 Rotary Encoding"
        }
       }
      }
     },
     "metadata": {},
     "output_type": "display_data"
    }
   ],
   "source": [
    "sentences = [\n",
    "  {\n",
    "    \"words\": meanings_with_pos_encodings.detach().numpy(),\n",
    "    \"labels\": tokenizer.tokenize(sentence),\n",
    "    \"color\": \"red\",\n",
    "  },\n",
    "  {\n",
    "    \"words\": meanings.detach().numpy(),\n",
    "    \"labels\": tokenizer.tokenize(sentence),\n",
    "    \"color\": \"blue\",\n",
    "  },\n",
    "]\n",
    "\n",
    "plot_dots(sentences, \"Sentence Context Space V3 Rotary Encoding\")"
   ]
  },
  {
   "cell_type": "markdown",
   "id": "f90a3ac1",
   "metadata": {},
   "source": [
    "Örnek bir model import"
   ]
  },
  {
   "cell_type": "code",
   "execution_count": 1,
   "id": "e0608d4d",
   "metadata": {},
   "outputs": [
    {
     "name": "stderr",
     "output_type": "stream",
     "text": [
      "C:\\Users\\Artun\\AppData\\Local\\Temp\\ipykernel_44444\\2436455648.py:11: UserWarning: To copy construct from a tensor, it is recommended to use sourceTensor.detach().clone() or sourceTensor.detach().clone().requires_grad_(True), rather than torch.tensor(sourceTensor).\n",
      "  tokens = torch.tensor(tokens)\n"
     ]
    },
    {
     "data": {
      "text/plain": [
       "UstaModel(\n",
       "  (embedding): Embedding(64, 4)\n",
       "  (pos_embedding): Embedding(64, 4)\n",
       ")"
      ]
     },
     "execution_count": 1,
     "metadata": {},
     "output_type": "execute_result"
    }
   ],
   "source": [
    "import torch\n",
    "\n",
    "from usta_model import UstaModel\n",
    "from usta_tokenizer import UstaTokenizer\n",
    "\n",
    "u_tokenizer = UstaTokenizer(\"tokenizer.json\")\n",
    "\n",
    "promt = \"the capital of united states and the capital of france\"\n",
    "\n",
    "tokens = u_tokenizer.encode(promt)\n",
    "tokens = torch.tensor(tokens)\n",
    "\n",
    "model = UstaModel(vocab_size=len(u_tokenizer.vocab), embedding_dim=4, context_length=32)\n",
    "\n",
    "model"
   ]
  }
 ],
 "metadata": {
  "kernelspec": {
   "display_name": "base",
   "language": "python",
   "name": "python3"
  },
  "language_info": {
   "codemirror_mode": {
    "name": "ipython",
    "version": 3
   },
   "file_extension": ".py",
   "mimetype": "text/x-python",
   "name": "python",
   "nbconvert_exporter": "python",
   "pygments_lexer": "ipython3",
   "version": "3.11.7"
  }
 },
 "nbformat": 4,
 "nbformat_minor": 5
}
