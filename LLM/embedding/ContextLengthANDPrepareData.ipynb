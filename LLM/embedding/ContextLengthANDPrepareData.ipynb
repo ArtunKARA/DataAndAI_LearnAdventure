{
 "cells": [
  {
   "cell_type": "code",
   "execution_count": 1,
   "id": "576ecece",
   "metadata": {},
   "outputs": [],
   "source": [
    "# the capital of france is paris\n",
    "\n",
    "prompt = \"the capital of the united states is not \"\n",
    "\n",
    "next_token = \" \"\n",
    "\n",
    "output = \"the capital of france is paris, \""
   ]
  },
  {
   "cell_type": "code",
   "execution_count": 2,
   "id": "0bfdf905",
   "metadata": {},
   "outputs": [],
   "source": [
    "context_length = 12 # gpt-4o 128k, gemma-3-1b 32K"
   ]
  },
  {
   "cell_type": "code",
   "execution_count": 3,
   "id": "02b86456",
   "metadata": {},
   "outputs": [],
   "source": [
    "data = \"the capital <pad> <pad> <pad> <pad> \"\n",
    "hedef = \"capital of <pad> <pad> <pad> <pad> \""
   ]
  },
  {
   "cell_type": "code",
   "execution_count": 4,
   "id": "0afc35de",
   "metadata": {},
   "outputs": [
    {
     "data": {
      "text/plain": [
       "(16, [0, 61, 1, 61, 2, 61, 0, 61, 3, 61, 4, 58, 61, 5, 61, 6])"
      ]
     },
     "execution_count": 4,
     "metadata": {},
     "output_type": "execute_result"
    }
   ],
   "source": [
    "from tokenizer import Tokenizer\n",
    "\n",
    "tokenizer = Tokenizer(\"tokenizer.json\")\n",
    "\n",
    "ids = tokenizer.encode(prompt)\n",
    "\n",
    "len(ids), ids"
   ]
  },
  {
   "cell_type": "code",
   "execution_count": null,
   "id": "71836556",
   "metadata": {},
   "outputs": [],
   "source": [
    "# Load model directly\n",
    "from transformers import AutoTokenizer, Gemma3ForCausalLM\n",
    "\n",
    "gemma_tokenizer = AutoTokenizer.from_pretrained(\"google/gemma-3-1b-it\")\n",
    "gemma_model = Gemma3ForCausalLM.from_pretrained(\"google/gemma-3-1b-it\")\n",
    "\n",
    "gemma_tokenizer.encode(prompt)"
   ]
  },
  {
   "cell_type": "code",
   "execution_count": 5,
   "id": "e5af009c",
   "metadata": {},
   "outputs": [],
   "source": [
    "\n",
    "girdi = \"the letter capital of the united states is not\"\n",
    "cikti = \"letter capital of the united states is not london\""
   ]
  },
  {
   "cell_type": "code",
   "execution_count": 7,
   "id": "86e5bf7c",
   "metadata": {},
   "outputs": [
    {
     "data": {
      "text/plain": [
       "'the capital of the united states is not london. the capital of france is paris, and berlin is the capital of germany. rome is in italy, \\n\\nmadrid is in spain, and lisbon is in portugal. the capital of the united kingdom is not paris, and the capital of the united states is not berlin. \\nalthough these places are often mentioned together, although these capitals are often mentioned together, although these are often mentioned together, \\neach country has its own capital, and each country has its own city, and each capital has its own identity, and each capital has its own history. washington \\nis the capital of the united states, and london is the capital of the united kingdom. paris is known for art and fashion, and berlin is known for art and \\nhistory, and rome is known for art and history, and madrid is known for culture and history, and lisbon is known for culture and art. rome is rich with culture, \\nrome is rich with history, rome is rich with art, and madrid is rich with art and culture. lisbon is a unique city in portugal with a rich history, a rich culture, \\nand a rich identity. these capitals are often mentioned together, these capitals are often mentioned together in art, these capitals are often mentioned together \\nin culture, these capitals are often mentioned together in history. the united states is not in europe, the united states is not in any european place, and \\nwashington is not in any european city. each european country is made of important capitals, and each european capital is made of art, history, and culture. \\nthe capital of the united states is washington, the capital of the united kingdom is london, the capital of france is paris, the capital of germany is berlin, \\nthe capital of italy is rome, the capital of spain is madrid, and the capital of portugal is lisbon. while these capitals are in europe, while these capitals are \\nin europe, washington is in the united states. these capitals remain important, these remain important, these places remain important in the world. the \\ncapital of each country is its own, the capital of each country is its identity, the capital of each country is its culture. europe is made of many, \\neurope is made of many capitals, europe is made of many important places. each place is rich with culture, each place is rich with history, and each capital is \\n\\nrich with identity. the world is made of capitals, the world is made of, the world is made of places, and the capital of the united states is washington, \\nnot any european city, not paris, not london, not berlin. the capital of the united states is not london. the capital of france is paris, and berlin is the capital of germany.\\nrome is in italy, madrid is in spain, and lisbon is in portugal. the capital of the united kingdom is not paris, and the capital of the united \\nstates is not berlin. although these places are often mentioned together, each country has its own capital, and each capital has its own identity. \\nwashington is the capital of the united states, and london is the capital of the united kingdom. paris is known for art and fashion, while berlin is \\nfamous for its culture and history. rome is rich with history, and madrid is known for its art and culture. lisbon is a unique city in portugal \\nwith a rich history. these capitals are often mentioned together, although each place with its own culture. the united states is not in europe, \\nand washington is not in any european country. these european capitals are made of history, culture, and identity. each country in europe has a capital, \\nand each capital is known for important. london, paris, berlin, rome, madrid, and lisbon remain important places in the world. while these capitals\\nare in europe, washington is in the united states. although these places are not in the country, they are often mentioned together in art, culture, \\nand history. the capital of each country is its own. europe is made of many capitals, and each has a capital with a unique history. \\nthe world is of important places, and the capital of the united states is washington, not any european city.'"
      ]
     },
     "execution_count": 7,
     "metadata": {},
     "output_type": "execute_result"
    }
   ],
   "source": [
    "with open(\"text.txt\", \"r\") as f:\n",
    "  text = f.read()\n",
    "\n",
    "text"
   ]
  },
  {
   "cell_type": "code",
   "execution_count": 8,
   "id": "baef2855",
   "metadata": {},
   "outputs": [],
   "source": [
    "token_ids = tokenizer.encode(text)\n",
    "# save ids\n",
    "\n",
    "ids_text = \"\"\n",
    "\n",
    "for token_id in token_ids:\n",
    "  ids_text += f\"{token_id} \"\n",
    "\n",
    "with open(\"token_ids.txt\", \"w\") as f:\n",
    "  f.write(ids_text)"
   ]
  },
  {
   "cell_type": "code",
   "execution_count": 9,
   "id": "3330281c",
   "metadata": {},
   "outputs": [],
   "source": [
    "import torch\n",
    "from torch.utils.data import DataLoader\n",
    "from TextDataset import TextDataset\n",
    "\n",
    "stride = 12\n",
    "\n",
    "def create_data_loader(token_ids: list, context_length: int, stride: int,\n",
    "                       batch_size: int, shuffle: bool = True, device: str = \"cpu\"):# token id listesi, uzunluk, kaçar kaçar atmalama,\n",
    "  dataset = TextDataset(token_ids, context_length, stride)\n",
    "  dataloader = DataLoader(\n",
    "      dataset,# veri seti\n",
    "      batch_size=batch_size,#kaç adımda bir bi modelde düzeltme uygulanılacak\n",
    "      shuffle=shuffle,#karıştıma \n",
    "      generator=torch.Generator(device=device)#veri ütretiliyor ve kullanılacak olunan cihaz belirleniyor ör \"cpu\"  \n",
    "    )\n",
    "  \n",
    "  return dataloader"
   ]
  },
  {
   "cell_type": "code",
   "execution_count": 10,
   "id": "bd12051c",
   "metadata": {},
   "outputs": [
    {
     "data": {
      "text/plain": [
       "132"
      ]
     },
     "execution_count": 10,
     "metadata": {},
     "output_type": "execute_result"
    }
   ],
   "source": [
    "train_data_loader = create_data_loader(token_ids, context_length, stride, 1, False)\n",
    "\n",
    "len(train_data_loader)"
   ]
  },
  {
   "cell_type": "code",
   "execution_count": 11,
   "id": "aa64dfb9",
   "metadata": {},
   "outputs": [
    {
     "name": "stdout",
     "output_type": "stream",
     "text": [
      "(0, [tensor([[ 0, 61,  1, 61,  2, 61,  0, 61,  3, 61,  4, 58]]), tensor([[61,  1, 61,  2, 61,  0, 61,  3, 61,  4, 58, 61]])])\n",
      "(1, [tensor([[61,  5, 61,  6, 61,  7, 59, 61,  0, 61,  1, 61]]), tensor([[ 5, 61,  6, 61,  7, 59, 61,  0, 61,  1, 61,  2]])])\n",
      "(2, [tensor([[ 2, 61,  8, 61,  5, 61,  9, 60, 61, 10, 61, 11]]), tensor([[61,  8, 61,  5, 61,  9, 60, 61, 10, 61, 11, 61]])])\n"
     ]
    }
   ],
   "source": [
    "i = 0\n",
    "for batch in enumerate(train_data_loader):\n",
    "  print(batch)\n",
    "  i += 1\n",
    "  if i > 2:\n",
    "    break"
   ]
  }
 ],
 "metadata": {
  "kernelspec": {
   "display_name": "base",
   "language": "python",
   "name": "python3"
  },
  "language_info": {
   "codemirror_mode": {
    "name": "ipython",
    "version": 3
   },
   "file_extension": ".py",
   "mimetype": "text/x-python",
   "name": "python",
   "nbconvert_exporter": "python",
   "pygments_lexer": "ipython3",
   "version": "3.11.7"
  }
 },
 "nbformat": 4,
 "nbformat_minor": 5
}
