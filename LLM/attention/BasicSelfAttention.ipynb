{
 "cells": [
  {
   "cell_type": "code",
   "execution_count": 1,
   "metadata": {},
   "outputs": [
    {
     "data": {
      "text/plain": [
       "torch.Size([20, 4])"
      ]
     },
     "execution_count": 1,
     "metadata": {},
     "output_type": "execute_result"
    }
   ],
   "source": [
    "import torch\n",
    "from usta_model import UstaModel\n",
    "from usta_tokenizer import UstaTokenizer\n",
    "\n",
    "u_tokenizer = UstaTokenizer(\"tokenizer.json\")\n",
    "\n",
    "prompt = \"the capital of united states and the capital of france\"\n",
    "\n",
    "tokens = u_tokenizer.encode(prompt)\n",
    "\n",
    "torch.manual_seed(1)\n",
    "u_model = UstaModel(vocab_size=len(u_tokenizer.vocab), embedding_dim=4, context_length=32)\n",
    "\n",
    "sentence_meanings = u_model(tokens)\n",
    "sentence_meanings.shape"
   ]
  },
  {
   "cell_type": "code",
   "execution_count": 2,
   "metadata": {},
   "outputs": [
    {
     "name": "stderr",
     "output_type": "stream",
     "text": [
      "c:\\Users\\Artun\\anaconda3\\envs\\LLM\\Lib\\site-packages\\tqdm\\auto.py:21: TqdmWarning: IProgress not found. Please update jupyter and ipywidgets. See https://ipywidgets.readthedocs.io/en/stable/user_install.html\n",
      "  from .autonotebook import tqdm as notebook_tqdm\n"
     ]
    },
    {
     "data": {
      "text/plain": [
       "(UstaModel(\n",
       "   (embedding): Embedding(64, 4)\n",
       "   (pos_embedding): Embedding(64, 4)\n",
       " ),\n",
       " Gemma3ForCausalLM(\n",
       "   (model): Gemma3TextModel(\n",
       "     (embed_tokens): Gemma3TextScaledWordEmbedding(262144, 1152, padding_idx=0)\n",
       "     (layers): ModuleList(\n",
       "       (0-25): 26 x Gemma3DecoderLayer(\n",
       "         (self_attn): Gemma3Attention(\n",
       "           (q_proj): Linear(in_features=1152, out_features=1024, bias=False)\n",
       "           (k_proj): Linear(in_features=1152, out_features=256, bias=False)\n",
       "           (v_proj): Linear(in_features=1152, out_features=256, bias=False)\n",
       "           (o_proj): Linear(in_features=1024, out_features=1152, bias=False)\n",
       "           (q_norm): Gemma3RMSNorm((256,), eps=1e-06)\n",
       "           (k_norm): Gemma3RMSNorm((256,), eps=1e-06)\n",
       "         )\n",
       "         (mlp): Gemma3MLP(\n",
       "           (gate_proj): Linear(in_features=1152, out_features=6912, bias=False)\n",
       "           (up_proj): Linear(in_features=1152, out_features=6912, bias=False)\n",
       "           (down_proj): Linear(in_features=6912, out_features=1152, bias=False)\n",
       "           (act_fn): GELUTanh()\n",
       "         )\n",
       "         (input_layernorm): Gemma3RMSNorm((1152,), eps=1e-06)\n",
       "         (post_attention_layernorm): Gemma3RMSNorm((1152,), eps=1e-06)\n",
       "         (pre_feedforward_layernorm): Gemma3RMSNorm((1152,), eps=1e-06)\n",
       "         (post_feedforward_layernorm): Gemma3RMSNorm((1152,), eps=1e-06)\n",
       "       )\n",
       "     )\n",
       "     (norm): Gemma3RMSNorm((1152,), eps=1e-06)\n",
       "     (rotary_emb): Gemma3RotaryEmbedding()\n",
       "     (rotary_emb_local): Gemma3RotaryEmbedding()\n",
       "   )\n",
       "   (lm_head): Linear(in_features=1152, out_features=262144, bias=False)\n",
       " ))"
      ]
     },
     "execution_count": 2,
     "metadata": {},
     "output_type": "execute_result"
    }
   ],
   "source": [
    "from transformers import Gemma3ForCausalLM\n",
    "\n",
    "gemma_model = Gemma3ForCausalLM.from_pretrained(\"google/gemma-3-1b-it\")\n",
    "u_model, gemma_model"
   ]
  },
  {
   "cell_type": "code",
   "execution_count": 3,
   "metadata": {},
   "outputs": [
    {
     "data": {
      "text/plain": [
       "['the',\n",
       " ' ',\n",
       " 'capital',\n",
       " ' ',\n",
       " 'of',\n",
       " ' ',\n",
       " 'united',\n",
       " ' ',\n",
       " 'state',\n",
       " 's',\n",
       " ' ',\n",
       " 'and',\n",
       " ' ',\n",
       " 'the',\n",
       " ' ',\n",
       " 'capital',\n",
       " ' ',\n",
       " 'of',\n",
       " ' ',\n",
       " 'france']"
      ]
     },
     "execution_count": 3,
     "metadata": {},
     "output_type": "execute_result"
    }
   ],
   "source": [
    "u_tokenizer.tokenize(prompt)"
   ]
  },
  {
   "cell_type": "code",
   "execution_count": 4,
   "metadata": {},
   "outputs": [
    {
     "data": {
      "application/vnd.plotly.v1+json": {
       "config": {
        "linkText": "Export to plot.ly",
        "plotlyServerURL": "https://plot.ly",
        "showLink": false
       },
       "data": [
        {
         "hoverinfo": "text",
         "marker": {
          "color": "red",
          "size": 6
         },
         "mode": "markers+text",
         "text": [
          "the",
          " ",
          "capital",
          " ",
          "of",
          " ",
          "united",
          " ",
          "state",
          "s",
          " ",
          "and",
          " ",
          "the",
          " ",
          "capital",
          " ",
          "of",
          " ",
          "france"
         ],
         "type": "scatter3d",
         "x": {
          "bdata": "ukbDv+OtPr9zJM29460+vxxPNr/jrT6/4JpjvuOtPr/JbDK/PX2jveOtPr9dXuO9460+v7pGw7/jrT6/cyTNveOtPr8cTza/460+v2eO8D8=",
          "dtype": "f4"
         },
         "y": {
          "bdata": "MQ9Av00CT77O8xu/TQJPvnOBmz5NAk++VfPXP00CT77Vk5S/ffauPk0CT75l4ZU+TQJPvjEPQL9NAk++zvMbv00CT75zgZs+TQJPvtS5k70=",
          "dtype": "f4"
         },
         "z": {
          "bdata": "S2snvxAua75b0nq/EC5rvhL+Rr8QLmu+SuhpPhAua742FTM/WeZyPxAua74poiG+EC5rvktrJ78QLmu+W9J6vxAua74S/ka/EC5rvp6OIT4=",
          "dtype": "f4"
         }
        }
       ],
       "layout": {
        "height": 1000,
        "scene": {
         "xaxis": {
          "title": {
           "text": "Hardness"
          }
         },
         "yaxis": {
          "title": {
           "text": "Brightness"
          }
         },
         "zaxis": {
          "title": {
           "text": "Redness"
          }
         }
        },
        "template": {
         "data": {
          "bar": [
           {
            "error_x": {
             "color": "#2a3f5f"
            },
            "error_y": {
             "color": "#2a3f5f"
            },
            "marker": {
             "line": {
              "color": "#E5ECF6",
              "width": 0.5
             },
             "pattern": {
              "fillmode": "overlay",
              "size": 10,
              "solidity": 0.2
             }
            },
            "type": "bar"
           }
          ],
          "barpolar": [
           {
            "marker": {
             "line": {
              "color": "#E5ECF6",
              "width": 0.5
             },
             "pattern": {
              "fillmode": "overlay",
              "size": 10,
              "solidity": 0.2
             }
            },
            "type": "barpolar"
           }
          ],
          "carpet": [
           {
            "aaxis": {
             "endlinecolor": "#2a3f5f",
             "gridcolor": "white",
             "linecolor": "white",
             "minorgridcolor": "white",
             "startlinecolor": "#2a3f5f"
            },
            "baxis": {
             "endlinecolor": "#2a3f5f",
             "gridcolor": "white",
             "linecolor": "white",
             "minorgridcolor": "white",
             "startlinecolor": "#2a3f5f"
            },
            "type": "carpet"
           }
          ],
          "choropleth": [
           {
            "colorbar": {
             "outlinewidth": 0,
             "ticks": ""
            },
            "type": "choropleth"
           }
          ],
          "contour": [
           {
            "colorbar": {
             "outlinewidth": 0,
             "ticks": ""
            },
            "colorscale": [
             [
              0,
              "#0d0887"
             ],
             [
              0.1111111111111111,
              "#46039f"
             ],
             [
              0.2222222222222222,
              "#7201a8"
             ],
             [
              0.3333333333333333,
              "#9c179e"
             ],
             [
              0.4444444444444444,
              "#bd3786"
             ],
             [
              0.5555555555555556,
              "#d8576b"
             ],
             [
              0.6666666666666666,
              "#ed7953"
             ],
             [
              0.7777777777777778,
              "#fb9f3a"
             ],
             [
              0.8888888888888888,
              "#fdca26"
             ],
             [
              1,
              "#f0f921"
             ]
            ],
            "type": "contour"
           }
          ],
          "contourcarpet": [
           {
            "colorbar": {
             "outlinewidth": 0,
             "ticks": ""
            },
            "type": "contourcarpet"
           }
          ],
          "heatmap": [
           {
            "colorbar": {
             "outlinewidth": 0,
             "ticks": ""
            },
            "colorscale": [
             [
              0,
              "#0d0887"
             ],
             [
              0.1111111111111111,
              "#46039f"
             ],
             [
              0.2222222222222222,
              "#7201a8"
             ],
             [
              0.3333333333333333,
              "#9c179e"
             ],
             [
              0.4444444444444444,
              "#bd3786"
             ],
             [
              0.5555555555555556,
              "#d8576b"
             ],
             [
              0.6666666666666666,
              "#ed7953"
             ],
             [
              0.7777777777777778,
              "#fb9f3a"
             ],
             [
              0.8888888888888888,
              "#fdca26"
             ],
             [
              1,
              "#f0f921"
             ]
            ],
            "type": "heatmap"
           }
          ],
          "histogram": [
           {
            "marker": {
             "pattern": {
              "fillmode": "overlay",
              "size": 10,
              "solidity": 0.2
             }
            },
            "type": "histogram"
           }
          ],
          "histogram2d": [
           {
            "colorbar": {
             "outlinewidth": 0,
             "ticks": ""
            },
            "colorscale": [
             [
              0,
              "#0d0887"
             ],
             [
              0.1111111111111111,
              "#46039f"
             ],
             [
              0.2222222222222222,
              "#7201a8"
             ],
             [
              0.3333333333333333,
              "#9c179e"
             ],
             [
              0.4444444444444444,
              "#bd3786"
             ],
             [
              0.5555555555555556,
              "#d8576b"
             ],
             [
              0.6666666666666666,
              "#ed7953"
             ],
             [
              0.7777777777777778,
              "#fb9f3a"
             ],
             [
              0.8888888888888888,
              "#fdca26"
             ],
             [
              1,
              "#f0f921"
             ]
            ],
            "type": "histogram2d"
           }
          ],
          "histogram2dcontour": [
           {
            "colorbar": {
             "outlinewidth": 0,
             "ticks": ""
            },
            "colorscale": [
             [
              0,
              "#0d0887"
             ],
             [
              0.1111111111111111,
              "#46039f"
             ],
             [
              0.2222222222222222,
              "#7201a8"
             ],
             [
              0.3333333333333333,
              "#9c179e"
             ],
             [
              0.4444444444444444,
              "#bd3786"
             ],
             [
              0.5555555555555556,
              "#d8576b"
             ],
             [
              0.6666666666666666,
              "#ed7953"
             ],
             [
              0.7777777777777778,
              "#fb9f3a"
             ],
             [
              0.8888888888888888,
              "#fdca26"
             ],
             [
              1,
              "#f0f921"
             ]
            ],
            "type": "histogram2dcontour"
           }
          ],
          "mesh3d": [
           {
            "colorbar": {
             "outlinewidth": 0,
             "ticks": ""
            },
            "type": "mesh3d"
           }
          ],
          "parcoords": [
           {
            "line": {
             "colorbar": {
              "outlinewidth": 0,
              "ticks": ""
             }
            },
            "type": "parcoords"
           }
          ],
          "pie": [
           {
            "automargin": true,
            "type": "pie"
           }
          ],
          "scatter": [
           {
            "fillpattern": {
             "fillmode": "overlay",
             "size": 10,
             "solidity": 0.2
            },
            "type": "scatter"
           }
          ],
          "scatter3d": [
           {
            "line": {
             "colorbar": {
              "outlinewidth": 0,
              "ticks": ""
             }
            },
            "marker": {
             "colorbar": {
              "outlinewidth": 0,
              "ticks": ""
             }
            },
            "type": "scatter3d"
           }
          ],
          "scattercarpet": [
           {
            "marker": {
             "colorbar": {
              "outlinewidth": 0,
              "ticks": ""
             }
            },
            "type": "scattercarpet"
           }
          ],
          "scattergeo": [
           {
            "marker": {
             "colorbar": {
              "outlinewidth": 0,
              "ticks": ""
             }
            },
            "type": "scattergeo"
           }
          ],
          "scattergl": [
           {
            "marker": {
             "colorbar": {
              "outlinewidth": 0,
              "ticks": ""
             }
            },
            "type": "scattergl"
           }
          ],
          "scattermap": [
           {
            "marker": {
             "colorbar": {
              "outlinewidth": 0,
              "ticks": ""
             }
            },
            "type": "scattermap"
           }
          ],
          "scattermapbox": [
           {
            "marker": {
             "colorbar": {
              "outlinewidth": 0,
              "ticks": ""
             }
            },
            "type": "scattermapbox"
           }
          ],
          "scatterpolar": [
           {
            "marker": {
             "colorbar": {
              "outlinewidth": 0,
              "ticks": ""
             }
            },
            "type": "scatterpolar"
           }
          ],
          "scatterpolargl": [
           {
            "marker": {
             "colorbar": {
              "outlinewidth": 0,
              "ticks": ""
             }
            },
            "type": "scatterpolargl"
           }
          ],
          "scatterternary": [
           {
            "marker": {
             "colorbar": {
              "outlinewidth": 0,
              "ticks": ""
             }
            },
            "type": "scatterternary"
           }
          ],
          "surface": [
           {
            "colorbar": {
             "outlinewidth": 0,
             "ticks": ""
            },
            "colorscale": [
             [
              0,
              "#0d0887"
             ],
             [
              0.1111111111111111,
              "#46039f"
             ],
             [
              0.2222222222222222,
              "#7201a8"
             ],
             [
              0.3333333333333333,
              "#9c179e"
             ],
             [
              0.4444444444444444,
              "#bd3786"
             ],
             [
              0.5555555555555556,
              "#d8576b"
             ],
             [
              0.6666666666666666,
              "#ed7953"
             ],
             [
              0.7777777777777778,
              "#fb9f3a"
             ],
             [
              0.8888888888888888,
              "#fdca26"
             ],
             [
              1,
              "#f0f921"
             ]
            ],
            "type": "surface"
           }
          ],
          "table": [
           {
            "cells": {
             "fill": {
              "color": "#EBF0F8"
             },
             "line": {
              "color": "white"
             }
            },
            "header": {
             "fill": {
              "color": "#C8D4E3"
             },
             "line": {
              "color": "white"
             }
            },
            "type": "table"
           }
          ]
         },
         "layout": {
          "annotationdefaults": {
           "arrowcolor": "#2a3f5f",
           "arrowhead": 0,
           "arrowwidth": 1
          },
          "autotypenumbers": "strict",
          "coloraxis": {
           "colorbar": {
            "outlinewidth": 0,
            "ticks": ""
           }
          },
          "colorscale": {
           "diverging": [
            [
             0,
             "#8e0152"
            ],
            [
             0.1,
             "#c51b7d"
            ],
            [
             0.2,
             "#de77ae"
            ],
            [
             0.3,
             "#f1b6da"
            ],
            [
             0.4,
             "#fde0ef"
            ],
            [
             0.5,
             "#f7f7f7"
            ],
            [
             0.6,
             "#e6f5d0"
            ],
            [
             0.7,
             "#b8e186"
            ],
            [
             0.8,
             "#7fbc41"
            ],
            [
             0.9,
             "#4d9221"
            ],
            [
             1,
             "#276419"
            ]
           ],
           "sequential": [
            [
             0,
             "#0d0887"
            ],
            [
             0.1111111111111111,
             "#46039f"
            ],
            [
             0.2222222222222222,
             "#7201a8"
            ],
            [
             0.3333333333333333,
             "#9c179e"
            ],
            [
             0.4444444444444444,
             "#bd3786"
            ],
            [
             0.5555555555555556,
             "#d8576b"
            ],
            [
             0.6666666666666666,
             "#ed7953"
            ],
            [
             0.7777777777777778,
             "#fb9f3a"
            ],
            [
             0.8888888888888888,
             "#fdca26"
            ],
            [
             1,
             "#f0f921"
            ]
           ],
           "sequentialminus": [
            [
             0,
             "#0d0887"
            ],
            [
             0.1111111111111111,
             "#46039f"
            ],
            [
             0.2222222222222222,
             "#7201a8"
            ],
            [
             0.3333333333333333,
             "#9c179e"
            ],
            [
             0.4444444444444444,
             "#bd3786"
            ],
            [
             0.5555555555555556,
             "#d8576b"
            ],
            [
             0.6666666666666666,
             "#ed7953"
            ],
            [
             0.7777777777777778,
             "#fb9f3a"
            ],
            [
             0.8888888888888888,
             "#fdca26"
            ],
            [
             1,
             "#f0f921"
            ]
           ]
          },
          "colorway": [
           "#636efa",
           "#EF553B",
           "#00cc96",
           "#ab63fa",
           "#FFA15A",
           "#19d3f3",
           "#FF6692",
           "#B6E880",
           "#FF97FF",
           "#FECB52"
          ],
          "font": {
           "color": "#2a3f5f"
          },
          "geo": {
           "bgcolor": "white",
           "lakecolor": "white",
           "landcolor": "#E5ECF6",
           "showlakes": true,
           "showland": true,
           "subunitcolor": "white"
          },
          "hoverlabel": {
           "align": "left"
          },
          "hovermode": "closest",
          "mapbox": {
           "style": "light"
          },
          "paper_bgcolor": "white",
          "plot_bgcolor": "#E5ECF6",
          "polar": {
           "angularaxis": {
            "gridcolor": "white",
            "linecolor": "white",
            "ticks": ""
           },
           "bgcolor": "#E5ECF6",
           "radialaxis": {
            "gridcolor": "white",
            "linecolor": "white",
            "ticks": ""
           }
          },
          "scene": {
           "xaxis": {
            "backgroundcolor": "#E5ECF6",
            "gridcolor": "white",
            "gridwidth": 2,
            "linecolor": "white",
            "showbackground": true,
            "ticks": "",
            "zerolinecolor": "white"
           },
           "yaxis": {
            "backgroundcolor": "#E5ECF6",
            "gridcolor": "white",
            "gridwidth": 2,
            "linecolor": "white",
            "showbackground": true,
            "ticks": "",
            "zerolinecolor": "white"
           },
           "zaxis": {
            "backgroundcolor": "#E5ECF6",
            "gridcolor": "white",
            "gridwidth": 2,
            "linecolor": "white",
            "showbackground": true,
            "ticks": "",
            "zerolinecolor": "white"
           }
          },
          "shapedefaults": {
           "line": {
            "color": "#2a3f5f"
           }
          },
          "ternary": {
           "aaxis": {
            "gridcolor": "white",
            "linecolor": "white",
            "ticks": ""
           },
           "baxis": {
            "gridcolor": "white",
            "linecolor": "white",
            "ticks": ""
           },
           "bgcolor": "#E5ECF6",
           "caxis": {
            "gridcolor": "white",
            "linecolor": "white",
            "ticks": ""
           }
          },
          "title": {
           "x": 0.05
          },
          "xaxis": {
           "automargin": true,
           "gridcolor": "white",
           "linecolor": "white",
           "ticks": "",
           "title": {
            "standoff": 15
           },
           "zerolinecolor": "white",
           "zerolinewidth": 2
          },
          "yaxis": {
           "automargin": true,
           "gridcolor": "white",
           "linecolor": "white",
           "ticks": "",
           "title": {
            "standoff": 15
           },
           "zerolinecolor": "white",
           "zerolinewidth": 2
          }
         }
        },
        "title": {
         "text": "Models Context Space"
        },
        "width": 1000
       }
      }
     },
     "metadata": {},
     "output_type": "display_data"
    }
   ],
   "source": [
    "from plot_tokens import plot_tokens\n",
    "\n",
    "u_sentences = [\n",
    "  {\n",
    "    \"words\": sentence_meanings.detach().numpy(),\n",
    "    \"labels\": u_tokenizer.tokenize(prompt),\n",
    "    \"color\": \"red\",\n",
    "  },\n",
    "]\n",
    "\n",
    "plot_tokens(u_sentences, \"Models Context Space\")"
   ]
  },
  {
   "cell_type": "code",
   "execution_count": 5,
   "metadata": {},
   "outputs": [
    {
     "data": {
      "text/plain": [
       "tensor([[-1.5256e+00, -7.5023e-01, -6.5398e-01, -1.6095e+00],\n",
       "        [-7.4484e-01, -2.0216e-01, -2.2967e-01,  1.3313e-03],\n",
       "        [-1.0017e-01, -6.0919e-01, -9.7977e-01, -1.6091e+00],\n",
       "        [-7.4484e-01, -2.0216e-01, -2.2967e-01,  1.3313e-03],\n",
       "        [-7.1214e-01,  3.0372e-01, -7.7731e-01, -2.5146e-01],\n",
       "        [-7.4484e-01, -2.0216e-01, -2.2967e-01,  1.3313e-03],\n",
       "        [-2.2227e-01,  1.6871e+00,  2.2843e-01,  4.6764e-01],\n",
       "        [-7.4484e-01, -2.0216e-01, -2.2967e-01,  1.3313e-03],\n",
       "        [-6.9697e-01, -1.1608e+00,  6.9954e-01,  1.9908e-01],\n",
       "        [-7.9829e-02,  3.4172e-01,  9.4883e-01, -1.3839e+00],\n",
       "        [-7.4484e-01, -2.0216e-01, -2.2967e-01,  1.3313e-03],\n",
       "        [-1.1102e-01,  2.9274e-01, -1.5785e-01, -2.8787e-02],\n",
       "        [-7.4484e-01, -2.0216e-01, -2.2967e-01,  1.3313e-03],\n",
       "        [-1.5256e+00, -7.5023e-01, -6.5398e-01, -1.6095e+00],\n",
       "        [-7.4484e-01, -2.0216e-01, -2.2967e-01,  1.3313e-03],\n",
       "        [-1.0017e-01, -6.0919e-01, -9.7977e-01, -1.6091e+00],\n",
       "        [-7.4484e-01, -2.0216e-01, -2.2967e-01,  1.3313e-03],\n",
       "        [-7.1214e-01,  3.0372e-01, -7.7731e-01, -2.5146e-01],\n",
       "        [-7.4484e-01, -2.0216e-01, -2.2967e-01,  1.3313e-03],\n",
       "        [ 1.8793e+00, -7.2132e-02,  1.5777e-01, -7.7345e-01]],\n",
       "       grad_fn=<EmbeddingBackward0>)"
      ]
     },
     "execution_count": 5,
     "metadata": {},
     "output_type": "execute_result"
    }
   ],
   "source": [
    "sentence_meanings"
   ]
  },
  {
   "cell_type": "code",
   "execution_count": 6,
   "metadata": {},
   "outputs": [],
   "source": [
    "the_pos = [-1.5256, -0.7502, -0.6540, -1.6095]\n",
    "capital_pos = [ 0.9326, -0.2774,  0.3166, -1.6980]"
   ]
  },
  {
   "cell_type": "code",
   "execution_count": 11,
   "metadata": {},
   "outputs": [
    {
     "data": {
      "text/plain": [
       "(tensor(5.9084, grad_fn=<AddBackward0>),\n",
       " tensor(1.4360, grad_fn=<AddBackward0>),\n",
       " tensor(3.8404, grad_fn=<AddBackward0>),\n",
       " tensor(1.4360, grad_fn=<AddBackward0>))"
      ]
     },
     "execution_count": 11,
     "metadata": {},
     "output_type": "execute_result"
    }
   ],
   "source": [
    "#burada kelimenin kelime ile olan ilişkileri\n",
    "# the the ilişkisi\n",
    "cs_0_0 = sentence_meanings[0][0] * sentence_meanings[0][0] + sentence_meanings[0][1] * sentence_meanings[0][1] + sentence_meanings[0][2] * sentence_meanings[0][2] + sentence_meanings[0][3] * sentence_meanings[0][3]\n",
    "# the ile boşluk ilişkisi\n",
    "cs_0_1 = sentence_meanings[0][0] * sentence_meanings[1][0] + sentence_meanings[0][1] * sentence_meanings[1][1] + sentence_meanings[0][2] * sentence_meanings[1][2] + sentence_meanings[0][3] * sentence_meanings[1][3]\n",
    "#the capital ile benzerliği\n",
    "cs_0_2 = sentence_meanings[0][0] * sentence_meanings[2][0] + sentence_meanings[0][1] * sentence_meanings[2][1] + sentence_meanings[0][2] * sentence_meanings[2][2] + sentence_meanings[0][3] * sentence_meanings[2][3]\n",
    "#the ile bir sonraki benzerliği\n",
    "cs_0_3 = sentence_meanings[0][0] * sentence_meanings[3][0] + sentence_meanings[0][1] * sentence_meanings[3][1] + sentence_meanings[0][2] * sentence_meanings[3][2] + sentence_meanings[0][3] * sentence_meanings[3][3]\n",
    "\n",
    "cs_0_0, cs_0_1, cs_0_2, cs_0_3"
   ]
  },
  {
   "cell_type": "code",
   "execution_count": 9,
   "metadata": {},
   "outputs": [
    {
     "ename": "NameError",
     "evalue": "name 'hardness_dist' is not defined",
     "output_type": "error",
     "traceback": [
      "\u001b[31m---------------------------------------------------------------------------\u001b[39m",
      "\u001b[31mNameError\u001b[39m                                 Traceback (most recent call last)",
      "\u001b[36mCell\u001b[39m\u001b[36m \u001b[39m\u001b[32mIn[9]\u001b[39m\u001b[32m, line 1\u001b[39m\n\u001b[32m----> \u001b[39m\u001b[32m1\u001b[39m total_dist = \u001b[43mhardness_dist\u001b[49m + brightness_dist + redness_dist + blueness_dist\n\u001b[32m      2\u001b[39m total_dist\n",
      "\u001b[31mNameError\u001b[39m: name 'hardness_dist' is not defined"
     ]
    }
   ],
   "source": [
    "total_dist = hardness_dist + brightness_dist + redness_dist + blueness_dist\n",
    "total_dist"
   ]
  },
  {
   "cell_type": "code",
   "execution_count": 12,
   "metadata": {},
   "outputs": [],
   "source": [
    "apple = [-1.5256, -0.7502, -0.6540, -1.6095]\n",
    "real_apple = [0.5, -0.7502, -0.6540, -1.6095]"
   ]
  },
  {
   "cell_type": "code",
   "execution_count": 24,
   "metadata": {},
   "outputs": [
    {
     "name": "stdout",
     "output_type": "stream",
     "text": [
      "0.47439999999999993\n"
     ]
    },
    {
     "data": {
      "text/plain": [
       "True"
      ]
     },
     "execution_count": 24,
     "metadata": {},
     "output_type": "execute_result"
    }
   ],
   "source": [
    "def is_apple(pos, real_pos):\n",
    "  dist1 = pos[0] - real_pos[0]\n",
    "\n",
    "  print(dist1)\n",
    "\n",
    "  if dist1 > 0:\n",
    "    apple[0] -= 0.5\n",
    "  else:\n",
    "    apple[0] += 0.5\n",
    "\n",
    "\n",
    "  return dist1 > 0 and dist1 < 0.5\n",
    "\n",
    "is_apple(apple, real_apple)\n"
   ]
  },
  {
   "cell_type": "code",
   "execution_count": null,
   "metadata": {},
   "outputs": [],
   "source": [
    "the_pos = [-1.5256, -0.7502, -0.6540, -1.6095]\n",
    "capital_pos = [0.9326, -0.2774,  0.3166, -1.6980]"
   ]
  },
  {
   "cell_type": "code",
   "execution_count": null,
   "metadata": {},
   "outputs": [
    {
     "data": {
      "text/plain": [
       "(-1.4227745600000001,\n",
       " 0.20810547999999998,\n",
       " -0.2070564,\n",
       " 2.7329309999999998,\n",
       " 1.3112055199999997)"
      ]
     },
     "execution_count": 16,
     "metadata": {},
     "output_type": "execute_result"
    }
   ],
   "source": [
    "cos_sim_hardness = the_pos[0] * capital_pos[0]\n",
    "cos_sim_brightness = the_pos[1] * capital_pos[1]\n",
    "cos_sim_redness = the_pos[2] * capital_pos[2]\n",
    "cos_sim_blueness = the_pos[3] * capital_pos[3]\n",
    "\n",
    "total_cos_sim = cos_sim_hardness + cos_sim_brightness + cos_sim_redness + cos_sim_blueness\n",
    "\n",
    "cos_sim_hardness, cos_sim_brightness, cos_sim_redness, cos_sim_blueness, total_cos_sim"
   ]
  },
  {
   "cell_type": "code",
   "execution_count": null,
   "metadata": {},
   "outputs": [
    {
     "data": {
      "text/plain": [
       "(tensor(5.9084, grad_fn=<AddBackward0>),\n",
       " tensor(0.9915, grad_fn=<AddBackward0>),\n",
       " tensor(1.3112, grad_fn=<AddBackward0>),\n",
       " tensor(-1.0151, grad_fn=<AddBackward0>))"
      ]
     },
     "execution_count": 20,
     "metadata": {},
     "output_type": "execute_result"
    }
   ],
   "source": [
    "cs_0_0 = sentence_meanings[0][0] * sentence_meanings[0][0] + sentence_meanings[0][1] * sentence_meanings[0][1] + sentence_meanings[0][2] * sentence_meanings[0][2] + sentence_meanings[0][3] * sentence_meanings[0][3]\n",
    "cs_0_1 = sentence_meanings[0][0] * sentence_meanings[1][0] + sentence_meanings[0][1] * sentence_meanings[1][1] + sentence_meanings[0][2] * sentence_meanings[1][2] + sentence_meanings[0][3] * sentence_meanings[1][3]\n",
    "cs_0_2 = sentence_meanings[0][0] * sentence_meanings[2][0] + sentence_meanings[0][1] * sentence_meanings[2][1] + sentence_meanings[0][2] * sentence_meanings[2][2] + sentence_meanings[0][3] * sentence_meanings[2][3]\n",
    "cs_0_3 = sentence_meanings[0][0] * sentence_meanings[3][0] + sentence_meanings[0][1] * sentence_meanings[3][1] + sentence_meanings[0][2] * sentence_meanings[3][2] + sentence_meanings[0][3] * sentence_meanings[3][3]\n",
    "\n",
    "cs_0_0, cs_0_1, cs_0_2, cs_0_3"
   ]
  },
  {
   "cell_type": "code",
   "execution_count": null,
   "metadata": {},
   "outputs": [
    {
     "data": {
      "text/plain": [
       "[tensor(5.9084, grad_fn=<AddBackward0>),\n",
       " tensor(0.9915, grad_fn=<AddBackward0>),\n",
       " tensor(1.3112, grad_fn=<AddBackward0>),\n",
       " tensor(-1.0151, grad_fn=<AddBackward0>),\n",
       " tensor(-0.5984, grad_fn=<AddBackward0>),\n",
       " tensor(0.5215, grad_fn=<AddBackward0>),\n",
       " tensor(-2.9568, grad_fn=<AddBackward0>),\n",
       " tensor(1.3844, grad_fn=<AddBackward0>),\n",
       " tensor(3.2495, grad_fn=<AddBackward0>),\n",
       " tensor(1.0536, grad_fn=<AddBackward0>),\n",
       " tensor(-0.7985, grad_fn=<AddBackward0>),\n",
       " tensor(-0.3483, grad_fn=<AddBackward0>),\n",
       " tensor(1.3706, grad_fn=<AddBackward0>),\n",
       " tensor(3.3436, grad_fn=<AddBackward0>),\n",
       " tensor(0.6584, grad_fn=<AddBackward0>),\n",
       " tensor(-1.5429, grad_fn=<AddBackward0>),\n",
       " tensor(-0.9496, grad_fn=<AddBackward0>),\n",
       " tensor(-0.4411, grad_fn=<AddBackward0>),\n",
       " tensor(1.0307, grad_fn=<AddBackward0>),\n",
       " tensor(-3.9441, grad_fn=<AddBackward0>)]"
      ]
     },
     "execution_count": 23,
     "metadata": {},
     "output_type": "execute_result"
    }
   ],
   "source": [
    "the_similarities = []\n",
    "\n",
    "for i in range(sentence_meanings.shape[0]):\n",
    "  cs_the_i = sentence_meanings[0][0] * sentence_meanings[i][0] + sentence_meanings[0][1] * sentence_meanings[i][1] + sentence_meanings[0][2] * sentence_meanings[i][2] + sentence_meanings[0][3] * sentence_meanings[i][3]\n",
    "  the_similarities.append(cs_the_i)\n",
    "\n",
    "the_similarities\n",
    "\n"
   ]
  },
  {
   "cell_type": "code",
   "execution_count": null,
   "metadata": {},
   "outputs": [
    {
     "data": {
      "text/plain": [
       "array([[ 5.90842342e+00,  9.91524994e-01,  1.31123888e+00,\n",
       "        -1.01506197e+00, -5.98358750e-01,  5.21510422e-01,\n",
       "        -2.95679903e+00,  1.38435686e+00,  3.24948168e+00,\n",
       "         1.05356205e+00, -7.98454523e-01, -3.48337382e-01,\n",
       "         1.37064040e+00,  3.34363842e+00,  6.58395648e-01,\n",
       "        -1.54289484e+00, -9.49555039e-01, -4.41114008e-01,\n",
       "         1.03069103e+00, -3.94407916e+00],\n",
       "       [ 9.91524994e-01,  6.48404419e-01, -3.44985247e-01,\n",
       "        -2.12769225e-01, -8.34367216e-01, -3.59468281e-01,\n",
       "        -4.32386786e-01,  6.17068112e-01,  9.22347963e-01,\n",
       "         4.90615070e-01, -5.28138876e-01, -8.62782598e-02,\n",
       "         2.12269612e-02,  9.08997953e-01,  5.62238276e-01,\n",
       "        -9.59949076e-01, -4.58646148e-01, -6.07945383e-01,\n",
       "        -1.72437117e-01, -8.67795944e-01],\n",
       "       [ 1.31123888e+00, -3.44985247e-01,  3.93028903e+00,\n",
       "         9.09577966e-01,  3.04722369e-01,  1.50815845e-02,\n",
       "        -2.63633180e+00, -3.30206811e-01,  6.40884936e-01,\n",
       "         6.56366348e-02,  9.73890662e-01, -5.77501833e-01,\n",
       "        -2.96122313e-01,  1.58385515e-01,  2.21399546e-01,\n",
       "         1.67208898e+00,  1.08302569e+00, -8.54423642e-01,\n",
       "        -1.67996585e-01,  1.33122098e+00],\n",
       "       [-1.01506197e+00, -2.12769225e-01,  9.09577966e-01,\n",
       "         6.48404539e-01, -3.29713002e-02, -2.12769195e-01,\n",
       "        -3.77381563e-01, -3.59468371e-01, -3.26740861e-01,\n",
       "        -5.70987701e-01,  4.89280671e-01, -1.53550178e-01,\n",
       "        -5.28138936e-01, -1.19894338e+00,  2.12269351e-02,\n",
       "         3.71987373e-01,  5.62238336e-01, -3.74763876e-01,\n",
       "        -4.58646148e-01,  1.30889440e+00],\n",
       "       [-5.98358750e-01, -8.34367216e-01,  3.04722369e-01,\n",
       "        -3.29713002e-02,  1.26684380e+00,  6.76223159e-01,\n",
       "         5.87493539e-01, -6.87313974e-01, -1.03674579e+00,\n",
       "        -3.43734592e-01,  5.42169273e-01,  1.66702151e-01,\n",
       "         3.01009268e-01, -5.15657365e-01, -8.11783969e-01,\n",
       "         1.29523122e+00,  3.99986923e-01,  1.05009651e+00,\n",
       "         5.47660232e-01,  4.97629017e-01],\n",
       "       [ 5.21510422e-01, -3.59468281e-01,  1.50815845e-02,\n",
       "        -2.12769195e-01,  6.76223159e-01,  6.48404479e-01,\n",
       "        -8.18477422e-02, -2.12769181e-01, -2.28981227e-02,\n",
       "        -6.19251013e-01,  2.08200961e-01,  8.79937410e-02,\n",
       "         4.89280701e-01, -4.52414393e-01, -5.28138876e-01,\n",
       "        -7.59374499e-02,  2.12269351e-02,  7.51788080e-01,\n",
       "         5.62238276e-01, -6.59397900e-01],\n",
       "       [-2.95679903e+00, -4.32386786e-01, -2.63633180e+00,\n",
       "        -3.77381563e-01,  5.87493539e-01, -8.18477422e-02,\n",
       "         3.16661692e+00, -4.73419756e-01, -2.13697267e+00,\n",
       "         4.64782953e-01, -2.57781386e-01,  5.65252602e-01,\n",
       "        -1.65230826e-01, -2.01884270e-01, -5.41903853e-01,\n",
       "         8.81201804e-01, -2.39942282e-01,  1.01910663e+00,\n",
       "         5.53369522e-04,  9.44294333e-01],\n",
       "       [ 1.38435686e+00,  6.17068112e-01, -3.30206811e-01,\n",
       "        -3.59468371e-01, -6.87313974e-01, -2.12769181e-01,\n",
       "        -4.73419756e-01,  6.48404479e-01,  1.00443661e+00,\n",
       "         6.00232720e-01, -5.62411249e-01, -6.47242516e-02,\n",
       "         2.08200902e-01,  1.21261215e+00,  4.89280701e-01,\n",
       "        -8.92466784e-01, -5.28138876e-01, -4.44660187e-01,\n",
       "         2.12269165e-02, -1.18418312e+00],\n",
       "       [ 3.24948168e+00,  9.22347963e-01,  6.40884936e-01,\n",
       "        -3.26740861e-01, -1.03674579e+00, -2.28981227e-02,\n",
       "        -2.13697267e+00,  1.00443661e+00,  2.36213064e+00,\n",
       "         7.57623911e-02, -5.45966983e-01, -3.16521466e-01,\n",
       "         4.82467175e-01,  1.14806974e+00,  7.06545651e-01,\n",
       "        -1.94431877e+00, -5.90119720e-01, -8.16912293e-01,\n",
       "         1.64124116e-01, -2.27472568e+00],\n",
       "       [ 1.05356205e+00,  4.90615070e-01,  6.56366348e-02,\n",
       "        -5.70987701e-01, -3.43734592e-01, -6.19251013e-01,\n",
       "         4.64782953e-01,  6.00232720e-01,  7.57623911e-02,\n",
       "         2.93869948e+00, -7.38415062e-01,  9.94873047e-03,\n",
       "         6.93359822e-02,  3.89495349e+00,  7.21999347e-01,\n",
       "         1.61611080e+00, -4.70118642e-01, -5.55987597e-01,\n",
       "         2.02722847e-02, -1.05223149e-01],\n",
       "       [-7.98454523e-01, -5.28138876e-01,  9.73890662e-01,\n",
       "         4.89280671e-01,  5.42169273e-01,  2.08200961e-01,\n",
       "        -2.57781386e-01, -5.62411249e-01, -5.45966983e-01,\n",
       "        -7.38415062e-01,  6.48404419e-01, -7.26725757e-02,\n",
       "        -2.12769136e-01, -1.24654949e+00, -3.59468341e-01,\n",
       "         7.12586641e-01,  6.17067993e-01,  1.81856662e-01,\n",
       "        -5.99224418e-02,  1.06484401e+00],\n",
       "       [-3.48337382e-01, -8.62782598e-02, -5.77501833e-01,\n",
       "        -1.53550178e-01,  1.66702151e-01,  8.79937410e-02,\n",
       "         5.65252602e-01, -6.47242516e-02, -3.16521466e-01,\n",
       "         9.94873047e-03, -7.26725757e-02,  1.23763330e-01,\n",
       "         8.33627656e-02, -3.24340463e-02, -1.59728661e-01,\n",
       "         3.06704193e-02, -1.03914097e-01,  3.02407801e-01,\n",
       "         1.08368926e-01, -7.74650872e-02],\n",
       "       [ 1.37064040e+00,  2.12269612e-02, -2.96122313e-01,\n",
       "        -5.28138936e-01,  3.01009268e-01,  4.89280701e-01,\n",
       "        -1.65230826e-01,  2.08200902e-01,  4.82467175e-01,\n",
       "         6.93359822e-02, -2.12769136e-01,  8.33627656e-02,\n",
       "         6.48404479e-01,  6.96249366e-01, -2.12769225e-01,\n",
       "        -3.77136111e-01, -3.59468371e-01,  5.21105826e-01,\n",
       "         6.17068052e-01, -1.37943292e+00],\n",
       "       [ 3.34363842e+00,  9.08997953e-01,  1.58385515e-01,\n",
       "        -1.19894338e+00, -5.15657365e-01, -4.52414393e-01,\n",
       "        -2.01884270e-01,  1.21261215e+00,  1.14806974e+00,\n",
       "         3.89495349e+00, -1.24654949e+00, -3.24340463e-02,\n",
       "         6.96249366e-01,  5.90842295e+00,  9.91524935e-01,\n",
       "         1.31123877e+00, -1.01506209e+00, -5.98358750e-01,\n",
       "         5.21510541e-01, -1.76583028e+00],\n",
       "       [ 6.58395648e-01,  5.62238276e-01,  2.21399546e-01,\n",
       "         2.12269351e-02, -8.11783969e-01, -5.28138876e-01,\n",
       "        -5.41903853e-01,  4.89280701e-01,  7.06545651e-01,\n",
       "         7.21999347e-01, -3.59468341e-01, -1.59728661e-01,\n",
       "        -2.12769225e-01,  9.91524935e-01,  6.48404419e-01,\n",
       "        -3.44985187e-01, -2.12769195e-01, -8.34367394e-01,\n",
       "        -3.59468311e-01, -1.69259071e-01],\n",
       "       [-1.54289484e+00, -9.59949076e-01,  1.67208898e+00,\n",
       "         3.71987373e-01,  1.29523122e+00, -7.59374499e-02,\n",
       "         8.81201804e-01, -8.92466784e-01, -1.94431877e+00,\n",
       "         1.61611080e+00,  7.12586641e-01,  3.06704193e-02,\n",
       "        -3.77136111e-01,  1.31123877e+00, -3.44985187e-01,\n",
       "         3.93028903e+00,  9.09577966e-01,  3.04722369e-01,\n",
       "         1.50815547e-02,  2.65415525e+00],\n",
       "       [-9.49555039e-01, -4.58646148e-01,  1.08302569e+00,\n",
       "         5.62238336e-01,  3.99986923e-01,  2.12269351e-02,\n",
       "        -2.39942282e-01, -5.28138876e-01, -5.90119720e-01,\n",
       "        -4.70118642e-01,  6.17067993e-01, -1.03914097e-01,\n",
       "        -3.59468371e-01, -1.01506209e+00, -2.12769195e-01,\n",
       "         9.09577966e-01,  6.48404479e-01, -3.29712778e-02,\n",
       "        -2.12769166e-01,  1.34406054e+00],\n",
       "       [-4.41114008e-01, -6.07945383e-01, -8.54423642e-01,\n",
       "        -3.74763876e-01,  1.05009651e+00,  7.51788080e-01,\n",
       "         1.01910663e+00, -4.44660187e-01, -8.16912293e-01,\n",
       "        -5.55987597e-01,  1.81856662e-01,  3.02407801e-01,\n",
       "         5.21105826e-01, -5.98358750e-01, -8.34367394e-01,\n",
       "         3.04722369e-01, -3.29712778e-02,  1.26684415e+00,\n",
       "         6.76223218e-01, -3.98768991e-01],\n",
       "       [ 1.03069103e+00, -1.72437117e-01, -1.67996585e-01,\n",
       "        -4.58646148e-01,  5.47660232e-01,  5.62238276e-01,\n",
       "         5.53369522e-04,  2.12269165e-02,  1.64124116e-01,\n",
       "         2.02722847e-02, -5.99224418e-02,  1.08368926e-01,\n",
       "         6.17068052e-01,  5.21510541e-01, -3.59468311e-01,\n",
       "         1.50815547e-02, -2.12769166e-01,  6.76223218e-01,\n",
       "         6.48404479e-01, -1.04235065e+00],\n",
       "       [-3.94407916e+00, -8.67795944e-01,  1.33122098e+00,\n",
       "         1.30889440e+00,  4.97629017e-01, -6.59397900e-01,\n",
       "         9.44294333e-01, -1.18418312e+00, -2.27472568e+00,\n",
       "        -1.05223149e-01,  1.06484401e+00, -7.74650872e-02,\n",
       "        -1.37943292e+00, -1.76583028e+00, -1.69259071e-01,\n",
       "         2.65415525e+00,  1.34406054e+00, -3.98768991e-01,\n",
       "        -1.04235065e+00,  4.16026688e+00]], dtype=float32)"
      ]
     },
     "execution_count": 27,
     "metadata": {},
     "output_type": "execute_result"
    }
   ],
   "source": [
    "all_similarities = torch.zeros(sentence_meanings.shape[0], sentence_meanings.shape[0])\n",
    "for j in range(sentence_meanings.shape[0]):\n",
    "  j_similarities = torch.zeros(sentence_meanings.shape[0])\n",
    "\n",
    "  for i in range(sentence_meanings.shape[0]):\n",
    "    for k in range(sentence_meanings.shape[1]):\n",
    "      cs_j_i = sentence_meanings[j][k] * sentence_meanings[i][k]\n",
    "      j_similarities[i] += cs_j_i\n",
    "\n",
    "  all_similarities[j] = j_similarities\n",
    "\n",
    "all_similarities.detach().numpy()"
   ]
  },
  {
   "cell_type": "code",
   "execution_count": null,
   "metadata": {},
   "outputs": [
    {
     "data": {
      "text/plain": [
       "(torch.Size([20, 4]), torch.Size([4, 20]))"
      ]
     },
     "execution_count": 30,
     "metadata": {},
     "output_type": "execute_result"
    }
   ],
   "source": [
    "sentence_meanings.shape, sentence_meanings.T.shape"
   ]
  },
  {
   "cell_type": "code",
   "execution_count": null,
   "metadata": {},
   "outputs": [
    {
     "data": {
      "text/plain": [
       "tensor([[ 5.9084e+00,  9.9152e-01,  1.3112e+00, -1.0151e+00, -5.9836e-01,\n",
       "          5.2151e-01, -2.9568e+00,  1.3844e+00,  3.2495e+00,  1.0536e+00,\n",
       "         -7.9845e-01, -3.4834e-01,  1.3706e+00,  3.3436e+00,  6.5840e-01,\n",
       "         -1.5429e+00, -9.4956e-01, -4.4111e-01,  1.0307e+00, -3.9441e+00],\n",
       "        [ 9.9152e-01,  6.4840e-01, -3.4499e-01, -2.1277e-01, -8.3437e-01,\n",
       "         -3.5947e-01, -4.3239e-01,  6.1707e-01,  9.2235e-01,  4.9062e-01,\n",
       "         -5.2814e-01, -8.6278e-02,  2.1227e-02,  9.0900e-01,  5.6224e-01,\n",
       "         -9.5995e-01, -4.5865e-01, -6.0795e-01, -1.7244e-01, -8.6780e-01],\n",
       "        [ 1.3112e+00, -3.4499e-01,  3.9303e+00,  9.0958e-01,  3.0472e-01,\n",
       "          1.5082e-02, -2.6363e+00, -3.3021e-01,  6.4088e-01,  6.5637e-02,\n",
       "          9.7389e-01, -5.7750e-01, -2.9612e-01,  1.5839e-01,  2.2140e-01,\n",
       "          1.6721e+00,  1.0830e+00, -8.5442e-01, -1.6800e-01,  1.3312e+00],\n",
       "        [-1.0151e+00, -2.1277e-01,  9.0958e-01,  6.4840e-01, -3.2971e-02,\n",
       "         -2.1277e-01, -3.7738e-01, -3.5947e-01, -3.2674e-01, -5.7099e-01,\n",
       "          4.8928e-01, -1.5355e-01, -5.2814e-01, -1.1989e+00,  2.1227e-02,\n",
       "          3.7199e-01,  5.6224e-01, -3.7476e-01, -4.5865e-01,  1.3089e+00],\n",
       "        [-5.9836e-01, -8.3437e-01,  3.0472e-01, -3.2971e-02,  1.2668e+00,\n",
       "          6.7622e-01,  5.8749e-01, -6.8731e-01, -1.0367e+00, -3.4373e-01,\n",
       "          5.4217e-01,  1.6670e-01,  3.0101e-01, -5.1566e-01, -8.1178e-01,\n",
       "          1.2952e+00,  3.9999e-01,  1.0501e+00,  5.4766e-01,  4.9763e-01],\n",
       "        [ 5.2151e-01, -3.5947e-01,  1.5082e-02, -2.1277e-01,  6.7622e-01,\n",
       "          6.4840e-01, -8.1848e-02, -2.1277e-01, -2.2898e-02, -6.1925e-01,\n",
       "          2.0820e-01,  8.7994e-02,  4.8928e-01, -4.5241e-01, -5.2814e-01,\n",
       "         -7.5937e-02,  2.1227e-02,  7.5179e-01,  5.6224e-01, -6.5940e-01],\n",
       "        [-2.9568e+00, -4.3239e-01, -2.6363e+00, -3.7738e-01,  5.8749e-01,\n",
       "         -8.1848e-02,  3.1666e+00, -4.7342e-01, -2.1370e+00,  4.6478e-01,\n",
       "         -2.5778e-01,  5.6525e-01, -1.6523e-01, -2.0188e-01, -5.4190e-01,\n",
       "          8.8120e-01, -2.3994e-01,  1.0191e+00,  5.5337e-04,  9.4429e-01],\n",
       "        [ 1.3844e+00,  6.1707e-01, -3.3021e-01, -3.5947e-01, -6.8731e-01,\n",
       "         -2.1277e-01, -4.7342e-01,  6.4840e-01,  1.0044e+00,  6.0023e-01,\n",
       "         -5.6241e-01, -6.4724e-02,  2.0820e-01,  1.2126e+00,  4.8928e-01,\n",
       "         -8.9247e-01, -5.2814e-01, -4.4466e-01,  2.1227e-02, -1.1842e+00],\n",
       "        [ 3.2495e+00,  9.2235e-01,  6.4088e-01, -3.2674e-01, -1.0367e+00,\n",
       "         -2.2898e-02, -2.1370e+00,  1.0044e+00,  2.3621e+00,  7.5763e-02,\n",
       "         -5.4597e-01, -3.1652e-01,  4.8247e-01,  1.1481e+00,  7.0655e-01,\n",
       "         -1.9443e+00, -5.9012e-01, -8.1691e-01,  1.6412e-01, -2.2747e+00],\n",
       "        [ 1.0536e+00,  4.9062e-01,  6.5637e-02, -5.7099e-01, -3.4373e-01,\n",
       "         -6.1925e-01,  4.6478e-01,  6.0023e-01,  7.5763e-02,  2.9387e+00,\n",
       "         -7.3842e-01,  9.9487e-03,  6.9336e-02,  3.8950e+00,  7.2200e-01,\n",
       "          1.6161e+00, -4.7012e-01, -5.5599e-01,  2.0272e-02, -1.0522e-01],\n",
       "        [-7.9845e-01, -5.2814e-01,  9.7389e-01,  4.8928e-01,  5.4217e-01,\n",
       "          2.0820e-01, -2.5778e-01, -5.6241e-01, -5.4597e-01, -7.3842e-01,\n",
       "          6.4840e-01, -7.2673e-02, -2.1277e-01, -1.2465e+00, -3.5947e-01,\n",
       "          7.1259e-01,  6.1707e-01,  1.8186e-01, -5.9922e-02,  1.0648e+00],\n",
       "        [-3.4834e-01, -8.6278e-02, -5.7750e-01, -1.5355e-01,  1.6670e-01,\n",
       "          8.7994e-02,  5.6525e-01, -6.4724e-02, -3.1652e-01,  9.9487e-03,\n",
       "         -7.2673e-02,  1.2376e-01,  8.3363e-02, -3.2434e-02, -1.5973e-01,\n",
       "          3.0670e-02, -1.0391e-01,  3.0241e-01,  1.0837e-01, -7.7465e-02],\n",
       "        [ 1.3706e+00,  2.1227e-02, -2.9612e-01, -5.2814e-01,  3.0101e-01,\n",
       "          4.8928e-01, -1.6523e-01,  2.0820e-01,  4.8247e-01,  6.9336e-02,\n",
       "         -2.1277e-01,  8.3363e-02,  6.4840e-01,  6.9625e-01, -2.1277e-01,\n",
       "         -3.7714e-01, -3.5947e-01,  5.2111e-01,  6.1707e-01, -1.3794e+00],\n",
       "        [ 3.3436e+00,  9.0900e-01,  1.5839e-01, -1.1989e+00, -5.1566e-01,\n",
       "         -4.5241e-01, -2.0188e-01,  1.2126e+00,  1.1481e+00,  3.8950e+00,\n",
       "         -1.2465e+00, -3.2434e-02,  6.9625e-01,  5.9084e+00,  9.9152e-01,\n",
       "          1.3112e+00, -1.0151e+00, -5.9836e-01,  5.2151e-01, -1.7658e+00],\n",
       "        [ 6.5840e-01,  5.6224e-01,  2.2140e-01,  2.1227e-02, -8.1178e-01,\n",
       "         -5.2814e-01, -5.4190e-01,  4.8928e-01,  7.0655e-01,  7.2200e-01,\n",
       "         -3.5947e-01, -1.5973e-01, -2.1277e-01,  9.9152e-01,  6.4840e-01,\n",
       "         -3.4499e-01, -2.1277e-01, -8.3437e-01, -3.5947e-01, -1.6926e-01],\n",
       "        [-1.5429e+00, -9.5995e-01,  1.6721e+00,  3.7199e-01,  1.2952e+00,\n",
       "         -7.5937e-02,  8.8120e-01, -8.9247e-01, -1.9443e+00,  1.6161e+00,\n",
       "          7.1259e-01,  3.0670e-02, -3.7714e-01,  1.3112e+00, -3.4499e-01,\n",
       "          3.9303e+00,  9.0958e-01,  3.0472e-01,  1.5082e-02,  2.6542e+00],\n",
       "        [-9.4956e-01, -4.5865e-01,  1.0830e+00,  5.6224e-01,  3.9999e-01,\n",
       "          2.1227e-02, -2.3994e-01, -5.2814e-01, -5.9012e-01, -4.7012e-01,\n",
       "          6.1707e-01, -1.0391e-01, -3.5947e-01, -1.0151e+00, -2.1277e-01,\n",
       "          9.0958e-01,  6.4840e-01, -3.2971e-02, -2.1277e-01,  1.3441e+00],\n",
       "        [-4.4111e-01, -6.0795e-01, -8.5442e-01, -3.7476e-01,  1.0501e+00,\n",
       "          7.5179e-01,  1.0191e+00, -4.4466e-01, -8.1691e-01, -5.5599e-01,\n",
       "          1.8186e-01,  3.0241e-01,  5.2111e-01, -5.9836e-01, -8.3437e-01,\n",
       "          3.0472e-01, -3.2971e-02,  1.2668e+00,  6.7622e-01, -3.9877e-01],\n",
       "        [ 1.0307e+00, -1.7244e-01, -1.6800e-01, -4.5865e-01,  5.4766e-01,\n",
       "          5.6224e-01,  5.5337e-04,  2.1227e-02,  1.6412e-01,  2.0272e-02,\n",
       "         -5.9922e-02,  1.0837e-01,  6.1707e-01,  5.2151e-01, -3.5947e-01,\n",
       "          1.5082e-02, -2.1277e-01,  6.7622e-01,  6.4840e-01, -1.0424e+00],\n",
       "        [-3.9441e+00, -8.6780e-01,  1.3312e+00,  1.3089e+00,  4.9763e-01,\n",
       "         -6.5940e-01,  9.4429e-01, -1.1842e+00, -2.2747e+00, -1.0522e-01,\n",
       "          1.0648e+00, -7.7465e-02, -1.3794e+00, -1.7658e+00, -1.6926e-01,\n",
       "          2.6542e+00,  1.3441e+00, -3.9877e-01, -1.0424e+00,  4.1603e+00]],\n",
       "       grad_fn=<MmBackward0>)"
      ]
     },
     "execution_count": 32,
     "metadata": {},
     "output_type": "execute_result"
    }
   ],
   "source": [
    "# Query, Key, Value\n",
    "all_sim_torch = sentence_meanings @ sentence_meanings.T  #transpozesini al ve çarp \n",
    "all_sim_torch"
   ]
  },
  {
   "cell_type": "code",
   "execution_count": null,
   "metadata": {},
   "outputs": [
    {
     "data": {
      "text/plain": [
       "tensor(8.2288, grad_fn=<SumBackward0>)"
      ]
     },
     "execution_count": 37,
     "metadata": {},
     "output_type": "execute_result"
    }
   ],
   "source": [
    "torch.sum(all_sim_torch[0])"
   ]
  },
  {
   "cell_type": "code",
   "execution_count": null,
   "metadata": {},
   "outputs": [
    {
     "data": {
      "text/plain": [
       "tensor([[8.1946e-01, 5.9999e-03, 8.2603e-03, 8.0667e-04, 1.2237e-03, 3.7499e-03,\n",
       "         1.1572e-04, 8.8869e-03, 5.7380e-02, 6.3839e-03, 1.0018e-03, 1.5713e-03,\n",
       "         8.7658e-03, 6.3045e-02, 4.3000e-03, 4.7584e-04, 8.6128e-04, 1.4320e-03,\n",
       "         6.2396e-03, 4.3116e-05],\n",
       "        [1.1473e-01, 8.1405e-02, 3.0146e-02, 3.4407e-02, 1.8480e-02, 2.9712e-02,\n",
       "         2.7623e-02, 7.8894e-02, 1.0706e-01, 6.9522e-02, 2.5101e-02, 3.9047e-02,\n",
       "         4.3478e-02, 1.0564e-01, 7.4684e-02, 1.6299e-02, 2.6907e-02, 2.3175e-02,\n",
       "         3.5823e-02, 1.7872e-02],\n",
       "        [4.4356e-02, 8.4658e-03, 6.0869e-01, 2.9684e-02, 1.6212e-02, 1.2135e-02,\n",
       "         8.5615e-04, 8.5918e-03, 2.2690e-02, 1.2764e-02, 3.1655e-02, 6.7095e-03,\n",
       "         8.8897e-03, 1.4005e-02, 1.4916e-02, 6.3631e-02, 3.5306e-02, 5.0865e-03,\n",
       "         1.0105e-02, 4.5252e-02],\n",
       "        [1.6006e-02, 3.5703e-02, 1.0968e-01, 8.4471e-02, 4.2736e-02, 3.5703e-02,\n",
       "         3.0284e-02, 3.0832e-02, 3.1857e-02, 2.4954e-02, 7.2045e-02, 3.7881e-02,\n",
       "         2.6046e-02, 1.3317e-02, 4.5116e-02, 6.4071e-02, 7.7497e-02, 3.0364e-02,\n",
       "         2.7920e-02, 1.6351e-01],\n",
       "        [1.9048e-02, 1.5044e-02, 4.6996e-02, 3.3527e-02, 1.2300e-01, 6.8139e-02,\n",
       "         6.2354e-02, 1.7427e-02, 1.2288e-02, 2.4572e-02, 5.9591e-02, 4.0937e-02,\n",
       "         4.6822e-02, 2.0691e-02, 1.5387e-02, 1.2654e-01, 5.1693e-02, 9.9031e-02,\n",
       "         5.9919e-02, 5.6995e-02],\n",
       "        [7.3717e-02, 3.0547e-02, 4.4425e-02, 3.5373e-02, 8.6052e-02, 8.3691e-02,\n",
       "         4.0321e-02, 3.5373e-02, 4.2770e-02, 2.3558e-02, 5.3889e-02, 4.7785e-02,\n",
       "         7.1379e-02, 2.7835e-02, 2.5805e-02, 4.0560e-02, 4.4699e-02, 9.2806e-02,\n",
       "         7.6782e-02, 2.2631e-02],\n",
       "        [1.1666e-03, 1.4563e-02, 1.6073e-03, 1.5387e-02, 4.0383e-02, 2.0678e-02,\n",
       "         5.3247e-01, 1.3978e-02, 2.6483e-03, 3.5719e-02, 1.7342e-02, 3.9494e-02,\n",
       "         1.9023e-02, 1.8339e-02, 1.3053e-02, 5.4169e-02, 1.7654e-02, 6.2179e-02,\n",
       "         2.2454e-02, 5.7697e-02],\n",
       "        [1.5144e-01, 7.0309e-02, 2.7266e-02, 2.6479e-02, 1.9078e-02, 3.0663e-02,\n",
       "         2.3628e-02, 7.2547e-02, 1.0357e-01, 6.9135e-02, 2.1616e-02, 3.5556e-02,\n",
       "         4.6714e-02, 1.2754e-01, 6.1875e-02, 1.5539e-02, 2.2369e-02, 2.4317e-02,\n",
       "         3.8747e-02, 1.1607e-02],\n",
       "        [4.4977e-01, 4.3886e-02, 3.3120e-02, 1.2585e-02, 6.1873e-03, 1.7053e-02,\n",
       "         2.0591e-03, 4.7641e-02, 1.8519e-01, 1.8822e-02, 1.0108e-02, 1.2714e-02,\n",
       "         2.8268e-02, 5.4999e-02, 3.5368e-02, 2.4966e-03, 9.6710e-03, 7.7086e-03,\n",
       "         2.0561e-02, 1.7941e-03],\n",
       "        [3.0940e-02, 1.7621e-02, 1.1521e-02, 6.0952e-03, 7.6504e-03, 5.8080e-03,\n",
       "         1.7172e-02, 1.9663e-02, 1.1638e-02, 2.0381e-01, 5.1556e-03, 1.0897e-02,\n",
       "         1.1563e-02, 5.3030e-01, 2.2209e-02, 5.4304e-02, 6.7421e-03, 6.1873e-03,\n",
       "         1.1010e-02, 9.7111e-03],\n",
       "        [1.8565e-02, 2.4327e-02, 1.0925e-01, 6.7289e-02, 7.0944e-02, 5.0801e-02,\n",
       "         3.1879e-02, 2.3507e-02, 2.3897e-02, 1.9714e-02, 7.8896e-02, 3.8361e-02,\n",
       "         3.3346e-02, 1.1860e-02, 2.8796e-02, 8.4125e-02, 7.6462e-02, 4.9480e-02,\n",
       "         3.8854e-02, 1.1965e-01],\n",
       "        [3.5212e-02, 4.5762e-02, 2.8001e-02, 4.2785e-02, 5.8935e-02, 5.4474e-02,\n",
       "         8.7793e-02, 4.6759e-02, 3.6350e-02, 5.0384e-02, 4.6389e-02, 5.6458e-02,\n",
       "         5.4222e-02, 4.8293e-02, 4.2521e-02, 5.1439e-02, 4.4962e-02, 6.7501e-02,\n",
       "         5.5595e-02, 4.6167e-02],\n",
       "        [1.5239e-01, 3.9528e-02, 2.8779e-02, 2.2820e-02, 5.2289e-02, 6.3121e-02,\n",
       "         3.2804e-02, 4.7655e-02, 6.2693e-02, 4.1476e-02, 3.1281e-02, 4.2062e-02,\n",
       "         7.4009e-02, 7.7636e-02, 3.1281e-02, 2.6540e-02, 2.7013e-02, 6.5162e-02,\n",
       "         7.1725e-02, 9.7410e-03],\n",
       "        [6.0188e-02, 5.2743e-03, 2.4899e-03, 6.4076e-04, 1.2689e-03, 1.3518e-03,\n",
       "         1.7366e-03, 7.1453e-03, 6.6987e-03, 1.0446e-01, 6.1097e-04, 2.0573e-03,\n",
       "         4.2635e-03, 7.8232e-01, 5.7280e-03, 7.8859e-03, 7.7011e-04, 1.1682e-03,\n",
       "         3.5800e-03, 3.6349e-04],\n",
       "        [8.1344e-02, 7.3886e-02, 5.2546e-02, 4.3013e-02, 1.8700e-02, 2.4832e-02,\n",
       "         2.4493e-02, 6.8688e-02, 8.5356e-02, 8.6685e-02, 2.9395e-02, 3.5894e-02,\n",
       "         3.4039e-02, 1.1350e-01, 8.0535e-02, 2.9824e-02, 3.4039e-02, 1.8282e-02,\n",
       "         2.9395e-02, 3.5553e-02],\n",
       "        [2.1787e-03, 3.9027e-03, 5.4256e-02, 1.4785e-02, 3.7220e-02, 9.4469e-03,\n",
       "         2.4602e-02, 4.1752e-03, 1.4584e-03, 5.1302e-02, 2.0785e-02, 1.0510e-02,\n",
       "         6.9901e-03, 3.7821e-02, 7.2185e-03, 5.1901e-01, 2.5310e-02, 1.3823e-02,\n",
       "         1.0347e-02, 1.4486e-01],\n",
       "        [1.5217e-02, 2.4862e-02, 1.1617e-01, 6.9008e-02, 5.8673e-02, 4.0174e-02,\n",
       "         3.0940e-02, 2.3193e-02, 2.1799e-02, 2.4578e-02, 7.2898e-02, 3.5448e-02,\n",
       "         2.7454e-02, 1.4252e-02, 3.1792e-02, 9.7667e-02, 7.5218e-02, 3.8054e-02,\n",
       "         3.1792e-02, 1.5081e-01],\n",
       "        [2.5290e-02, 2.1404e-02, 1.6728e-02, 2.7025e-02, 1.1235e-01, 8.3371e-02,\n",
       "         1.0892e-01, 2.5200e-02, 1.7368e-02, 2.2545e-02, 4.7152e-02, 5.3193e-02,\n",
       "         6.6196e-02, 2.1610e-02, 1.7067e-02, 5.3316e-02, 3.8036e-02, 1.3954e-01,\n",
       "         7.7303e-02, 2.6384e-02],\n",
       "        [1.1134e-01, 3.3431e-02, 3.3580e-02, 2.5111e-02, 6.8689e-02, 6.9698e-02,\n",
       "         3.9745e-02, 4.0575e-02, 4.6808e-02, 4.0537e-02, 3.7413e-02, 4.4270e-02,\n",
       "         7.3626e-02, 6.6916e-02, 2.7729e-02, 4.0327e-02, 3.2110e-02, 7.8113e-02,\n",
       "         7.5970e-02, 1.4007e-02],\n",
       "        [1.8948e-04, 4.1075e-03, 3.7034e-02, 3.6216e-02, 1.6091e-02, 5.0592e-03,\n",
       "         2.5151e-02, 2.9935e-03, 1.0059e-03, 8.8056e-03, 2.8373e-02, 9.0534e-03,\n",
       "         2.4625e-03, 1.6733e-03, 8.2594e-03, 1.3904e-01, 3.7512e-02, 6.5656e-03,\n",
       "         3.4496e-03, 6.2696e-01]], grad_fn=<SoftmaxBackward0>)"
      ]
     },
     "execution_count": 36,
     "metadata": {},
     "output_type": "execute_result"
    }
   ],
   "source": [
    "#her kelimenin önemini içrisindeki bulunma \n",
    "attention_weights = torch.softmax(all_similarities, dim=1)\n",
    "attention_weights"
   ]
  },
  {
   "cell_type": "code",
   "execution_count": null,
   "metadata": {},
   "outputs": [
    {
     "data": {
      "text/plain": [
       "(tensor([[-1.3642, -0.5804, -0.6650, -1.4544],\n",
       "         [-0.3833,  0.0771, -0.3690, -0.4858],\n",
       "         [ 0.6289, -0.0605,  0.2308, -1.2027],\n",
       "         [ 0.4327,  0.2193,  0.2051, -0.2858],\n",
       "         [ 0.0623,  0.3735,  0.4016, -0.1809],\n",
       "         [-0.2149,  0.1034,  0.1941, -0.2750],\n",
       "         [-0.0276,  0.8163,  0.2735,  0.6393],\n",
       "         [-0.4880,  0.0775, -0.4011, -0.5648],\n",
       "         [-0.8795, -0.4359, -0.5518, -1.0064],\n",
       "         [-0.6646,  1.0497, -0.8285, -0.8352],\n",
       "         [ 0.3295,  0.2349,  0.3010, -0.2964],\n",
       "         [-0.1033,  0.2790,  0.0843, -0.1576],\n",
       "         [-0.4629,  0.0648, -0.0904, -0.4583],\n",
       "         [-0.9981,  1.1521, -1.1039, -1.0766],\n",
       "         [-0.2338,  0.1810, -0.3295, -0.4863],\n",
       "         [ 0.6268,  1.0575,  0.4230, -0.4987],\n",
       "         [ 0.4249,  0.2853,  0.2814, -0.3113],\n",
       "         [-0.1742,  0.2892,  0.3568, -0.0203],\n",
       "         [-0.3606,  0.1359,  0.0309, -0.3752],\n",
       "         [ 1.3265,  0.7178,  0.4320, -0.0393]], grad_fn=<MmBackward0>),\n",
       " tensor([[-1.5256, -0.7502, -0.6540, -1.6095],\n",
       "         [-0.2092, -0.2013, -0.7509, -0.0189],\n",
       "         [ 0.9326, -0.2774,  0.3166, -1.6980],\n",
       "         [ 0.7698, -0.1935,  0.1223, -0.0585],\n",
       "         [-0.1228,  0.3777,  1.0470, -0.1133],\n",
       "         [-0.4315, -0.1780,  0.6491, -0.0958],\n",
       "         [-0.1496,  1.1284,  0.2814,  1.3386],\n",
       "         [-0.4106, -0.1555, -0.6625, -0.1292],\n",
       "         [-0.5907, -0.9515, -0.7913, -0.6940],\n",
       "         [-0.3183,  1.2965, -0.8974, -0.5926],\n",
       "         [ 0.5000, -0.1103,  0.5979, -0.1694],\n",
       "         [-0.1583,  0.1584,  0.1103,  0.2478],\n",
       "         [-0.7518, -0.0745,  0.2059, -0.1879],\n",
       "         [-1.1096,  1.3501, -1.2345, -1.1534],\n",
       "         [ 0.1257, -0.0357, -0.7692, -0.1990],\n",
       "         [ 0.7132,  1.5620,  0.6792, -0.7215],\n",
       "         [ 0.6472,  0.0046,  0.4344, -0.2021],\n",
       "         [-0.5514,  0.2102,  0.8985,  0.3336],\n",
       "         [-0.6643,  0.0446,  0.4077, -0.1972],\n",
       "         [ 1.8345,  0.7552,  0.4377,  0.1818]], grad_fn=<CopySlices>))"
      ]
     },
     "execution_count": 40,
     "metadata": {},
     "output_type": "execute_result"
    }
   ],
   "source": [
    "#kelimenin cümle içerisinde ne kadar önemli olduğu * kelimenin kelimeler ile benzerliği\n",
    "sentence_context_vector = attention_weights @ sentence_meanings # Value\n",
    "sentence_context_vector, sentence_meanings"
   ]
  },
  {
   "cell_type": "code",
   "execution_count": null,
   "metadata": {},
   "outputs": [],
   "source": [
    "sentence_meanings_without_pos = u_model.embedding(tokens)"
   ]
  },
  {
   "cell_type": "code",
   "execution_count": null,
   "metadata": {},
   "outputs": [
    {
     "data": {
      "application/vnd.plotly.v1+json": {
       "config": {
        "linkText": "Export to plot.ly",
        "plotlyServerURL": "https://plot.ly",
        "showLink": false
       },
       "data": [
        {
         "hoverinfo": "text",
         "marker": {
          "color": "blue",
          "size": 6
         },
         "mode": "markers+text",
         "text": [
          "the",
          " ",
          "capital",
          " ",
          "of",
          " ",
          "united",
          " ",
          "state",
          "s",
          " ",
          "and",
          " ",
          "the",
          " ",
          "capital",
          " ",
          "of",
          " ",
          "france"
         ],
         "type": "scatter3d",
         "x": {
          "bdata": "ukbDv+OtPr9zJM29460+vxxPNr/jrT6/4JpjvuOtPr/FbDK/p32jveOtPr/VXuO9460+v7pGw7/jrT6/cyTNveOtPr8cTza/460+v2aO8D8=",
          "dtype": "f4"
         },
         "y": {
          "bdata": "MQ9Av00CT77O8xu/TQJPvnOBmz5NAk++VfPXP00CT77Vk5S/fPauPk0CT75l4ZU+TQJPvjEPQL9NAk++zvMbv00CT75zgZs+TQJPvtS5k70=",
          "dtype": "f4"
         },
         "z": {
          "bdata": "S2snvxAua75b0nq/EC5rvhL+Rr8QLmu+SuhpPhAua742FTM/WeZyPxAua74poiG+EC5rvktrJ78QLmu+W9J6vxAua74S/ka/EC5rvp6OIT4=",
          "dtype": "f4"
         }
        },
        {
         "hoverinfo": "text",
         "marker": {
          "color": "purple",
          "size": 6
         },
         "mode": "markers+text",
         "text": [
          "the",
          " ",
          "capital",
          " ",
          "of",
          " ",
          "united",
          " ",
          "state",
          "s",
          " ",
          "and",
          " ",
          "the",
          " ",
          "capital",
          " ",
          "of",
          " ",
          "france"
         ],
         "type": "scatter3d",
         "x": {
          "bdata": "ukbDv2EzVr4hvm4/dBFFP4R2+73W79y+pC4ZvoJA0r5dNxe/dveivv8BAD+PIiK+B3RAv+UHjr/frQA+OpY2P7OtJT9nJQ2/HxAqv/bP6j8=",
          "dtype": "f4"
         },
         "y": {
          "bdata": "MQ9Av2UcTr4iA46+hypGvqZdwT4yUja+BG+QPxw1H77/lnO/fvOlPz794b3OPSI+WpCYvZjRrD/cHBK9vO7HP87RlTt8RVc+LtI2PWdXQT8=",
          "dtype": "f4"
         },
         "z": {
          "bdata": "S2snv9Y3QL+cH6I+LWL6PWIFhj9GKyY/+BeQPnGZKb8rlUq/TbxlvxURGT8C8OE9uMtSPrgCnr9/7US/+94tP9Bn3j7hBmY/rb/QPuwU4D4=",
          "dtype": "f4"
         }
        },
        {
         "hoverinfo": "text",
         "marker": {
          "color": "orange",
          "size": 6
         },
         "mode": "markers+text",
         "text": [
          "the",
          " ",
          "capital",
          " ",
          "of",
          " ",
          "united",
          " ",
          "state",
          "s",
          " ",
          "and",
          " ",
          "the",
          " ",
          "capital",
          " ",
          "of",
          " ",
          "france"
         ],
         "type": "scatter3d",
         "x": {
          "bdata": "6Zyuv8ZFxL4//SA/FIndPgQ5fz1wE1y+0+nhvLHa+b64J2G/LCIqv2SxqD69dNO9Df7svveAf79xbG++d3cgP3KQ2T6kXzK+LaC4vtvJqT8=",
          "dtype": "f4"
         },
         "y": {
          "bdata": "W5UUv3LYnT03sne9WYlgPmc/vz4OuNM9CvxQP7a3nj0pKN++wVuGP5V/cD4h1o4+arKEPdl3kz+jVjk+NlyHP+0Rkj69C5Q+PzMLPt+/Nz8=",
          "dtype": "f4"
         },
         "z": {
          "bdata": "kzwqvxfnvL46UWw+cgBSPuGizT4ay0Y+Gw2MPg5azb66QQ2/QxtUv2wXmj6hrqw9IB65vRxLjb8Auai+/JXYPkYVkD4ArbY+G2v9PDEp3T4=",
          "dtype": "f4"
         }
        }
       ],
       "layout": {
        "height": 1000,
        "scene": {
         "xaxis": {
          "title": {
           "text": "Hardness"
          }
         },
         "yaxis": {
          "title": {
           "text": "Brightness"
          }
         },
         "zaxis": {
          "title": {
           "text": "Redness"
          }
         }
        },
        "template": {
         "data": {
          "bar": [
           {
            "error_x": {
             "color": "#2a3f5f"
            },
            "error_y": {
             "color": "#2a3f5f"
            },
            "marker": {
             "line": {
              "color": "#E5ECF6",
              "width": 0.5
             },
             "pattern": {
              "fillmode": "overlay",
              "size": 10,
              "solidity": 0.2
             }
            },
            "type": "bar"
           }
          ],
          "barpolar": [
           {
            "marker": {
             "line": {
              "color": "#E5ECF6",
              "width": 0.5
             },
             "pattern": {
              "fillmode": "overlay",
              "size": 10,
              "solidity": 0.2
             }
            },
            "type": "barpolar"
           }
          ],
          "carpet": [
           {
            "aaxis": {
             "endlinecolor": "#2a3f5f",
             "gridcolor": "white",
             "linecolor": "white",
             "minorgridcolor": "white",
             "startlinecolor": "#2a3f5f"
            },
            "baxis": {
             "endlinecolor": "#2a3f5f",
             "gridcolor": "white",
             "linecolor": "white",
             "minorgridcolor": "white",
             "startlinecolor": "#2a3f5f"
            },
            "type": "carpet"
           }
          ],
          "choropleth": [
           {
            "colorbar": {
             "outlinewidth": 0,
             "ticks": ""
            },
            "type": "choropleth"
           }
          ],
          "contour": [
           {
            "colorbar": {
             "outlinewidth": 0,
             "ticks": ""
            },
            "colorscale": [
             [
              0,
              "#0d0887"
             ],
             [
              0.1111111111111111,
              "#46039f"
             ],
             [
              0.2222222222222222,
              "#7201a8"
             ],
             [
              0.3333333333333333,
              "#9c179e"
             ],
             [
              0.4444444444444444,
              "#bd3786"
             ],
             [
              0.5555555555555556,
              "#d8576b"
             ],
             [
              0.6666666666666666,
              "#ed7953"
             ],
             [
              0.7777777777777778,
              "#fb9f3a"
             ],
             [
              0.8888888888888888,
              "#fdca26"
             ],
             [
              1,
              "#f0f921"
             ]
            ],
            "type": "contour"
           }
          ],
          "contourcarpet": [
           {
            "colorbar": {
             "outlinewidth": 0,
             "ticks": ""
            },
            "type": "contourcarpet"
           }
          ],
          "heatmap": [
           {
            "colorbar": {
             "outlinewidth": 0,
             "ticks": ""
            },
            "colorscale": [
             [
              0,
              "#0d0887"
             ],
             [
              0.1111111111111111,
              "#46039f"
             ],
             [
              0.2222222222222222,
              "#7201a8"
             ],
             [
              0.3333333333333333,
              "#9c179e"
             ],
             [
              0.4444444444444444,
              "#bd3786"
             ],
             [
              0.5555555555555556,
              "#d8576b"
             ],
             [
              0.6666666666666666,
              "#ed7953"
             ],
             [
              0.7777777777777778,
              "#fb9f3a"
             ],
             [
              0.8888888888888888,
              "#fdca26"
             ],
             [
              1,
              "#f0f921"
             ]
            ],
            "type": "heatmap"
           }
          ],
          "histogram": [
           {
            "marker": {
             "pattern": {
              "fillmode": "overlay",
              "size": 10,
              "solidity": 0.2
             }
            },
            "type": "histogram"
           }
          ],
          "histogram2d": [
           {
            "colorbar": {
             "outlinewidth": 0,
             "ticks": ""
            },
            "colorscale": [
             [
              0,
              "#0d0887"
             ],
             [
              0.1111111111111111,
              "#46039f"
             ],
             [
              0.2222222222222222,
              "#7201a8"
             ],
             [
              0.3333333333333333,
              "#9c179e"
             ],
             [
              0.4444444444444444,
              "#bd3786"
             ],
             [
              0.5555555555555556,
              "#d8576b"
             ],
             [
              0.6666666666666666,
              "#ed7953"
             ],
             [
              0.7777777777777778,
              "#fb9f3a"
             ],
             [
              0.8888888888888888,
              "#fdca26"
             ],
             [
              1,
              "#f0f921"
             ]
            ],
            "type": "histogram2d"
           }
          ],
          "histogram2dcontour": [
           {
            "colorbar": {
             "outlinewidth": 0,
             "ticks": ""
            },
            "colorscale": [
             [
              0,
              "#0d0887"
             ],
             [
              0.1111111111111111,
              "#46039f"
             ],
             [
              0.2222222222222222,
              "#7201a8"
             ],
             [
              0.3333333333333333,
              "#9c179e"
             ],
             [
              0.4444444444444444,
              "#bd3786"
             ],
             [
              0.5555555555555556,
              "#d8576b"
             ],
             [
              0.6666666666666666,
              "#ed7953"
             ],
             [
              0.7777777777777778,
              "#fb9f3a"
             ],
             [
              0.8888888888888888,
              "#fdca26"
             ],
             [
              1,
              "#f0f921"
             ]
            ],
            "type": "histogram2dcontour"
           }
          ],
          "mesh3d": [
           {
            "colorbar": {
             "outlinewidth": 0,
             "ticks": ""
            },
            "type": "mesh3d"
           }
          ],
          "parcoords": [
           {
            "line": {
             "colorbar": {
              "outlinewidth": 0,
              "ticks": ""
             }
            },
            "type": "parcoords"
           }
          ],
          "pie": [
           {
            "automargin": true,
            "type": "pie"
           }
          ],
          "scatter": [
           {
            "fillpattern": {
             "fillmode": "overlay",
             "size": 10,
             "solidity": 0.2
            },
            "type": "scatter"
           }
          ],
          "scatter3d": [
           {
            "line": {
             "colorbar": {
              "outlinewidth": 0,
              "ticks": ""
             }
            },
            "marker": {
             "colorbar": {
              "outlinewidth": 0,
              "ticks": ""
             }
            },
            "type": "scatter3d"
           }
          ],
          "scattercarpet": [
           {
            "marker": {
             "colorbar": {
              "outlinewidth": 0,
              "ticks": ""
             }
            },
            "type": "scattercarpet"
           }
          ],
          "scattergeo": [
           {
            "marker": {
             "colorbar": {
              "outlinewidth": 0,
              "ticks": ""
             }
            },
            "type": "scattergeo"
           }
          ],
          "scattergl": [
           {
            "marker": {
             "colorbar": {
              "outlinewidth": 0,
              "ticks": ""
             }
            },
            "type": "scattergl"
           }
          ],
          "scattermap": [
           {
            "marker": {
             "colorbar": {
              "outlinewidth": 0,
              "ticks": ""
             }
            },
            "type": "scattermap"
           }
          ],
          "scattermapbox": [
           {
            "marker": {
             "colorbar": {
              "outlinewidth": 0,
              "ticks": ""
             }
            },
            "type": "scattermapbox"
           }
          ],
          "scatterpolar": [
           {
            "marker": {
             "colorbar": {
              "outlinewidth": 0,
              "ticks": ""
             }
            },
            "type": "scatterpolar"
           }
          ],
          "scatterpolargl": [
           {
            "marker": {
             "colorbar": {
              "outlinewidth": 0,
              "ticks": ""
             }
            },
            "type": "scatterpolargl"
           }
          ],
          "scatterternary": [
           {
            "marker": {
             "colorbar": {
              "outlinewidth": 0,
              "ticks": ""
             }
            },
            "type": "scatterternary"
           }
          ],
          "surface": [
           {
            "colorbar": {
             "outlinewidth": 0,
             "ticks": ""
            },
            "colorscale": [
             [
              0,
              "#0d0887"
             ],
             [
              0.1111111111111111,
              "#46039f"
             ],
             [
              0.2222222222222222,
              "#7201a8"
             ],
             [
              0.3333333333333333,
              "#9c179e"
             ],
             [
              0.4444444444444444,
              "#bd3786"
             ],
             [
              0.5555555555555556,
              "#d8576b"
             ],
             [
              0.6666666666666666,
              "#ed7953"
             ],
             [
              0.7777777777777778,
              "#fb9f3a"
             ],
             [
              0.8888888888888888,
              "#fdca26"
             ],
             [
              1,
              "#f0f921"
             ]
            ],
            "type": "surface"
           }
          ],
          "table": [
           {
            "cells": {
             "fill": {
              "color": "#EBF0F8"
             },
             "line": {
              "color": "white"
             }
            },
            "header": {
             "fill": {
              "color": "#C8D4E3"
             },
             "line": {
              "color": "white"
             }
            },
            "type": "table"
           }
          ]
         },
         "layout": {
          "annotationdefaults": {
           "arrowcolor": "#2a3f5f",
           "arrowhead": 0,
           "arrowwidth": 1
          },
          "autotypenumbers": "strict",
          "coloraxis": {
           "colorbar": {
            "outlinewidth": 0,
            "ticks": ""
           }
          },
          "colorscale": {
           "diverging": [
            [
             0,
             "#8e0152"
            ],
            [
             0.1,
             "#c51b7d"
            ],
            [
             0.2,
             "#de77ae"
            ],
            [
             0.3,
             "#f1b6da"
            ],
            [
             0.4,
             "#fde0ef"
            ],
            [
             0.5,
             "#f7f7f7"
            ],
            [
             0.6,
             "#e6f5d0"
            ],
            [
             0.7,
             "#b8e186"
            ],
            [
             0.8,
             "#7fbc41"
            ],
            [
             0.9,
             "#4d9221"
            ],
            [
             1,
             "#276419"
            ]
           ],
           "sequential": [
            [
             0,
             "#0d0887"
            ],
            [
             0.1111111111111111,
             "#46039f"
            ],
            [
             0.2222222222222222,
             "#7201a8"
            ],
            [
             0.3333333333333333,
             "#9c179e"
            ],
            [
             0.4444444444444444,
             "#bd3786"
            ],
            [
             0.5555555555555556,
             "#d8576b"
            ],
            [
             0.6666666666666666,
             "#ed7953"
            ],
            [
             0.7777777777777778,
             "#fb9f3a"
            ],
            [
             0.8888888888888888,
             "#fdca26"
            ],
            [
             1,
             "#f0f921"
            ]
           ],
           "sequentialminus": [
            [
             0,
             "#0d0887"
            ],
            [
             0.1111111111111111,
             "#46039f"
            ],
            [
             0.2222222222222222,
             "#7201a8"
            ],
            [
             0.3333333333333333,
             "#9c179e"
            ],
            [
             0.4444444444444444,
             "#bd3786"
            ],
            [
             0.5555555555555556,
             "#d8576b"
            ],
            [
             0.6666666666666666,
             "#ed7953"
            ],
            [
             0.7777777777777778,
             "#fb9f3a"
            ],
            [
             0.8888888888888888,
             "#fdca26"
            ],
            [
             1,
             "#f0f921"
            ]
           ]
          },
          "colorway": [
           "#636efa",
           "#EF553B",
           "#00cc96",
           "#ab63fa",
           "#FFA15A",
           "#19d3f3",
           "#FF6692",
           "#B6E880",
           "#FF97FF",
           "#FECB52"
          ],
          "font": {
           "color": "#2a3f5f"
          },
          "geo": {
           "bgcolor": "white",
           "lakecolor": "white",
           "landcolor": "#E5ECF6",
           "showlakes": true,
           "showland": true,
           "subunitcolor": "white"
          },
          "hoverlabel": {
           "align": "left"
          },
          "hovermode": "closest",
          "mapbox": {
           "style": "light"
          },
          "paper_bgcolor": "white",
          "plot_bgcolor": "#E5ECF6",
          "polar": {
           "angularaxis": {
            "gridcolor": "white",
            "linecolor": "white",
            "ticks": ""
           },
           "bgcolor": "#E5ECF6",
           "radialaxis": {
            "gridcolor": "white",
            "linecolor": "white",
            "ticks": ""
           }
          },
          "scene": {
           "xaxis": {
            "backgroundcolor": "#E5ECF6",
            "gridcolor": "white",
            "gridwidth": 2,
            "linecolor": "white",
            "showbackground": true,
            "ticks": "",
            "zerolinecolor": "white"
           },
           "yaxis": {
            "backgroundcolor": "#E5ECF6",
            "gridcolor": "white",
            "gridwidth": 2,
            "linecolor": "white",
            "showbackground": true,
            "ticks": "",
            "zerolinecolor": "white"
           },
           "zaxis": {
            "backgroundcolor": "#E5ECF6",
            "gridcolor": "white",
            "gridwidth": 2,
            "linecolor": "white",
            "showbackground": true,
            "ticks": "",
            "zerolinecolor": "white"
           }
          },
          "shapedefaults": {
           "line": {
            "color": "#2a3f5f"
           }
          },
          "ternary": {
           "aaxis": {
            "gridcolor": "white",
            "linecolor": "white",
            "ticks": ""
           },
           "baxis": {
            "gridcolor": "white",
            "linecolor": "white",
            "ticks": ""
           },
           "bgcolor": "#E5ECF6",
           "caxis": {
            "gridcolor": "white",
            "linecolor": "white",
            "ticks": ""
           }
          },
          "title": {
           "x": 0.05
          },
          "xaxis": {
           "automargin": true,
           "gridcolor": "white",
           "linecolor": "white",
           "ticks": "",
           "title": {
            "standoff": 15
           },
           "zerolinecolor": "white",
           "zerolinewidth": 2
          },
          "yaxis": {
           "automargin": true,
           "gridcolor": "white",
           "linecolor": "white",
           "ticks": "",
           "title": {
            "standoff": 15
           },
           "zerolinecolor": "white",
           "zerolinewidth": 2
          }
         }
        },
        "title": {
         "text": "Models Attention Sentence Space"
        },
        "width": 1000
       }
      }
     },
     "metadata": {},
     "output_type": "display_data"
    }
   ],
   "source": [
    "u_sentences = [\n",
    "  {\n",
    "    \"words\": sentence_meanings_without_pos.detach().numpy(),\n",
    "    \"labels\": u_tokenizer.tokenize(prompt),\n",
    "    \"color\": \"blue\",\n",
    "  },\n",
    "  {\n",
    "    \"words\": sentence_meanings.detach().numpy(),\n",
    "    \"labels\": u_tokenizer.tokenize(prompt),\n",
    "    \"color\": \"purple\",\n",
    "  },\n",
    "  {\n",
    "    \"words\": sentence_context_vector.detach().numpy(),\n",
    "    \"labels\": u_tokenizer.tokenize(prompt),\n",
    "    \"color\": \"orange\",\n",
    "  },\n",
    "]\n",
    "\n",
    "plot_tokens(u_sentences, \"Models Attention Sentence Space\")"
   ]
  }
 ],
 "metadata": {
  "kernelspec": {
   "display_name": "LLM",
   "language": "python",
   "name": "python3"
  },
  "language_info": {
   "codemirror_mode": {
    "name": "ipython",
    "version": 3
   },
   "file_extension": ".py",
   "mimetype": "text/x-python",
   "name": "python",
   "nbconvert_exporter": "python",
   "pygments_lexer": "ipython3",
   "version": "3.11.13"
  }
 },
 "nbformat": 4,
 "nbformat_minor": 2
}
