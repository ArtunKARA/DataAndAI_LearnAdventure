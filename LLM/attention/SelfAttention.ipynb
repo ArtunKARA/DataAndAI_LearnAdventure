{
 "cells": [
  {
   "cell_type": "code",
   "execution_count": 19,
   "id": "5545e974",
   "metadata": {},
   "outputs": [
    {
     "data": {
      "text/plain": [
       "torch.Size([7])"
      ]
     },
     "execution_count": 19,
     "metadata": {},
     "output_type": "execute_result"
    }
   ],
   "source": [
    "import torch\n",
    "from usta_model import UstaModel\n",
    "from usta_tokenizer import UstaTokenizer\n",
    "\n",
    "u_tokenizer = UstaTokenizer(\"tokenizer.json\")\n",
    "\n",
    "prompt = \"the capital of united\"\n",
    "\n",
    "tokens = u_tokenizer.encode(prompt)\n",
    "tokens.shape"
   ]
  },
  {
   "cell_type": "code",
   "execution_count": 2,
   "id": "4b859266",
   "metadata": {},
   "outputs": [
    {
     "data": {
      "text/plain": [
       "tensor([[-0.4989,  0.8733, -0.2932,  0.5370],\n",
       "        [ 0.2544,  0.0915, -0.1126, -0.1856],\n",
       "        [ 0.0000,  0.0000,  0.0000,  0.0000],\n",
       "        [-0.2915,  0.1014,  0.2061,  0.5143],\n",
       "        [-0.1000,  0.1750, -0.0588,  0.1076],\n",
       "        [-0.0450,  0.3275,  0.0015,  0.3591],\n",
       "        [ 0.2325,  0.2253, -0.2238, -0.1362]], grad_fn=<MmBackward0>)"
      ]
     },
     "execution_count": 2,
     "metadata": {},
     "output_type": "execute_result"
    }
   ],
   "source": [
    "\n",
    "torch.manual_seed(1)\n",
    "u_model = UstaModel(vocab_size=len(u_tokenizer.vocab), embedding_dim=4, context_length=32)\n",
    "\n",
    "sentence_meanings_with_atention_context = u_model(tokens)\n",
    "sentence_meanings_with_atention_context"
   ]
  },
  {
   "cell_type": "code",
   "execution_count": 3,
   "id": "525655de",
   "metadata": {},
   "outputs": [
    {
     "name": "stderr",
     "output_type": "stream",
     "text": [
      "c:\\Users\\Artun\\anaconda3\\envs\\LLM\\Lib\\site-packages\\tqdm\\auto.py:21: TqdmWarning: IProgress not found. Please update jupyter and ipywidgets. See https://ipywidgets.readthedocs.io/en/stable/user_install.html\n",
      "  from .autonotebook import tqdm as notebook_tqdm\n"
     ]
    },
    {
     "data": {
      "text/plain": [
       "(UstaModel(\n",
       "   (embedding): Embedding(64, 4)\n",
       "   (pos_embedding): Embedding(64, 4)\n",
       "   (self_attation): UstaCausalAttention(\n",
       "     (q_weights): Linear(in_features=4, out_features=4, bias=False)\n",
       "     (k_weights): Linear(in_features=4, out_features=4, bias=False)\n",
       "     (v_weights): Linear(in_features=4, out_features=4, bias=False)\n",
       "     (dropout): Dropout(p=0.5, inplace=False)\n",
       "   )\n",
       " ),\n",
       " Gemma3ForCausalLM(\n",
       "   (model): Gemma3TextModel(\n",
       "     (embed_tokens): Gemma3TextScaledWordEmbedding(262144, 1152, padding_idx=0)\n",
       "     (layers): ModuleList(\n",
       "       (0-25): 26 x Gemma3DecoderLayer(\n",
       "         (self_attn): Gemma3Attention(\n",
       "           (q_proj): Linear(in_features=1152, out_features=1024, bias=False)\n",
       "           (k_proj): Linear(in_features=1152, out_features=256, bias=False)\n",
       "           (v_proj): Linear(in_features=1152, out_features=256, bias=False)\n",
       "           (o_proj): Linear(in_features=1024, out_features=1152, bias=False)\n",
       "           (q_norm): Gemma3RMSNorm((256,), eps=1e-06)\n",
       "           (k_norm): Gemma3RMSNorm((256,), eps=1e-06)\n",
       "         )\n",
       "         (mlp): Gemma3MLP(\n",
       "           (gate_proj): Linear(in_features=1152, out_features=6912, bias=False)\n",
       "           (up_proj): Linear(in_features=1152, out_features=6912, bias=False)\n",
       "           (down_proj): Linear(in_features=6912, out_features=1152, bias=False)\n",
       "           (act_fn): GELUTanh()\n",
       "         )\n",
       "         (input_layernorm): Gemma3RMSNorm((1152,), eps=1e-06)\n",
       "         (post_attention_layernorm): Gemma3RMSNorm((1152,), eps=1e-06)\n",
       "         (pre_feedforward_layernorm): Gemma3RMSNorm((1152,), eps=1e-06)\n",
       "         (post_feedforward_layernorm): Gemma3RMSNorm((1152,), eps=1e-06)\n",
       "       )\n",
       "     )\n",
       "     (norm): Gemma3RMSNorm((1152,), eps=1e-06)\n",
       "     (rotary_emb): Gemma3RotaryEmbedding()\n",
       "     (rotary_emb_local): Gemma3RotaryEmbedding()\n",
       "   )\n",
       "   (lm_head): Linear(in_features=1152, out_features=262144, bias=False)\n",
       " ))"
      ]
     },
     "execution_count": 3,
     "metadata": {},
     "output_type": "execute_result"
    }
   ],
   "source": [
    "from transformers import Gemma3ForCausalLM\n",
    "\n",
    "gemma_model = Gemma3ForCausalLM.from_pretrained(\"google/gemma-3-1b-it\")\n",
    "u_model, gemma_model"
   ]
  },
  {
   "attachments": {
    "attencation.png": {
     "image/png": "[encoded data removed]"
    }
   },
   "cell_type": "markdown",
   "id": "10115781",
   "metadata": {},
   "source": [
    "![attencation.png](attachment:attencation.png)"
   ]
  },
  {
   "cell_type": "code",
   "execution_count": 4,
   "id": "ce6f60eb",
   "metadata": {},
   "outputs": [
    {
     "name": "stdout",
     "output_type": "stream",
     "text": [
      "Parameter containing:\n",
      "tensor([[-0.0408,  0.1524, -0.4963,  0.4446],\n",
      "        [-0.1089, -0.4589,  0.3446, -0.1352],\n",
      "        [ 0.4541, -0.3396, -0.4642, -0.3756]], requires_grad=True)\n"
     ]
    },
    {
     "data": {
      "text/plain": [
       "(torch.Size([7, 3]), torch.Size([7, 3]), torch.Size([7, 3]))"
      ]
     },
     "execution_count": 4,
     "metadata": {},
     "output_type": "execute_result"
    }
   ],
   "source": [
    "q_weights = torch.nn.Linear(4, 3, bias=False)\n",
    "k_weights = torch.nn.Linear(4, 3, bias=False)\n",
    "v_weights = torch.nn.Linear(4, 3, bias=False)\n",
    "\n",
    "q_of_sentence = q_weights(sentence_meanings_with_atention_context)\n",
    "k_of_sentence = k_weights(sentence_meanings_with_atention_context)\n",
    "v_of_sentence = v_weights(sentence_meanings_with_atention_context)\n",
    "print(q_weights.weight)\n",
    "\n",
    "q_of_sentence.shape, k_of_sentence.shape, v_of_sentence.shape"
   ]
  },
  {
   "cell_type": "code",
   "execution_count": 5,
   "id": "ac00d53f",
   "metadata": {},
   "outputs": [
    {
     "data": {
      "text/plain": [
       "tensor([[-0.1229, -0.1153, -0.0929],\n",
       "        [-0.1211, -0.1147, -0.0921],\n",
       "        [-0.1214, -0.1141, -0.0917],\n",
       "        [-0.1222, -0.1137, -0.0915],\n",
       "        [-0.1217, -0.1143, -0.0919],\n",
       "        [-0.1220, -0.1145, -0.0921],\n",
       "        [-0.1212, -0.1150, -0.0923]], grad_fn=<MmBackward0>)"
      ]
     },
     "execution_count": 5,
     "metadata": {},
     "output_type": "execute_result"
    }
   ],
   "source": [
    "attention_scores = q_of_sentence @ k_of_sentence.T\n",
    "attention_weights = torch.softmax(attention_scores / k_of_sentence.shape[-1] ** 0.5, dim=1)\n",
    "\n",
    "context_vector = attention_weights @ v_of_sentence\n",
    "context_vector"
   ]
  },
  {
   "cell_type": "code",
   "execution_count": 6,
   "id": "fca483e1",
   "metadata": {},
   "outputs": [
    {
     "data": {
      "application/vnd.plotly.v1+json": {
       "config": {
        "linkText": "Export to plot.ly",
        "plotlyServerURL": "https://plot.ly",
        "showLink": false
       },
       "data": [
        {
         "hoverinfo": "text",
         "marker": {
          "color": "blue",
          "size": 6
         },
         "mode": "markers+text",
         "text": [
          "the",
          " ",
          "capital",
          " ",
          "of",
          " ",
          "united"
         ],
         "type": "scatter3d",
         "x": {
          "bdata": "wqgJP1AvvbwAAAAA4GcdPvmr3D0PvFc+tVyaPQ==",
          "dtype": "f4"
         },
         "y": {
          "bdata": "7SEFv67Mqr0AAAAA7H9avFZq1b0gFEa+kd8/vg==",
          "dtype": "f4"
         },
         "z": {
          "bdata": "p7UWv5heUz4AAAAAEkzpvoqX8b381oi+I4Q8Pg==",
          "dtype": "f4"
         }
        },
        {
         "hoverinfo": "text",
         "marker": {
          "color": "purple",
          "size": 6
         },
         "mode": "markers+text",
         "text": [
          "the",
          " ",
          "capital",
          " ",
          "of",
          " ",
          "united"
         ],
         "type": "scatter3d",
         "x": {
          "bdata": "DhrqPCzhrT0AAAAAAsvuvc6iuzsANZM7SNgDPg==",
          "dtype": "f4"
         },
         "y": {
          "bdata": "YKhnPUCU0z0AAAAAGmNVvlitOTzwN4u9jCUOPg==",
          "dtype": "f4"
         },
         "z": {
          "bdata": "DvqHvsFsTb0AAAAAjAchPo35Wb3G7lQ9bgnfvQ==",
          "dtype": "f4"
         }
        },
        {
         "hoverinfo": "text",
         "marker": {
          "color": "orange",
          "size": 6
         },
         "mode": "markers+text",
         "text": [
          "the",
          " ",
          "capital",
          " ",
          "of",
          " ",
          "united"
         ],
         "type": "scatter3d",
         "x": {
          "bdata": "0maYvsxX8LwAAAAANisbvuhNdL3YfGq+JueovQ==",
          "dtype": "f4"
         },
         "y": {
          "bdata": "BF3NvvT/7j0AAAAA8Omevg2apL3ecFu+hmq6PQ==",
          "dtype": "f4"
         },
         "z": {
          "bdata": "H16yvlZCzD0AAAAAPkCAvt/2jr0JnCa+jje4PQ==",
          "dtype": "f4"
         }
        },
        {
         "hoverinfo": "text",
         "marker": {
          "color": "green",
          "size": 6
         },
         "mode": "markers+text",
         "text": [
          "the",
          " ",
          "capital",
          " ",
          "of",
          " ",
          "united"
         ],
         "type": "scatter3d",
         "x": {
          "bdata": "t8n7vSIT+L1+lPi9wlH6vXM0+b2A7/m90FH4vQ==",
          "dtype": "f4"
         },
         "y": {
          "bdata": "gyrsvc7t6r27mOm9CM7ovXUT6r3mcuq9QWzrvQ==",
          "dtype": "f4"
         },
         "z": {
          "bdata": "j0G+vcWlvL2Bvbu9q3q7vaI2vL15oby9NAy9vQ==",
          "dtype": "f4"
         }
        }
       ],
       "layout": {
        "height": 1000,
        "scene": {
         "xaxis": {
          "title": {
           "text": "Hardness"
          }
         },
         "yaxis": {
          "title": {
           "text": "Brightness"
          }
         },
         "zaxis": {
          "title": {
           "text": "Redness"
          }
         }
        },
        "template": {
         "data": {
          "bar": [
           {
            "error_x": {
             "color": "#2a3f5f"
            },
            "error_y": {
             "color": "#2a3f5f"
            },
            "marker": {
             "line": {
              "color": "#E5ECF6",
              "width": 0.5
             },
             "pattern": {
              "fillmode": "overlay",
              "size": 10,
              "solidity": 0.2
             }
            },
            "type": "bar"
           }
          ],
          "barpolar": [
           {
            "marker": {
             "line": {
              "color": "#E5ECF6",
              "width": 0.5
             },
             "pattern": {
              "fillmode": "overlay",
              "size": 10,
              "solidity": 0.2
             }
            },
            "type": "barpolar"
           }
          ],
          "carpet": [
           {
            "aaxis": {
             "endlinecolor": "#2a3f5f",
             "gridcolor": "white",
             "linecolor": "white",
             "minorgridcolor": "white",
             "startlinecolor": "#2a3f5f"
            },
            "baxis": {
             "endlinecolor": "#2a3f5f",
             "gridcolor": "white",
             "linecolor": "white",
             "minorgridcolor": "white",
             "startlinecolor": "#2a3f5f"
            },
            "type": "carpet"
           }
          ],
          "choropleth": [
           {
            "colorbar": {
             "outlinewidth": 0,
             "ticks": ""
            },
            "type": "choropleth"
           }
          ],
          "contour": [
           {
            "colorbar": {
             "outlinewidth": 0,
             "ticks": ""
            },
            "colorscale": [
             [
              0,
              "#0d0887"
             ],
             [
              0.1111111111111111,
              "#46039f"
             ],
             [
              0.2222222222222222,
              "#7201a8"
             ],
             [
              0.3333333333333333,
              "#9c179e"
             ],
             [
              0.4444444444444444,
              "#bd3786"
             ],
             [
              0.5555555555555556,
              "#d8576b"
             ],
             [
              0.6666666666666666,
              "#ed7953"
             ],
             [
              0.7777777777777778,
              "#fb9f3a"
             ],
             [
              0.8888888888888888,
              "#fdca26"
             ],
             [
              1,
              "#f0f921"
             ]
            ],
            "type": "contour"
           }
          ],
          "contourcarpet": [
           {
            "colorbar": {
             "outlinewidth": 0,
             "ticks": ""
            },
            "type": "contourcarpet"
           }
          ],
          "heatmap": [
           {
            "colorbar": {
             "outlinewidth": 0,
             "ticks": ""
            },
            "colorscale": [
             [
              0,
              "#0d0887"
             ],
             [
              0.1111111111111111,
              "#46039f"
             ],
             [
              0.2222222222222222,
              "#7201a8"
             ],
             [
              0.3333333333333333,
              "#9c179e"
             ],
             [
              0.4444444444444444,
              "#bd3786"
             ],
             [
              0.5555555555555556,
              "#d8576b"
             ],
             [
              0.6666666666666666,
              "#ed7953"
             ],
             [
              0.7777777777777778,
              "#fb9f3a"
             ],
             [
              0.8888888888888888,
              "#fdca26"
             ],
             [
              1,
              "#f0f921"
             ]
            ],
            "type": "heatmap"
           }
          ],
          "histogram": [
           {
            "marker": {
             "pattern": {
              "fillmode": "overlay",
              "size": 10,
              "solidity": 0.2
             }
            },
            "type": "histogram"
           }
          ],
          "histogram2d": [
           {
            "colorbar": {
             "outlinewidth": 0,
             "ticks": ""
            },
            "colorscale": [
             [
              0,
              "#0d0887"
             ],
             [
              0.1111111111111111,
              "#46039f"
             ],
             [
              0.2222222222222222,
              "#7201a8"
             ],
             [
              0.3333333333333333,
              "#9c179e"
             ],
             [
              0.4444444444444444,
              "#bd3786"
             ],
             [
              0.5555555555555556,
              "#d8576b"
             ],
             [
              0.6666666666666666,
              "#ed7953"
             ],
             [
              0.7777777777777778,
              "#fb9f3a"
             ],
             [
              0.8888888888888888,
              "#fdca26"
             ],
             [
              1,
              "#f0f921"
             ]
            ],
            "type": "histogram2d"
           }
          ],
          "histogram2dcontour": [
           {
            "colorbar": {
             "outlinewidth": 0,
             "ticks": ""
            },
            "colorscale": [
             [
              0,
              "#0d0887"
             ],
             [
              0.1111111111111111,
              "#46039f"
             ],
             [
              0.2222222222222222,
              "#7201a8"
             ],
             [
              0.3333333333333333,
              "#9c179e"
             ],
             [
              0.4444444444444444,
              "#bd3786"
             ],
             [
              0.5555555555555556,
              "#d8576b"
             ],
             [
              0.6666666666666666,
              "#ed7953"
             ],
             [
              0.7777777777777778,
              "#fb9f3a"
             ],
             [
              0.8888888888888888,
              "#fdca26"
             ],
             [
              1,
              "#f0f921"
             ]
            ],
            "type": "histogram2dcontour"
           }
          ],
          "mesh3d": [
           {
            "colorbar": {
             "outlinewidth": 0,
             "ticks": ""
            },
            "type": "mesh3d"
           }
          ],
          "parcoords": [
           {
            "line": {
             "colorbar": {
              "outlinewidth": 0,
              "ticks": ""
             }
            },
            "type": "parcoords"
           }
          ],
          "pie": [
           {
            "automargin": true,
            "type": "pie"
           }
          ],
          "scatter": [
           {
            "fillpattern": {
             "fillmode": "overlay",
             "size": 10,
             "solidity": 0.2
            },
            "type": "scatter"
           }
          ],
          "scatter3d": [
           {
            "line": {
             "colorbar": {
              "outlinewidth": 0,
              "ticks": ""
             }
            },
            "marker": {
             "colorbar": {
              "outlinewidth": 0,
              "ticks": ""
             }
            },
            "type": "scatter3d"
           }
          ],
          "scattercarpet": [
           {
            "marker": {
             "colorbar": {
              "outlinewidth": 0,
              "ticks": ""
             }
            },
            "type": "scattercarpet"
           }
          ],
          "scattergeo": [
           {
            "marker": {
             "colorbar": {
              "outlinewidth": 0,
              "ticks": ""
             }
            },
            "type": "scattergeo"
           }
          ],
          "scattergl": [
           {
            "marker": {
             "colorbar": {
              "outlinewidth": 0,
              "ticks": ""
             }
            },
            "type": "scattergl"
           }
          ],
          "scattermap": [
           {
            "marker": {
             "colorbar": {
              "outlinewidth": 0,
              "ticks": ""
             }
            },
            "type": "scattermap"
           }
          ],
          "scattermapbox": [
           {
            "marker": {
             "colorbar": {
              "outlinewidth": 0,
              "ticks": ""
             }
            },
            "type": "scattermapbox"
           }
          ],
          "scatterpolar": [
           {
            "marker": {
             "colorbar": {
              "outlinewidth": 0,
              "ticks": ""
             }
            },
            "type": "scatterpolar"
           }
          ],
          "scatterpolargl": [
           {
            "marker": {
             "colorbar": {
              "outlinewidth": 0,
              "ticks": ""
             }
            },
            "type": "scatterpolargl"
           }
          ],
          "scatterternary": [
           {
            "marker": {
             "colorbar": {
              "outlinewidth": 0,
              "ticks": ""
             }
            },
            "type": "scatterternary"
           }
          ],
          "surface": [
           {
            "colorbar": {
             "outlinewidth": 0,
             "ticks": ""
            },
            "colorscale": [
             [
              0,
              "#0d0887"
             ],
             [
              0.1111111111111111,
              "#46039f"
             ],
             [
              0.2222222222222222,
              "#7201a8"
             ],
             [
              0.3333333333333333,
              "#9c179e"
             ],
             [
              0.4444444444444444,
              "#bd3786"
             ],
             [
              0.5555555555555556,
              "#d8576b"
             ],
             [
              0.6666666666666666,
              "#ed7953"
             ],
             [
              0.7777777777777778,
              "#fb9f3a"
             ],
             [
              0.8888888888888888,
              "#fdca26"
             ],
             [
              1,
              "#f0f921"
             ]
            ],
            "type": "surface"
           }
          ],
          "table": [
           {
            "cells": {
             "fill": {
              "color": "#EBF0F8"
             },
             "line": {
              "color": "white"
             }
            },
            "header": {
             "fill": {
              "color": "#C8D4E3"
             },
             "line": {
              "color": "white"
             }
            },
            "type": "table"
           }
          ]
         },
         "layout": {
          "annotationdefaults": {
           "arrowcolor": "#2a3f5f",
           "arrowhead": 0,
           "arrowwidth": 1
          },
          "autotypenumbers": "strict",
          "coloraxis": {
           "colorbar": {
            "outlinewidth": 0,
            "ticks": ""
           }
          },
          "colorscale": {
           "diverging": [
            [
             0,
             "#8e0152"
            ],
            [
             0.1,
             "#c51b7d"
            ],
            [
             0.2,
             "#de77ae"
            ],
            [
             0.3,
             "#f1b6da"
            ],
            [
             0.4,
             "#fde0ef"
            ],
            [
             0.5,
             "#f7f7f7"
            ],
            [
             0.6,
             "#e6f5d0"
            ],
            [
             0.7,
             "#b8e186"
            ],
            [
             0.8,
             "#7fbc41"
            ],
            [
             0.9,
             "#4d9221"
            ],
            [
             1,
             "#276419"
            ]
           ],
           "sequential": [
            [
             0,
             "#0d0887"
            ],
            [
             0.1111111111111111,
             "#46039f"
            ],
            [
             0.2222222222222222,
             "#7201a8"
            ],
            [
             0.3333333333333333,
             "#9c179e"
            ],
            [
             0.4444444444444444,
             "#bd3786"
            ],
            [
             0.5555555555555556,
             "#d8576b"
            ],
            [
             0.6666666666666666,
             "#ed7953"
            ],
            [
             0.7777777777777778,
             "#fb9f3a"
            ],
            [
             0.8888888888888888,
             "#fdca26"
            ],
            [
             1,
             "#f0f921"
            ]
           ],
           "sequentialminus": [
            [
             0,
             "#0d0887"
            ],
            [
             0.1111111111111111,
             "#46039f"
            ],
            [
             0.2222222222222222,
             "#7201a8"
            ],
            [
             0.3333333333333333,
             "#9c179e"
            ],
            [
             0.4444444444444444,
             "#bd3786"
            ],
            [
             0.5555555555555556,
             "#d8576b"
            ],
            [
             0.6666666666666666,
             "#ed7953"
            ],
            [
             0.7777777777777778,
             "#fb9f3a"
            ],
            [
             0.8888888888888888,
             "#fdca26"
            ],
            [
             1,
             "#f0f921"
            ]
           ]
          },
          "colorway": [
           "#636efa",
           "#EF553B",
           "#00cc96",
           "#ab63fa",
           "#FFA15A",
           "#19d3f3",
           "#FF6692",
           "#B6E880",
           "#FF97FF",
           "#FECB52"
          ],
          "font": {
           "color": "#2a3f5f"
          },
          "geo": {
           "bgcolor": "white",
           "lakecolor": "white",
           "landcolor": "#E5ECF6",
           "showlakes": true,
           "showland": true,
           "subunitcolor": "white"
          },
          "hoverlabel": {
           "align": "left"
          },
          "hovermode": "closest",
          "mapbox": {
           "style": "light"
          },
          "paper_bgcolor": "white",
          "plot_bgcolor": "#E5ECF6",
          "polar": {
           "angularaxis": {
            "gridcolor": "white",
            "linecolor": "white",
            "ticks": ""
           },
           "bgcolor": "#E5ECF6",
           "radialaxis": {
            "gridcolor": "white",
            "linecolor": "white",
            "ticks": ""
           }
          },
          "scene": {
           "xaxis": {
            "backgroundcolor": "#E5ECF6",
            "gridcolor": "white",
            "gridwidth": 2,
            "linecolor": "white",
            "showbackground": true,
            "ticks": "",
            "zerolinecolor": "white"
           },
           "yaxis": {
            "backgroundcolor": "#E5ECF6",
            "gridcolor": "white",
            "gridwidth": 2,
            "linecolor": "white",
            "showbackground": true,
            "ticks": "",
            "zerolinecolor": "white"
           },
           "zaxis": {
            "backgroundcolor": "#E5ECF6",
            "gridcolor": "white",
            "gridwidth": 2,
            "linecolor": "white",
            "showbackground": true,
            "ticks": "",
            "zerolinecolor": "white"
           }
          },
          "shapedefaults": {
           "line": {
            "color": "#2a3f5f"
           }
          },
          "ternary": {
           "aaxis": {
            "gridcolor": "white",
            "linecolor": "white",
            "ticks": ""
           },
           "baxis": {
            "gridcolor": "white",
            "linecolor": "white",
            "ticks": ""
           },
           "bgcolor": "#E5ECF6",
           "caxis": {
            "gridcolor": "white",
            "linecolor": "white",
            "ticks": ""
           }
          },
          "title": {
           "x": 0.05
          },
          "xaxis": {
           "automargin": true,
           "gridcolor": "white",
           "linecolor": "white",
           "ticks": "",
           "title": {
            "standoff": 15
           },
           "zerolinecolor": "white",
           "zerolinewidth": 2
          },
          "yaxis": {
           "automargin": true,
           "gridcolor": "white",
           "linecolor": "white",
           "ticks": "",
           "title": {
            "standoff": 15
           },
           "zerolinecolor": "white",
           "zerolinewidth": 2
          }
         }
        },
        "title": {
         "text": "Query, Key, Value and Context Vector Space"
        },
        "width": 1000
       }
      }
     },
     "metadata": {},
     "output_type": "display_data"
    }
   ],
   "source": [
    "from plot_tokens import plot_tokens\n",
    "\n",
    "u_sentences = [\n",
    "  {\n",
    "    \"words\": q_of_sentence.detach().numpy(),\n",
    "    \"labels\": u_tokenizer.tokenize(prompt),\n",
    "    \"color\": \"blue\",\n",
    "  },\n",
    "  {\n",
    "    \"words\": k_of_sentence.detach().numpy(),\n",
    "    \"labels\": u_tokenizer.tokenize(prompt),\n",
    "    \"color\": \"purple\",\n",
    "  },\n",
    "  {\n",
    "    \"words\": v_of_sentence.detach().numpy(),\n",
    "    \"labels\": u_tokenizer.tokenize(prompt),\n",
    "    \"color\": \"orange\",\n",
    "  },\n",
    "  {\n",
    "    \"words\": context_vector.detach().numpy(),\n",
    "    \"labels\": u_tokenizer.tokenize(prompt),\n",
    "    \"color\": \"green\",\n",
    "  },\n",
    "]\n",
    "\n",
    "plot_tokens(u_sentences, \"Query, Key, Value and Context Vector Space\")"
   ]
  },
  {
   "cell_type": "markdown",
   "id": "ee149d6f",
   "metadata": {},
   "source": [
    "Causal Self Attention\n"
   ]
  },
  {
   "cell_type": "code",
   "execution_count": 7,
   "id": "3e735c2e",
   "metadata": {},
   "outputs": [
    {
     "data": {
      "text/plain": [
       "tensor([[0.1523, 0.1420, 0.1403, 0.1365, 0.1426, 0.1409, 0.1453],\n",
       "        [0.1387, 0.1418, 0.1436, 0.1480, 0.1426, 0.1449, 0.1405],\n",
       "        [0.1429, 0.1429, 0.1429, 0.1429, 0.1429, 0.1429, 0.1429],\n",
       "        [0.1516, 0.1439, 0.1411, 0.1342, 0.1431, 0.1393, 0.1467],\n",
       "        [0.1447, 0.1427, 0.1424, 0.1416, 0.1428, 0.1425, 0.1434],\n",
       "        [0.1472, 0.1427, 0.1417, 0.1396, 0.1428, 0.1418, 0.1442],\n",
       "        [0.1387, 0.1415, 0.1434, 0.1483, 0.1424, 0.1453, 0.1404]],\n",
       "       grad_fn=<SoftmaxBackward0>)"
      ]
     },
     "execution_count": 7,
     "metadata": {},
     "output_type": "execute_result"
    }
   ],
   "source": [
    "attention_weights"
   ]
  },
  {
   "attachments": {
    "image.png": {
     "image/png": "[encoded data removed]"
    }
   },
   "cell_type": "markdown",
   "id": "5d3c3cce",
   "metadata": {},
   "source": [
    "![image.png](attachment:image.png)"
   ]
  },
  {
   "cell_type": "code",
   "execution_count": 8,
   "id": "6c359932",
   "metadata": {},
   "outputs": [
    {
     "data": {
      "text/plain": [
       "tensor([[1., 0., 0., 0., 0., 0., 0.],\n",
       "        [1., 1., 0., 0., 0., 0., 0.],\n",
       "        [1., 1., 1., 0., 0., 0., 0.],\n",
       "        [1., 1., 1., 1., 0., 0., 0.],\n",
       "        [1., 1., 1., 1., 1., 0., 0.],\n",
       "        [1., 1., 1., 1., 1., 1., 0.],\n",
       "        [1., 1., 1., 1., 1., 1., 1.]])"
      ]
     },
     "execution_count": 8,
     "metadata": {},
     "output_type": "execute_result"
    }
   ],
   "source": [
    "mask = torch.tril(torch.ones(7, 7))\n",
    "mask"
   ]
  },
  {
   "cell_type": "code",
   "execution_count": 9,
   "id": "dba1a718",
   "metadata": {},
   "outputs": [
    {
     "data": {
      "text/plain": [
       "tensor([[-0.3115,    -inf,    -inf,    -inf,    -inf,    -inf,    -inf],\n",
       "        [ 0.5054,  0.6357,    -inf,    -inf,    -inf,    -inf,    -inf],\n",
       "        [-0.4618,  0.4607, -0.9321,    -inf,    -inf,    -inf,    -inf],\n",
       "        [ 1.1382, -0.0929,  0.7553, -0.3743,    -inf,    -inf,    -inf],\n",
       "        [-0.4400,  0.3497, -0.9797, -1.3293,  0.3908,    -inf,    -inf],\n",
       "        [ 1.1120, -0.9464,  1.6345,  1.2819,  0.4398, -0.4839,    -inf],\n",
       "        [-0.3545,  1.3506,  1.8432, -1.2497, -1.1859, -0.9494,  1.8357]])"
      ]
     },
     "execution_count": 9,
     "metadata": {},
     "output_type": "execute_result"
    }
   ],
   "source": [
    "attention_weights = torch.randn(7, 7)\n",
    "\n",
    "masked_attention_weights = attention_weights.masked_fill(mask == 0, -torch.inf)\n",
    "masked_attention_weights"
   ]
  },
  {
   "cell_type": "code",
   "execution_count": 10,
   "id": "020bac02",
   "metadata": {},
   "outputs": [
    {
     "data": {
      "text/plain": [
       "tensor([[1.0000, 0.0000, 0.0000, 0.0000, 0.0000, 0.0000, 0.0000],\n",
       "        [0.4675, 0.5325, 0.0000, 0.0000, 0.0000, 0.0000, 0.0000],\n",
       "        [0.2415, 0.6076, 0.1509, 0.0000, 0.0000, 0.0000, 0.0000],\n",
       "        [0.4558, 0.1331, 0.3108, 0.1004, 0.0000, 0.0000, 0.0000],\n",
       "        [0.1540, 0.3393, 0.0898, 0.0633, 0.3536, 0.0000, 0.0000],\n",
       "        [0.2122, 0.0271, 0.3578, 0.2515, 0.1083, 0.0430, 0.0000],\n",
       "        [0.0387, 0.2129, 0.3485, 0.0158, 0.0169, 0.0213, 0.3459]])"
      ]
     },
     "execution_count": 10,
     "metadata": {},
     "output_type": "execute_result"
    }
   ],
   "source": [
    "torch.softmax(masked_attention_weights, dim=1)"
   ]
  },
  {
   "cell_type": "code",
   "execution_count": 11,
   "id": "f06cf03a",
   "metadata": {},
   "outputs": [
    {
     "data": {
      "text/plain": [
       "tensor([[1.0000, 0.0000, 0.0000, 0.0000, 0.0000, 0.0000, 0.0000],\n",
       "        [0.4675, 0.5325, 0.0000, 0.0000, 0.0000, 0.0000, 0.0000],\n",
       "        [0.2415, 0.6076, 0.1509, 0.0000, 0.0000, 0.0000, 0.0000],\n",
       "        [0.4558, 0.1331, 0.3108, 0.1004, 0.0000, 0.0000, 0.0000],\n",
       "        [0.1540, 0.3393, 0.0898, 0.0633, 0.3536, 0.0000, 0.0000],\n",
       "        [0.2122, 0.0271, 0.3578, 0.2515, 0.1083, 0.0430, 0.0000],\n",
       "        [0.0387, 0.2129, 0.3485, 0.0158, 0.0169, 0.0213, 0.3459]])"
      ]
     },
     "execution_count": 11,
     "metadata": {},
     "output_type": "execute_result"
    }
   ],
   "source": [
    "mask = torch.tril(torch.ones(7, 7))\n",
    "masked_attention_weights = attention_weights.masked_fill(mask == 0, -torch.inf)\n",
    "masked_attention_weights\n",
    "\n",
    "softmaxed_attention_weights = torch.softmax(masked_attention_weights, dim=1)\n",
    "softmaxed_attention_weights"
   ]
  },
  {
   "cell_type": "code",
   "execution_count": 16,
   "id": "c8676bbe",
   "metadata": {},
   "outputs": [
    {
     "data": {
      "text/plain": [
       "tensor([[2.0000, 0.0000, 0.0000, 0.0000, 0.0000, 0.0000, 0.0000],\n",
       "        [0.0000, 0.0000, 0.0000, 0.0000, 0.0000, 0.0000, 0.0000],\n",
       "        [0.4830, 1.2151, 0.0000, 0.0000, 0.0000, 0.0000, 0.0000],\n",
       "        [0.0000, 0.0000, 0.0000, 0.0000, 0.0000, 0.0000, 0.0000],\n",
       "        [0.0000, 0.6786, 0.1796, 0.1266, 0.0000, 0.0000, 0.0000],\n",
       "        [0.4244, 0.0000, 0.7157, 0.5030, 0.2167, 0.0860, 0.0000],\n",
       "        [0.0774, 0.4259, 0.6970, 0.0316, 0.0000, 0.0427, 0.6917]])"
      ]
     },
     "execution_count": 16,
     "metadata": {},
     "output_type": "execute_result"
    }
   ],
   "source": [
    "dropout_rate = 0.5\n",
    "torch.manual_seed(1)\n",
    "dropout = torch.nn.Dropout(dropout_rate)\n",
    "dropout(softmaxed_attention_weights)"
   ]
  },
  {
   "cell_type": "code",
   "execution_count": 17,
   "id": "bdce165a",
   "metadata": {},
   "outputs": [
    {
     "data": {
      "text/plain": [
       "(torch.Size([4, 8]),\n",
       " tensor([[-0.9650,  0.4106, -0.5382, -0.2936, -0.6830, -1.7639, -0.2041,  0.1835],\n",
       "         [-0.1383, -0.8245,  0.7907,  0.2918,  0.6980,  1.1659,  1.2595, -0.0854],\n",
       "         [-0.1144, -0.9190,  0.8525,  0.3227,  0.4236,  0.4406,  0.6430,  0.0270],\n",
       "         [-0.2852, -0.6560,  0.5767,  0.1650,  0.0581, -0.2263,  0.2025,  0.1328]],\n",
       "        grad_fn=<CatBackward0>))"
      ]
     },
     "execution_count": 17,
     "metadata": {},
     "output_type": "execute_result"
    }
   ],
   "source": [
    "from usta_causal_attention import UstaCausalAttention\n",
    "\n",
    "import torch\n",
    "import torch.nn as nn\n",
    "\n",
    "class UstaMultiHeadAttention(nn.Module):\n",
    "  def __init__(self, embedding_dim, output_dim, context_length, num_heads, dropout_rate = 0):\n",
    "    super().__init__()\n",
    "\n",
    "    self.heads = nn.ModuleList(\n",
    "      [UstaCausalAttention(embedding_dim, output_dim, context_length, dropout_rate) for _ in range(num_heads)]\n",
    "    )\n",
    "\n",
    "  def forward(self, x):\n",
    "    attention_outs = []\n",
    "    for head in self.heads:\n",
    "      head_out = head(x)\n",
    "      attention_outs.append(head_out)\n",
    "\n",
    "    return torch.cat(attention_outs, dim=1)\n",
    "  \n",
    "multi_head_attention = UstaMultiHeadAttention(4, 4, 32, 2, dropout_rate=0)\n",
    "\n",
    "out = multi_head_attention(torch.randn(4, 4))\n",
    "out.shape, out"
   ]
  }
 ],
 "metadata": {
  "kernelspec": {
   "display_name": "LLM",
   "language": "python",
   "name": "python3"
  },
  "language_info": {
   "codemirror_mode": {
    "name": "ipython",
    "version": 3
   },
   "file_extension": ".py",
   "mimetype": "text/x-python",
   "name": "python",
   "nbconvert_exporter": "python",
   "pygments_lexer": "ipython3",
   "version": "3.11.13"
  }
 },
 "nbformat": 4,
 "nbformat_minor": 5
}
